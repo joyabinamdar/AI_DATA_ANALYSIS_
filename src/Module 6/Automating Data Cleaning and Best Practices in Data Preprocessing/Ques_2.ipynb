{
 "cells": [
  {
   "cell_type": "markdown",
   "metadata": {},
   "source": [
    "    Task: Complete Pipeline for a Dataset\n",
    "1. Objective: Build a complex pipeline with multiple transformations.\n",
    "2. Steps:\n",
    "    - Load a sample dataset.\n",
    "    - Define a transformation pipeline with both imputation and scaling."
   ]
  },
  {
   "cell_type": "code",
   "execution_count": 1,
   "metadata": {},
   "outputs": [
    {
     "name": "stdout",
     "output_type": "stream",
     "text": [
      "        age    income gender\n",
      "0 -1.767461 -1.224745      M\n",
      "1  0.000000 -0.816497      F\n",
      "2  0.062381  0.000000      F\n",
      "3  0.395080  0.408248      M\n",
      "4  1.310001  1.632993      F\n"
     ]
    }
   ],
   "source": [
    "# Write your code from here\n",
    "import pandas as pd\n",
    "from sklearn.pipeline import Pipeline\n",
    "from sklearn.impute import SimpleImputer\n",
    "from sklearn.preprocessing import StandardScaler\n",
    "\n",
    "def create_full_pipeline(impute_strategy='mean', scale=True):\n",
    "    \"\"\"\n",
    "    Create a pipeline that performs imputation followed by optional scaling.\n",
    "    \n",
    "    Args:\n",
    "        impute_strategy (str): Strategy for SimpleImputer ('mean', 'median', 'most_frequent', or 'constant')\n",
    "        scale (bool): Whether to apply StandardScaler after imputation\n",
    "    \n",
    "    Returns:\n",
    "        sklearn.pipeline.Pipeline: Configured pipeline\n",
    "    \"\"\"\n",
    "    steps = []\n",
    "    \n",
    "    # Imputation step\n",
    "    steps.append(('imputer', SimpleImputer(strategy=impute_strategy)))\n",
    "    \n",
    "    # Scaling step (optional)\n",
    "    if scale:\n",
    "        steps.append(('scaler', StandardScaler()))\n",
    "    \n",
    "    pipeline = Pipeline(steps)\n",
    "    return pipeline\n",
    "\n",
    "def apply_pipeline(df, features, impute_strategy='mean', scale=True):\n",
    "    \"\"\"\n",
    "    Apply the full pipeline to specified features in the dataframe.\n",
    "    \n",
    "    Args:\n",
    "        df (pd.DataFrame): Input dataframe\n",
    "        features (list): List of feature column names to transform\n",
    "        impute_strategy (str): Imputation strategy\n",
    "        scale (bool): Whether to scale after imputation\n",
    "        \n",
    "    Returns:\n",
    "        pd.DataFrame: DataFrame with transformed features replacing originals\n",
    "    \"\"\"\n",
    "    pipeline = create_full_pipeline(impute_strategy, scale)\n",
    "    transformed_data = pipeline.fit_transform(df[features])\n",
    "    \n",
    "    df_transformed = df.copy()\n",
    "    df_transformed[features] = transformed_data\n",
    "    return df_transformed\n",
    "\n",
    "# Example usage\n",
    "if __name__ == \"__main__\":\n",
    "    data = {\n",
    "        'age': [25, None, 47, 51, 62],\n",
    "        'income': [50000, 60000, None, 90000, 120000],\n",
    "        'gender': ['M', 'F', 'F', 'M', 'F']\n",
    "    }\n",
    "    df = pd.DataFrame(data)\n",
    "    numerical_features = ['age', 'income']\n",
    "\n",
    "    df_processed = apply_pipeline(df, numerical_features, impute_strategy='mean', scale=True)\n",
    "    print(df_processed)\n",
    "\n"
   ]
  },
  {
   "cell_type": "code",
   "execution_count": 2,
   "metadata": {},
   "outputs": [],
   "source": [
    "# Task: Imputation Function\n",
    "\n",
    "\n",
    "\n",
    "\n",
    "\n",
    "\n",
    "\n",
    "\n",
    "# Scaling Function\n",
    "\n",
    "\n",
    "\n",
    "\n",
    "\n",
    "\n",
    "\n",
    "\n",
    "\n",
    "# Combined Transformation Function\n",
    "\n",
    "\n",
    "\n",
    "\n",
    "\n",
    "\n",
    "\n"
   ]
  }
 ],
 "metadata": {
  "kernelspec": {
   "display_name": "Python 3",
   "language": "python",
   "name": "python3"
  },
  "language_info": {
   "codemirror_mode": {
    "name": "ipython",
    "version": 3
   },
   "file_extension": ".py",
   "mimetype": "text/x-python",
   "name": "python",
   "nbconvert_exporter": "python",
   "pygments_lexer": "ipython3",
   "version": "3.10.12"
  }
 },
 "nbformat": 4,
 "nbformat_minor": 2
}
