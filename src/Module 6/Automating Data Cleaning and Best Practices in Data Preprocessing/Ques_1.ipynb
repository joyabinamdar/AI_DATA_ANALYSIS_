{
 "cells": [
  {
   "cell_type": "markdown",
   "metadata": {},
   "source": [
    "## Automating Data Cleaning in Python"
   ]
  },
  {
   "cell_type": "markdown",
   "metadata": {
    "vscode": {
     "languageId": "plaintext"
    }
   },
   "source": [
    "    Task: Basic Pipeline with Scaling\n",
    "1. Objective: Create a pipeline that scales numerical features in a dataset.\n",
    "2. Steps:\n",
    "    - Load a sample dataset with Pandas.\n",
    "    - Define a pipeline using Pipeline from sklearn.pipeline .\n",
    "    - Use StandardScaler to scale features."
   ]
  },
  {
   "cell_type": "code",
   "execution_count": 3,
   "metadata": {},
   "outputs": [
    {
     "name": "stdout",
     "output_type": "stream",
     "text": [
      "        age    income gender\n",
      "0 -1.382872 -1.224745      M\n",
      "1 -0.856780 -0.816497      F\n",
      "2  0.270562  0.000000      F\n",
      "3  0.571186  0.408248      M\n",
      "4  1.397904  1.632993      F\n"
     ]
    }
   ],
   "source": [
    "import pandas as pd\n",
    "from sklearn.pipeline import Pipeline\n",
    "from sklearn.preprocessing import StandardScaler\n",
    "\n",
    "def create_scaling_pipeline():\n",
    "    \"\"\"\n",
    "    Creates a sklearn pipeline that applies StandardScaler to numerical features.\n",
    "    Returns:\n",
    "        pipeline (Pipeline): sklearn pipeline object with StandardScaler.\n",
    "    \"\"\"\n",
    "    pipeline = Pipeline([\n",
    "        ('scaler', StandardScaler())\n",
    "    ])\n",
    "    return pipeline\n",
    "\n",
    "def apply_scaling_pipeline(df, features):\n",
    "    \"\"\"\n",
    "    Applies the scaling pipeline to the specified features in the DataFrame.\n",
    "    Args:\n",
    "        df (pd.DataFrame): Input dataframe containing features to scale.\n",
    "        features (list): List of column names to scale.\n",
    "    Returns:\n",
    "        pd.DataFrame: DataFrame with scaled features replacing original columns.\n",
    "    \"\"\"\n",
    "    pipeline = create_scaling_pipeline()\n",
    "    scaled_features = pipeline.fit_transform(df[features])\n",
    "    df_scaled = df.copy()\n",
    "    df_scaled[features] = scaled_features\n",
    "    return df_scaled\n",
    "\n",
    "# Example usage:\n",
    "if __name__ == \"__main__\":\n",
    "    # Load sample data\n",
    "    data = {\n",
    "        'age': [25, 32, 47, 51, 62],\n",
    "        'income': [50000, 60000, 80000, 90000, 120000],\n",
    "        'gender': ['M', 'F', 'F', 'M', 'F']\n",
    "    }\n",
    "    df = pd.DataFrame(data)\n",
    "\n",
    "    numerical_features = ['age', 'income']\n",
    "\n",
    "    df_scaled = apply_scaling_pipeline(df, numerical_features)\n",
    "    print(df_scaled)\n",
    "\n",
    "# Note: For robustness, implement unit tests using unittest or pytest.\n",
    "# Tests should cover:\n",
    "# - Correct scaling of numerical columns\n",
    "# - Handling of missing or non-numeric data\n",
    "# - Behavior with empty or small datasets\n"
   ]
  },
  {
   "cell_type": "markdown",
   "metadata": {},
   "source": [
    "    Task: Pipeline with Imputation\n",
    "1. Objective: Automate data cleaning by handling missing values.\n",
    "2. Steps:\n",
    "    - Load a dataset with missing values.\n",
    "    - Define a pipeline to use SimpleImputer for filling missing values."
   ]
  },
  {
   "cell_type": "code",
   "execution_count": 4,
   "metadata": {},
   "outputs": [],
   "source": [
    "# Write your code from here"
   ]
  }
 ],
 "metadata": {
  "kernelspec": {
   "display_name": "Python 3",
   "language": "python",
   "name": "python3"
  },
  "language_info": {
   "codemirror_mode": {
    "name": "ipython",
    "version": 3
   },
   "file_extension": ".py",
   "mimetype": "text/x-python",
   "name": "python",
   "nbconvert_exporter": "python",
   "pygments_lexer": "ipython3",
   "version": "3.10.12"
  }
 },
 "nbformat": 4,
 "nbformat_minor": 2
}
