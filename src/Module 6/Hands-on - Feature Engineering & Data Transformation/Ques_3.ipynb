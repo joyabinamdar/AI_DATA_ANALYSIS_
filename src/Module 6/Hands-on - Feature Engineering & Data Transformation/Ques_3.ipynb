{
 "cells": [
  {
   "cell_type": "code",
   "execution_count": 1,
   "metadata": {},
   "outputs": [
    {
     "name": "stdout",
     "output_type": "stream",
     "text": [
      "Original Data:\n",
      "    Age  Salary  Gender Department\n",
      "0   25   50000    Male         HR\n",
      "1   32   60000  Female    Finance\n",
      "2   47   80000  Female         IT\n",
      "3   51   90000    Male    Finance\n",
      "4   62  120000  Female         IT\n"
     ]
    },
    {
     "ename": "TypeError",
     "evalue": "OneHotEncoder.__init__() got an unexpected keyword argument 'sparse'",
     "output_type": "error",
     "traceback": [
      "\u001b[0;31m---------------------------------------------------------------------------\u001b[0m",
      "\u001b[0;31mTypeError\u001b[0m                                 Traceback (most recent call last)",
      "Cell \u001b[0;32mIn[1], line 42\u001b[0m\n\u001b[1;32m     39\u001b[0m data[\u001b[38;5;124m'\u001b[39m\u001b[38;5;124mGender_encoded\u001b[39m\u001b[38;5;124m'\u001b[39m] \u001b[38;5;241m=\u001b[39m le\u001b[38;5;241m.\u001b[39mfit_transform(data[\u001b[38;5;124m'\u001b[39m\u001b[38;5;124mGender\u001b[39m\u001b[38;5;124m'\u001b[39m])\n\u001b[1;32m     41\u001b[0m \u001b[38;5;66;03m# One-Hot Encoding for 'Department'\u001b[39;00m\n\u001b[0;32m---> 42\u001b[0m ohe \u001b[38;5;241m=\u001b[39m \u001b[43mOneHotEncoder\u001b[49m\u001b[43m(\u001b[49m\u001b[43msparse\u001b[49m\u001b[38;5;241;43m=\u001b[39;49m\u001b[38;5;28;43;01mFalse\u001b[39;49;00m\u001b[43m)\u001b[49m\n\u001b[1;32m     43\u001b[0m department_encoded \u001b[38;5;241m=\u001b[39m ohe\u001b[38;5;241m.\u001b[39mfit_transform(data[[\u001b[38;5;124m'\u001b[39m\u001b[38;5;124mDepartment\u001b[39m\u001b[38;5;124m'\u001b[39m]])\n\u001b[1;32m     44\u001b[0m department_encoded_df \u001b[38;5;241m=\u001b[39m pd\u001b[38;5;241m.\u001b[39mDataFrame(department_encoded, columns\u001b[38;5;241m=\u001b[39mohe\u001b[38;5;241m.\u001b[39mget_feature_names_out([\u001b[38;5;124m'\u001b[39m\u001b[38;5;124mDepartment\u001b[39m\u001b[38;5;124m'\u001b[39m]))\n",
      "\u001b[0;31mTypeError\u001b[0m: OneHotEncoder.__init__() got an unexpected keyword argument 'sparse'"
     ]
    }
   ],
   "source": [
    "# Feature Scaling & Encoding\n",
    "\n",
    "# Objective: Learn to scale numerical features and encode categorical features for better model performance.\n",
    "# Instructions:\n",
    "# For each example, perform the following steps:\n",
    "#     1. Load the Dataset: Load the dataset into your environment.\n",
    "#     2. Feature Scaling: Apply scaling methods (StandardScaler or MinMaxScaler) to specified numerical columns.\n",
    "#     3. Feature Encoding: Apply encoding methods (One-Hot Encoding or Label Encoding) to specified categorical columns.\n",
    "#     4. Verify Changes: Check the data to ensure proper scaling and encoding. \n",
    "import pandas as pd\n",
    "from sklearn.preprocessing import StandardScaler, MinMaxScaler, OneHotEncoder, LabelEncoder\n",
    "\n",
    "# Step 1: Load the dataset\n",
    "# You can replace this with your own dataset\n",
    "data = pd.DataFrame({\n",
    "    'Age': [25, 32, 47, 51, 62],\n",
    "    'Salary': [50000, 60000, 80000, 90000, 120000],\n",
    "    'Gender': ['Male', 'Female', 'Female', 'Male', 'Female'],\n",
    "    'Department': ['HR', 'Finance', 'IT', 'Finance', 'IT']\n",
    "})\n",
    "\n",
    "print(\"Original Data:\\n\", data)\n",
    "\n",
    "# Step 2: Feature Scaling\n",
    "# Scaling numerical columns using StandardScaler and MinMaxScaler\n",
    "numerical_cols = ['Age', 'Salary']\n",
    "\n",
    "# Using StandardScaler\n",
    "scaler_standard = StandardScaler()\n",
    "data_standard_scaled = pd.DataFrame(scaler_standard.fit_transform(data[numerical_cols]), columns=[f\"{col}_std\" for col in numerical_cols])\n",
    "\n",
    "# Using MinMaxScaler\n",
    "scaler_minmax = MinMaxScaler()\n",
    "data_minmax_scaled = pd.DataFrame(scaler_minmax.fit_transform(data[numerical_cols]), columns=[f\"{col}_minmax\" for col in numerical_cols])\n",
    "\n",
    "# Step 3: Feature Encoding\n",
    "# Label Encoding for 'Gender'\n",
    "le = LabelEncoder()\n",
    "data['Gender_encoded'] = le.fit_transform(data['Gender'])\n",
    "\n",
    "# One-Hot Encoding for 'Department'\n",
    "ohe = OneHotEncoder(sparse=False)\n",
    "department_encoded = ohe.fit_transform(data[['Department']])\n",
    "department_encoded_df = pd.DataFrame(department_encoded, columns=ohe.get_feature_names_out(['Department']))\n",
    "\n",
    "# Step 4: Combine all processed columns\n",
    "final_data = pd.concat([data, data_standard_scaled, data_minmax_scaled, department_encoded_df], axis=1)\n",
    "\n",
    "print(\"\\nProcessed Data:\\n\", final_data)\n",
    "\n",
    "\n",
    "# Task:\n",
    "#   Dataset: car_features.csv (get it by your own it includes the columns of Mileage , Horsepower)\n",
    "    # Columns to scale: Mileage , Horsepower\n",
    "    # Column to encode: Fuel_Type\n",
    "    # Steps:\n",
    "    #     1. Load car_features.csv .\n",
    "    #     2. Scale Mileage and Horsepower using StandardScaler.\n",
    "    #     3. Encode Fuel_Type using Label Encoding.\n",
    "    #     4. Confirm scaling and encoding by checking these columns.\n",
    "\n",
    "\n",
    "\n",
    "    \n",
    "    \n",
    "    "
   ]
  }
 ],
 "metadata": {
  "kernelspec": {
   "display_name": "Python 3",
   "language": "python",
   "name": "python3"
  },
  "language_info": {
   "codemirror_mode": {
    "name": "ipython",
    "version": 3
   },
   "file_extension": ".py",
   "mimetype": "text/x-python",
   "name": "python",
   "nbconvert_exporter": "python",
   "pygments_lexer": "ipython3",
   "version": "3.10.12"
  }
 },
 "nbformat": 4,
 "nbformat_minor": 2
}
