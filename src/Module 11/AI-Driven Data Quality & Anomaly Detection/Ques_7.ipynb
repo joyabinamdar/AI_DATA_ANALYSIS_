{
 "cells": [
  {
   "cell_type": "markdown",
   "metadata": {},
   "source": [
    "### Using NLP for Text Data Quality\n",
    "**Objective**: Enhance text data quality using NLP techniques.\n",
    "\n",
    "**Task**: Handling Noisy Text Data\n",
    "\n",
    "**Steps**:\n",
    "1. Data Set: Obtain a dataset with customer reviews containing noise (e.g., random characters).\n",
    "2. Clean Data: Use regex patterns to clean the noise from text data.\n",
    "3. Evaluate: Compare the text before and after cleaning for noise."
   ]
  },
  {
   "cell_type": "code",
   "execution_count": 1,
   "metadata": {},
   "outputs": [
    {
     "name": "stdout",
     "output_type": "stream",
     "text": [
      "                       review     cleaned_review\n",
      "0            Great product!!!      Great product\n",
      "1         Worst product @@@!!      Worst product\n",
      "2  ##### Excellent service!!!  Excellent service\n",
      "3      Bad experience ### 123     Bad experience\n"
     ]
    }
   ],
   "source": [
    "# write your code from here\n",
    "import pandas as pd\n",
    "import re\n",
    "\n",
    "# Example dataset of customer reviews\n",
    "data = {'review': ['Great product!!!', 'Worst product @@@!!', '##### Excellent service!!!', 'Bad experience ### 123']}\n",
    "df = pd.DataFrame(data)\n",
    "\n",
    "# Function to clean the review text\n",
    "def clean_text(text):\n",
    "    # Remove non-alphabetic characters and extra spaces\n",
    "    cleaned_text = re.sub(r'[^a-zA-Z\\s]', '', text)  # Remove everything except letters and spaces\n",
    "    cleaned_text = re.sub(r'\\s+', ' ', cleaned_text)  # Replace multiple spaces with a single space\n",
    "    return cleaned_text.strip()\n",
    "\n",
    "# Apply the clean_text function to the review column\n",
    "df['cleaned_review'] = df['review'].apply(clean_text)\n",
    "\n",
    "# Show the before and after cleaning\n",
    "print(df)\n",
    "\n"
   ]
  }
 ],
 "metadata": {
  "kernelspec": {
   "display_name": "Python 3",
   "language": "python",
   "name": "python3"
  },
  "language_info": {
   "codemirror_mode": {
    "name": "ipython",
    "version": 3
   },
   "file_extension": ".py",
   "mimetype": "text/x-python",
   "name": "python",
   "nbconvert_exporter": "python",
   "pygments_lexer": "ipython3",
   "version": "3.10.12"
  }
 },
 "nbformat": 4,
 "nbformat_minor": 2
}
