{
 "cells": [
  {
   "cell_type": "markdown",
   "metadata": {},
   "source": [
    "### Using NLP for Text Data Quality\n",
    "**Objective**: Enhance text data quality using NLP techniques.\n",
    "\n",
    "**Task**: Spelling Corrections\n",
    "\n",
    "**Steps**:\n",
    "1. Data Set: Import a dataset containing text reviews with spelling errors.\n",
    "2. Apply Corrections: Use a spell-checker from an NLP library to correct spelling mistakes.\n",
    "3. Verify Improvements: Review the corrections to ensure data quality improvement."
   ]
  },
  {
   "cell_type": "code",
   "execution_count": 3,
   "metadata": {},
   "outputs": [
    {
     "name": "stdout",
     "output_type": "stream",
     "text": [
      "Original : This prodct is amazng and worth evry penny!\n",
      "Corrected: His product is amazing and worth very penny!\n",
      "------------------------------------------------------------\n",
      "Original : Batery life is terible, not recmmended.\n",
      "Corrected: Watery life is terrible, not recommended.\n",
      "------------------------------------------------------------\n",
      "Original : Exellent performnce and beautifull desgn.\n",
      "Corrected: Excellent performance and beautiful design.\n",
      "------------------------------------------------------------\n",
      "Original : The screen is dull and the camra is bad.\n",
      "Corrected: The screen is dull and the camera is bad.\n",
      "------------------------------------------------------------\n"
     ]
    }
   ],
   "source": [
    "\n",
    "from textblob import TextBlob\n",
    "import pandas as pd\n",
    "\n",
    "# Sample dataset with spelling errors\n",
    "data = {\n",
    "    'reviews': [\n",
    "        \"This prodct is amazng and worth evry penny!\",\n",
    "        \"Batery life is terible, not recmmended.\",\n",
    "        \"Exellent performnce and beautifull desgn.\",\n",
    "        \"The screen is dull and the camra is bad.\"\n",
    "    ]\n",
    "}\n",
    "df = pd.DataFrame(data)\n",
    "\n",
    "# Function to correct spelling\n",
    "def correct_spelling(text):\n",
    "    try:\n",
    "        if not isinstance(text, str):\n",
    "            return ''\n",
    "        return str(TextBlob(text).correct())\n",
    "    except Exception as e:\n",
    "        print(f\"Error correcting: {text} — {e}\")\n",
    "        return text\n",
    "\n",
    "# Apply correction\n",
    "df['corrected_reviews'] = df['reviews'].apply(correct_spelling)\n",
    "\n",
    "# Display original and corrected reviews\n",
    "for original, corrected in zip(df['reviews'], df['corrected_reviews']):\n",
    "    print(f\"Original : {original}\")\n",
    "    print(f\"Corrected: {corrected}\")\n",
    "    print('-' * 60)\n",
    "\n"
   ]
  }
 ],
 "metadata": {
  "kernelspec": {
   "display_name": "Python 3",
   "language": "python",
   "name": "python3"
  },
  "language_info": {
   "codemirror_mode": {
    "name": "ipython",
    "version": 3
   },
   "file_extension": ".py",
   "mimetype": "text/x-python",
   "name": "python",
   "nbconvert_exporter": "python",
   "pygments_lexer": "ipython3",
   "version": "3.10.12"
  }
 },
 "nbformat": 4,
 "nbformat_minor": 2
}
