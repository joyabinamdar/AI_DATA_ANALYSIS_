{
 "cells": [
  {
   "cell_type": "markdown",
   "metadata": {},
   "source": [
    "### Using NLP for Text Data Quality\n",
    "**Objective**: Enhance text data quality using NLP techniques.\n",
    "\n",
    "**Task**: Spelling Corrections\n",
    "\n",
    "**Steps**:\n",
    "1. Data Set: Import a dataset containing text reviews with spelling errors.\n",
    "2. Apply Corrections: Use a spell-checker from an NLP library to correct spelling mistakes.\n",
    "3. Verify Improvements: Review the corrections to ensure data quality improvement."
   ]
  },
  {
   "cell_type": "code",
   "execution_count": 1,
   "metadata": {},
   "outputs": [
    {
     "name": "stdout",
     "output_type": "stream",
     "text": [
      "\n",
      "\u001b[1m[\u001b[0m\u001b[34;49mnotice\u001b[0m\u001b[1;39;49m]\u001b[0m\u001b[39;49m A new release of pip is available: \u001b[0m\u001b[31;49m23.0.1\u001b[0m\u001b[39;49m -> \u001b[0m\u001b[32;49m25.1.1\u001b[0m\n",
      "\u001b[1m[\u001b[0m\u001b[34;49mnotice\u001b[0m\u001b[1;39;49m]\u001b[0m\u001b[39;49m To update, run: \u001b[0m\u001b[32;49mpip install --upgrade pip\u001b[0m\n"
     ]
    },
    {
     "name": "stderr",
     "output_type": "stream",
     "text": [
      "."
     ]
    },
    {
     "name": "stdout",
     "output_type": "stream",
     "text": [
      "Original : This prodct is amazng and worth evry penny!\n",
      "Corrected: His product is amazing and worth very penny!\n",
      "------------------------------------------------------------\n",
      "Original : Batery life is terible, not recmmended.\n",
      "Corrected: Watery life is terrible, not recommended.\n",
      "------------------------------------------------------------\n",
      "Original : Exellent performnce and beautifull desgn.\n",
      "Corrected: Excellent performance and beautiful design.\n",
      "------------------------------------------------------------\n",
      "Original : The screen is dull and the camra is bad.\n",
      "Corrected: The screen is dull and the camera is bad.\n",
      "------------------------------------------------------------\n"
     ]
    },
    {
     "name": "stderr",
     "output_type": "stream",
     "text": [
      "..F\n",
      "======================================================================\n",
      "FAIL: test_typical_sentence (__main__.TestSpellingCorrection)\n",
      "----------------------------------------------------------------------\n",
      "Traceback (most recent call last):\n",
      "  File \"/tmp/ipykernel_60129/1975256686.py\", line 49, in test_typical_sentence\n",
      "    self.assertIn(\"phone\", corrected)\n",
      "AssertionError: 'phone' not found in 'His is a great pine!'\n",
      "\n",
      "----------------------------------------------------------------------\n",
      "Ran 4 tests in 0.279s\n",
      "\n",
      "FAILED (failures=1)\n"
     ]
    },
    {
     "name": "stdout",
     "output_type": "stream",
     "text": [
      "TypeError: Input must be a string. — Skipping value: 12345\n"
     ]
    }
   ],
   "source": [
    "# Install required library\n",
    "!pip install -q textblob\n",
    "\n",
    "# Import necessary modules\n",
    "from textblob import TextBlob\n",
    "import pandas as pd\n",
    "import unittest\n",
    "\n",
    "# Sample dataset with spelling errors\n",
    "data = {\n",
    "    'reviews': [\n",
    "        \"This prodct is amazng and worth evry penny!\",\n",
    "        \"Batery life is terible, not recmmended.\",\n",
    "        \"Exellent performnce and beautifull desgn.\",\n",
    "        \"The screen is dull and the camra is bad.\"\n",
    "    ]\n",
    "}\n",
    "df = pd.DataFrame(data)\n",
    "\n",
    "# Improved function to correct spelling with better error handling\n",
    "def correct_spelling(text):\n",
    "    try:\n",
    "        if not isinstance(text, str):\n",
    "            raise TypeError(\"Input must be a string.\")\n",
    "        return str(TextBlob(text).correct())\n",
    "    except TypeError as te:\n",
    "        print(f\"TypeError: {te} — Skipping value: {text}\")\n",
    "        return ''\n",
    "    except Exception as e:\n",
    "        print(f\"Unexpected error while processing '{text}': {e}\")\n",
    "        return ''\n",
    "\n",
    "# Apply correction to the dataset\n",
    "df['corrected_reviews'] = df['reviews'].apply(correct_spelling)\n",
    "\n",
    "# Display original and corrected reviews\n",
    "for original, corrected in zip(df['reviews'], df['corrected_reviews']):\n",
    "    print(f\"Original : {original}\")\n",
    "    print(f\"Corrected: {corrected}\")\n",
    "    print('-' * 60)\n",
    "\n",
    "# Unit test for the spelling correction function\n",
    "class TestSpellingCorrection(unittest.TestCase):\n",
    "    \n",
    "    def test_typical_sentence(self):\n",
    "        text = \"This is a grreat phne!\"\n",
    "        corrected = correct_spelling(text)\n",
    "        self.assertIn(\"great\", corrected)\n",
    "        self.assertIn(\"phone\", corrected)\n",
    "    \n",
    "    def test_empty_string(self):\n",
    "        self.assertEqual(correct_spelling(\"\"), \"\")\n",
    "    \n",
    "    def test_non_string_input(self):\n",
    "        self.assertEqual(correct_spelling(12345), \"\")\n",
    "    \n",
    "    def test_large_input(self):\n",
    "        text = \"amazng \" * 1000  # Simulate long input\n",
    "        corrected = correct_spelling(text)\n",
    "        self.assertTrue(len(corrected) > 0)\n",
    "\n",
    "# Run unit tests\n",
    "if __name__ == \"__main__\":\n",
    "    unittest.main(argv=[''], exit=False)\n"
   ]
  }
 ],
 "metadata": {
  "kernelspec": {
   "display_name": "Python 3",
   "language": "python",
   "name": "python3"
  },
  "language_info": {
   "codemirror_mode": {
    "name": "ipython",
    "version": 3
   },
   "file_extension": ".py",
   "mimetype": "text/x-python",
   "name": "python",
   "nbconvert_exporter": "python",
   "pygments_lexer": "ipython3",
   "version": "3.10.12"
  }
 },
 "nbformat": 4,
 "nbformat_minor": 2
}
