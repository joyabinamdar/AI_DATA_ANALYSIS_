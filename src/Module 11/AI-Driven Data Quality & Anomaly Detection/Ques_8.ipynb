{
 "cells": [
  {
   "cell_type": "markdown",
   "metadata": {},
   "source": [
    "### Using NLP for Text Data Quality\n",
    "**Objective**: Enhance text data quality using NLP techniques.\n",
    "\n",
    "**Task**: Removing Stopwords\n",
    "\n",
    "**Steps**:\n",
    "1. Data Set: Use a dataset of text product descriptions.\n",
    "2. Stopword Removal: Utilize an NLP library (e.g., NLTK) to remove stopwords from the\n",
    "descriptions.\n",
    "3. Assess Impact: Examine the effectiveness by analyzing word frequency before and after\n",
    "removal."
   ]
  },
  {
   "cell_type": "code",
   "execution_count": 1,
   "metadata": {},
   "outputs": [
    {
     "ename": "NameError",
     "evalue": "name 'df' is not defined",
     "output_type": "error",
     "traceback": [
      "\u001b[0;31m---------------------------------------------------------------------------\u001b[0m",
      "\u001b[0;31mNameError\u001b[0m                                 Traceback (most recent call last)",
      "Cell \u001b[0;32mIn[1], line 11\u001b[0m\n\u001b[1;32m      9\u001b[0m         \u001b[38;5;28mprint\u001b[39m(\u001b[38;5;124mf\u001b[39m\u001b[38;5;124m\"\u001b[39m\u001b[38;5;124mError processing text: \u001b[39m\u001b[38;5;132;01m{\u001b[39;00mtext\u001b[38;5;132;01m}\u001b[39;00m\u001b[38;5;124m — \u001b[39m\u001b[38;5;132;01m{\u001b[39;00me\u001b[38;5;132;01m}\u001b[39;00m\u001b[38;5;124m\"\u001b[39m)\n\u001b[1;32m     10\u001b[0m         \u001b[38;5;28;01mreturn\u001b[39;00m \u001b[38;5;124m'\u001b[39m\u001b[38;5;124m'\u001b[39m\n\u001b[0;32m---> 11\u001b[0m \u001b[38;5;28;01mif\u001b[39;00m \u001b[43mdf\u001b[49m\u001b[38;5;241m.\u001b[39mempty:\n\u001b[1;32m     12\u001b[0m     \u001b[38;5;28;01mraise\u001b[39;00m \u001b[38;5;167;01mValueError\u001b[39;00m(\u001b[38;5;124m\"\u001b[39m\u001b[38;5;124mThe input DataFrame is empty.\u001b[39m\u001b[38;5;124m\"\u001b[39m)\n\u001b[1;32m     13\u001b[0m \u001b[38;5;28;01mimport\u001b[39;00m\u001b[38;5;250m \u001b[39m\u001b[38;5;21;01munittest\u001b[39;00m\n",
      "\u001b[0;31mNameError\u001b[0m: name 'df' is not defined"
     ]
    }
   ],
   "source": [
    "def remove_stopwords(text):\n",
    "    try:\n",
    "        if not isinstance(text, str):\n",
    "            return ''\n",
    "        word_tokens = word_tokenize(text.lower())\n",
    "        filtered_text = [word for word in word_tokens if word not in stop_words and word.isalpha()]\n",
    "        return \" \".join(filtered_text)\n",
    "    except Exception as e:\n",
    "        print(f\"Error processing text: {text} — {e}\")\n",
    "        return ''\n",
    "if df.empty:\n",
    "    raise ValueError(\"The input DataFrame is empty.\")\n",
    "import unittest\n",
    "\n",
    "class TestTextCleaning(unittest.TestCase):\n",
    "    \n",
    "    def test_remove_stopwords_normal(self):\n",
    "        text = \"This is a good product\"\n",
    "        result = remove_stopwords(text)\n",
    "        self.assertEqual(result, \"good product\")\n",
    "    \n",
    "    def test_remove_stopwords_empty(self):\n",
    "        result = remove_stopwords(\"\")\n",
    "        self.assertEqual(result, \"\")\n",
    "    \n",
    "    def test_remove_stopwords_nonstring(self):\n",
    "        result = remove_stopwords(12345)\n",
    "        self.assertEqual(result, \"\")\n",
    "    \n",
    "    def test_word_frequency(self):\n",
    "        texts = [\"good product\", \"good quality\", \"product quality\"]\n",
    "        freq = word_frequency(texts)\n",
    "        self.assertEqual(freq[\"good\"], 2)\n",
    "        self.assertEqual(freq[\"product\"], 2)\n",
    "        self.assertEqual(freq[\"quality\"], 2)\n",
    "\n",
    "if __name__ == \"__main__\":\n",
    "    unittest.main(argv=[''], exit=False)\n"
   ]
  }
 ],
 "metadata": {
  "kernelspec": {
   "display_name": "Python 3",
   "language": "python",
   "name": "python3"
  },
  "language_info": {
   "codemirror_mode": {
    "name": "ipython",
    "version": 3
   },
   "file_extension": ".py",
   "mimetype": "text/x-python",
   "name": "python",
   "nbconvert_exporter": "python",
   "pygments_lexer": "ipython3",
   "version": "3.10.12"
  }
 },
 "nbformat": 4,
 "nbformat_minor": 2
}
