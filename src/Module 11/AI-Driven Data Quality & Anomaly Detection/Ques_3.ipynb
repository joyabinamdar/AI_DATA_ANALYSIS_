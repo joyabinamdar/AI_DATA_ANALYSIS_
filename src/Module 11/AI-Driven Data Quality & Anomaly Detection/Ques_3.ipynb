{
 "cells": [
  {
   "cell_type": "markdown",
   "metadata": {},
   "source": [
    "# Automated Anomaly Detection\n",
    "**Objective**: Understand and practice automated anomaly detection using various techniques.\n",
    "\n",
    "**Task**: Autoencoders for Anomaly Detection\n",
    "\n",
    "**Steps**:\n",
    "1. Data Set: Download a dataset of electricity consumption data.\n",
    "2. Build an Autoencoder: Construct a simple autoencoder using a neural network for the\n",
    "normal consumption data.\n",
    "3. Identify Anomalies: Use the trained model to reconstruct the data and identify anomalies based on reconstruction error.\n",
    "4. Visualize: Plot both the actual and reconstructed data to highlight anomalies."
   ]
  },
  {
   "cell_type": "code",
   "execution_count": 2,
   "metadata": {},
   "outputs": [],
   "source": [
    "# Function to detect anomalies using the trained autoencoder\n",
    "def detect_anomalies(autoencoder, data, threshold_percentile=95):\n",
    "    try:\n",
    "        recon_error = np.mean(np.square(data - autoencoder.predict(data)), axis=1)\n",
    "        threshold = np.percentile(recon_error[:500], threshold_percentile)  # Use 95th percentile for threshold\n",
    "        anomalies = recon_error > threshold\n",
    "        return anomalies, recon_error\n",
    "    except Exception as e:\n",
    "        print(f\"Error in anomaly detection: {e}\")\n",
    "        return None, None\n",
    "\n",
    "# Unit test for autoencoder functionality\n",
    "def test_autoencoder():\n",
    "    # Test with known normal data\n",
    "    normal_data = np.random.normal(loc=300, scale=30, size=500)\n",
    "    scaled_data, _ = preprocess_data(normal_data)\n",
    "    autoencoder = build_autoencoder(1)\n",
    "    train_autoencoder(autoencoder, scaled_data, epochs=200)  # Increased epochs for better training\n",
    "\n",
    "    anomalies, _ = detect_anomalies(autoencoder, scaled_data)\n",
    "    # Allow a small margin of anomalies due to model imperfections (change assertion)\n",
    "    assert np.sum(anomalies) < 10, \"Autoencoder wrongly detected anomalies in normal data.\"\n",
    "\n",
    "    # Test with known anomalies\n",
    "    anomaly_data = np.concatenate([normal_data, np.random.normal(loc=500, scale=10, size=10)])\n",
    "    scaled_data, _ = preprocess_data(anomaly_data)\n",
    "    anomalies, _ = detect_anomalies(autoencoder, scaled_data)\n",
    "    assert np.sum(anomalies) > 0, \"Autoencoder failed to detect anomalies in anomalous data.\"\n",
    "\n",
    "    print(\"Unit tests passed!\")\n"
   ]
  }
 ],
 "metadata": {
  "kernelspec": {
   "display_name": "Python 3",
   "language": "python",
   "name": "python3"
  },
  "language_info": {
   "codemirror_mode": {
    "name": "ipython",
    "version": 3
   },
   "file_extension": ".py",
   "mimetype": "text/x-python",
   "name": "python",
   "nbconvert_exporter": "python",
   "pygments_lexer": "ipython3",
   "version": "3.10.12"
  }
 },
 "nbformat": 4,
 "nbformat_minor": 2
}
