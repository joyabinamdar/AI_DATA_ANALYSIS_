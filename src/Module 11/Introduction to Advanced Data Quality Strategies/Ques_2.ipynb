{
 "cells": [
  {
   "cell_type": "markdown",
   "metadata": {},
   "source": [
    "### Handling Unstructured Data with Python\n",
    "**Description**: Extract structured data from unstructured text using Python.\n",
    "\n",
    "**Steps**:\n",
    "1. Load and analyze an unstructured text document.\n",
    "2. Extract information using regex."
   ]
  },
  {
   "cell_type": "code",
   "execution_count": 1,
   "metadata": {},
   "outputs": [
    {
     "name": "stdout",
     "output_type": "stream",
     "text": [
      "Original Unstructured Text:\n",
      " \n",
      "John Doe, born on 12/08/1990, currently lives at 123 Main St, Springfield.\n",
      "Email: john.doe@example.com. Phone: (555) 123-4567.\n",
      "Jane Smith, DOB: 23-11-1985, resides at 456 Oak Avenue, Metropolis.\n",
      "Email: jane_smith@domain.org. Phone: 555-987-6543.\n",
      "\n",
      "\n",
      "Extracted Names: ['John Doe', 'Main St', 'Jane Smith', 'Oak Avenue']\n",
      "Extracted Dates: ['12/08/1990', '23-11-1985']\n",
      "Extracted Emails: ['john.doe@example.com', 'jane_smith@domain.org']\n",
      "Extracted Phone Numbers: ['(555) 123-4567', '555-987-6543']\n"
     ]
    }
   ],
   "source": [
    "# write your code from here\n",
    "import re\n",
    "\n",
    "text = \"\"\"\n",
    "John Doe, born on 12/08/1990, currently lives at 123 Main St, Springfield.\n",
    "Email: john.doe@example.com. Phone: (555) 123-4567.\n",
    "Jane Smith, DOB: 23-11-1985, resides at 456 Oak Avenue, Metropolis.\n",
    "Email: jane_smith@domain.org. Phone: 555-987-6543.\n",
    "\"\"\"\n",
    "\n",
    "print(\"Original Unstructured Text:\\n\", text)\n",
    "\n",
    "names = re.findall(r'\\b[A-Z][a-z]+\\s[A-Z][a-z]+\\b', text)\n",
    "dates = re.findall(r'\\b\\d{2}[/-]\\d{2}[/-]\\d{4}\\b', text)\n",
    "emails = re.findall(r'\\b[\\w.-]+@[\\w.-]+\\.\\w+\\b', text)\n",
    "phones = re.findall(r'\\(?\\d{3}\\)?[-.\\s]?\\d{3}[-.\\s]?\\d{4}', text)\n",
    "\n",
    "\n",
    "print(\"\\nExtracted Names:\", names)\n",
    "print(\"Extracted Dates:\", dates)\n",
    "print(\"Extracted Emails:\", emails)\n",
    "print(\"Extracted Phone Numbers:\", phones)\n"
   ]
  }
 ],
 "metadata": {
  "kernelspec": {
   "display_name": "Python 3",
   "language": "python",
   "name": "python3"
  },
  "language_info": {
   "codemirror_mode": {
    "name": "ipython",
    "version": 3
   },
   "file_extension": ".py",
   "mimetype": "text/x-python",
   "name": "python",
   "nbconvert_exporter": "python",
   "pygments_lexer": "ipython3",
   "version": "3.10.12"
  }
 },
 "nbformat": 4,
 "nbformat_minor": 2
}
