{
 "cells": [
  {
   "cell_type": "markdown",
   "metadata": {},
   "source": [
    "### Machine Learning for Data Quality Prediction\n",
    "**Description**: Use a machine learning model to predict data quality issues.\n",
    "\n",
    "**Steps**:\n",
    "1. Create a mock dataset with features and label (quality issue/label: 0: good, 1: issue).\n",
    "2. Train a machine learning model.\n",
    "3. Evaluate the model performance."
   ]
  },
  {
   "cell_type": "code",
   "execution_count": 1,
   "metadata": {},
   "outputs": [
    {
     "name": "stdout",
     "output_type": "stream",
     "text": [
      "   completeness  consistency  accuracy  duplicates  quality_issue\n",
      "0      0.374540     0.185133  0.261706           0              1\n",
      "1      0.950714     0.541901  0.246979           0              1\n",
      "2      0.731994     0.872946  0.906255           0              0\n",
      "3      0.598658     0.732225  0.249546           1              1\n",
      "4      0.156019     0.806561  0.271950           0              1\n",
      "Model Accuracy: 0.95\n",
      "\n",
      "Classification Report:\n",
      "              precision    recall  f1-score   support\n",
      "\n",
      "           0       0.00      0.00      0.00        10\n",
      "           1       0.95      1.00      0.97       190\n",
      "\n",
      "    accuracy                           0.95       200\n",
      "   macro avg       0.47      0.50      0.49       200\n",
      "weighted avg       0.90      0.95      0.93       200\n",
      "\n"
     ]
    },
    {
     "name": "stderr",
     "output_type": "stream",
     "text": [
      "/home/vscode/.local/lib/python3.10/site-packages/sklearn/metrics/_classification.py:1565: UndefinedMetricWarning: Precision is ill-defined and being set to 0.0 in labels with no predicted samples. Use `zero_division` parameter to control this behavior.\n",
      "  _warn_prf(average, modifier, f\"{metric.capitalize()} is\", len(result))\n",
      "/home/vscode/.local/lib/python3.10/site-packages/sklearn/metrics/_classification.py:1565: UndefinedMetricWarning: Precision is ill-defined and being set to 0.0 in labels with no predicted samples. Use `zero_division` parameter to control this behavior.\n",
      "  _warn_prf(average, modifier, f\"{metric.capitalize()} is\", len(result))\n",
      "/home/vscode/.local/lib/python3.10/site-packages/sklearn/metrics/_classification.py:1565: UndefinedMetricWarning: Precision is ill-defined and being set to 0.0 in labels with no predicted samples. Use `zero_division` parameter to control this behavior.\n",
      "  _warn_prf(average, modifier, f\"{metric.capitalize()} is\", len(result))\n"
     ]
    }
   ],
   "source": [
    "# write your code from here\n",
    "import pandas as pd\n",
    "import numpy as np\n",
    "\n",
    "# Seed for reproducibility\n",
    "np.random.seed(42)\n",
    "\n",
    "# Generate a mock dataset\n",
    "n_samples = 1000\n",
    "\n",
    "# Features\n",
    "completeness = np.random.uniform(0, 1, n_samples)  # Percentage of completeness\n",
    "consistency = np.random.uniform(0, 1, n_samples)  # Consistency score (0 = inconsistent, 1 = consistent)\n",
    "accuracy = np.random.uniform(0, 1, n_samples)  # Accuracy of data\n",
    "duplicates = np.random.randint(0, 2, n_samples)  # Binary feature for duplicates (0 = no, 1 = yes)\n",
    "\n",
    "# Label: 0 = good data quality, 1 = data quality issue\n",
    "quality_issue = (completeness < 0.7) | (consistency < 0.5) | (accuracy < 0.6) | (duplicates == 1)\n",
    "\n",
    "# Create a DataFrame\n",
    "df = pd.DataFrame({\n",
    "    'completeness': completeness,\n",
    "    'consistency': consistency,\n",
    "    'accuracy': accuracy,\n",
    "    'duplicates': duplicates,\n",
    "    'quality_issue': quality_issue.astype(int)  # 0 = good quality, 1 = issue\n",
    "})\n",
    "\n",
    "print(df.head())\n",
    "from sklearn.model_selection import train_test_split\n",
    "from sklearn.linear_model import LogisticRegression\n",
    "from sklearn.metrics import classification_report, accuracy_score\n",
    "\n",
    "# Split data into features and label\n",
    "X = df.drop('quality_issue', axis=1)\n",
    "y = df['quality_issue']\n",
    "\n",
    "# Split the dataset into training and test sets (80% train, 20% test)\n",
    "X_train, X_test, y_train, y_test = train_test_split(X, y, test_size=0.2, random_state=42)\n",
    "\n",
    "# Initialize the logistic regression model\n",
    "model = LogisticRegression()\n",
    "\n",
    "# Train the model\n",
    "model.fit(X_train, y_train)\n",
    "# Predict on the test set\n",
    "y_pred = model.predict(X_test)\n",
    "\n",
    "# Evaluate the model\n",
    "accuracy = accuracy_score(y_test, y_pred)\n",
    "print(f\"Model Accuracy: {accuracy:.2f}\")\n",
    "\n",
    "# Detailed classification report\n",
    "print(\"\\nClassification Report:\")\n",
    "print(classification_report(y_test, y_pred))\n"
   ]
  }
 ],
 "metadata": {
  "kernelspec": {
   "display_name": "Python 3",
   "language": "python",
   "name": "python3"
  },
  "language_info": {
   "codemirror_mode": {
    "name": "ipython",
    "version": 3
   },
   "file_extension": ".py",
   "mimetype": "text/x-python",
   "name": "python",
   "nbconvert_exporter": "python",
   "pygments_lexer": "ipython3",
   "version": "3.10.12"
  }
 },
 "nbformat": 4,
 "nbformat_minor": 2
}
