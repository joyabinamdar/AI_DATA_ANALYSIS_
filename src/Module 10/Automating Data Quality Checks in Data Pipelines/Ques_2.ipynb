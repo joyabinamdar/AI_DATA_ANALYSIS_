{
 "cells": [
  {
   "cell_type": "markdown",
   "metadata": {},
   "source": [
    "## Automated Data Quality Monitoring\n",
    "**Objective**: Use Great Expectations to perform data profiling and write validation rules.\n",
    "\n",
    "1. Data Profiling with Great Expectations\n",
    "### Profile a CSV dataset containing customer information to inspect distribution patterns of 'Age' and 'Income' columns.\n",
    "- Load the dataset using Great Expectations and create a data context.\n",
    "- Generate a data asset to inspect the summary statistics.\n",
    "- View the generated expectation suite to analyze data distributions."
   ]
  },
  {
   "cell_type": "code",
   "execution_count": 2,
   "metadata": {},
   "outputs": [
    {
     "name": "stdout",
     "output_type": "stream",
     "text": [
      "📦 Validating file...\n",
      "❌ Error occurred: File not found: data/customers.csv\n"
     ]
    }
   ],
   "source": [
    "import os\n",
    "import great_expectations as ge\n",
    "from great_expectations.data_context import FileDataContext\n",
    "from great_expectations.exceptions import GreatExpectationsError\n",
    "\n",
    "# === Configuration ===\n",
    "GE_PATH = \"great_expectations\"  # Change if your context is elsewhere\n",
    "CSV_PATH = \"data/customers.csv\"  # Path to your dataset\n",
    "CHECKPOINT_NAME = \"customer_checkpoint\"\n",
    "SUITE_NAME = \"customer_suite\"\n",
    "DATA_ASSET_NAME = \"customers.csv\"  # Should match your inferred asset name\n",
    "DATASOURCE_NAME = \"my_datasource\"\n",
    "CONNECTOR_NAME = \"default_inferred_data_connector_name\"\n",
    "\n",
    "\n",
    "# === Functions ===\n",
    "\n",
    "def validate_file_exists(filepath):\n",
    "    if not os.path.exists(filepath):\n",
    "        raise FileNotFoundError(f\"File not found: {filepath}\")\n",
    "\n",
    "def load_context(ge_path):\n",
    "    try:\n",
    "        return FileDataContext(ge_path)\n",
    "    except Exception as e:\n",
    "        raise RuntimeError(f\"Failed to load Great Expectations context: {e}\")\n",
    "\n",
    "def get_validator(context):\n",
    "    batch_request = {\n",
    "        \"datasource_name\": DATASOURCE_NAME,\n",
    "        \"data_connector_name\": CONNECTOR_NAME,\n",
    "        \"data_asset_name\": DATA_ASSET_NAME,\n",
    "    }\n",
    "\n",
    "    try:\n",
    "        validator = context.get_validator(\n",
    "            batch_request=batch_request,\n",
    "            expectation_suite_name=SUITE_NAME\n",
    "        )\n",
    "        return validator\n",
    "    except Exception as e:\n",
    "        raise RuntimeError(f\"Failed to get validator: {e}\")\n",
    "\n",
    "def define_expectations(validator):\n",
    "    # Example expectations\n",
    "    validator.expect_column_to_exist(\"Date\")\n",
    "    validator.expect_column_values_to_match_regex(\"Date\", r\"^\\d{4}-\\d{2}-\\d{2}$\")\n",
    "    validator.expect_column_values_to_be_between(\"Age\", 18, 100)\n",
    "    validator.expect_column_values_to_be_between(\"Income\", 10000, 1000000)\n",
    "\n",
    "    validator.save_expectation_suite()\n",
    "\n",
    "def run_checkpoint(context):\n",
    "    try:\n",
    "        result = context.run_checkpoint(checkpoint_name=CHECKPOINT_NAME)\n",
    "        if not result[\"success\"]:\n",
    "            raise ValueError(\"Data validation failed!\")\n",
    "        else:\n",
    "            print(\"✅ Validation passed.\")\n",
    "    except GreatExpectationsError as e:\n",
    "        raise RuntimeError(f\"GE-specific error: {e}\")\n",
    "    except Exception as e:\n",
    "        raise RuntimeError(f\"General validation error: {e}\")\n",
    "\n",
    "# === Main Execution ===\n",
    "\n",
    "if __name__ == \"__main__\":\n",
    "    try:\n",
    "        print(\"📦 Validating file...\")\n",
    "        validate_file_exists(CSV_PATH)\n",
    "\n",
    "        print(\"🧠 Loading Great Expectations context...\")\n",
    "        context = load_context(GE_PATH)\n",
    "\n",
    "        print(\"📊 Getting validator...\")\n",
    "        validator = get_validator(context)\n",
    "\n",
    "        print(\"✅ Defining expectations...\")\n",
    "        define_expectations(validator)\n",
    "\n",
    "        print(\"🚀 Running checkpoint...\")\n",
    "        run_checkpoint(context)\n",
    "\n",
    "        print(\"📈 Building Data Docs...\")\n",
    "        context.build_data_docs()\n",
    "        print(\"📂 Open Data Docs at: great_expectations/uncommitted/data_docs/local_site/index.html\")\n",
    "\n",
    "    except Exception as e:\n",
    "        print(f\"❌ Error occurred: {e}\")\n"
   ]
  },
  {
   "cell_type": "markdown",
   "metadata": {},
   "source": [
    "2. Writing Validation Rules for Data Ingestion\n",
    "### Write validation rules for a CSV file to ensure the 'Date' column follows a specific date format.\n",
    "- Utilize expect_column_values_to_match_regex to enforce date format validation.\n",
    "- Run the validation and interpret the output."
   ]
  },
  {
   "cell_type": "code",
   "execution_count": 3,
   "metadata": {},
   "outputs": [],
   "source": [
    "# write your code from here"
   ]
  }
 ],
 "metadata": {
  "kernelspec": {
   "display_name": "Python 3",
   "language": "python",
   "name": "python3"
  },
  "language_info": {
   "codemirror_mode": {
    "name": "ipython",
    "version": 3
   },
   "file_extension": ".py",
   "mimetype": "text/x-python",
   "name": "python",
   "nbconvert_exporter": "python",
   "pygments_lexer": "ipython3",
   "version": "3.10.12"
  }
 },
 "nbformat": 4,
 "nbformat_minor": 2
}
