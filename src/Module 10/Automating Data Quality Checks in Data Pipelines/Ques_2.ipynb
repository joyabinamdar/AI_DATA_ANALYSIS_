{
 "cells": [
  {
   "cell_type": "markdown",
   "metadata": {},
   "source": [
    "## Automated Data Quality Monitoring\n",
    "**Objective**: Use Great Expectations to perform data profiling and write validation rules.\n",
    "\n",
    "1. Data Profiling with Great Expectations\n",
    "### Profile a CSV dataset containing customer information to inspect distribution patterns of 'Age' and 'Income' columns.\n",
    "- Load the dataset using Great Expectations and create a data context.\n",
    "- Generate a data asset to inspect the summary statistics.\n",
    "- View the generated expectation suite to analyze data distributions."
   ]
  },
  {
   "cell_type": "code",
   "execution_count": 1,
   "metadata": {},
   "outputs": [
    {
     "ename": "ConfigNotFoundError",
     "evalue": "Error: No gx directory was found here!\n    - Please check that you are in the correct directory or have specified the correct directory.\n    - If you have never run Great Expectations in this project, please run `great_expectations init` to get started.\n",
     "output_type": "error",
     "traceback": [
      "\u001b[0;31m---------------------------------------------------------------------------\u001b[0m",
      "\u001b[0;31mConfigNotFoundError\u001b[0m                       Traceback (most recent call last)",
      "Cell \u001b[0;32mIn[1], line 5\u001b[0m\n\u001b[1;32m      2\u001b[0m \u001b[38;5;28;01mimport\u001b[39;00m \u001b[38;5;21;01mgreat_expectations\u001b[39;00m \u001b[38;5;28;01mas\u001b[39;00m \u001b[38;5;21;01mge\u001b[39;00m\n\u001b[1;32m      3\u001b[0m \u001b[38;5;28;01mfrom\u001b[39;00m \u001b[38;5;21;01mgreat_expectations\u001b[39;00m\u001b[38;5;21;01m.\u001b[39;00m\u001b[38;5;21;01mdata_context\u001b[39;00m \u001b[38;5;28;01mimport\u001b[39;00m FileDataContext\n\u001b[0;32m----> 5\u001b[0m context \u001b[38;5;241m=\u001b[39m \u001b[43mFileDataContext\u001b[49m\u001b[43m(\u001b[49m\u001b[38;5;124;43m\"\u001b[39;49m\u001b[38;5;124;43m/path/to/great_expectations\u001b[39;49m\u001b[38;5;124;43m\"\u001b[39;49m\u001b[43m)\u001b[49m\n\u001b[1;32m      7\u001b[0m \u001b[38;5;66;03m# Configure a batch request\u001b[39;00m\n\u001b[1;32m      8\u001b[0m batch_request \u001b[38;5;241m=\u001b[39m {\n\u001b[1;32m      9\u001b[0m     \u001b[38;5;124m\"\u001b[39m\u001b[38;5;124mdatasource_name\u001b[39m\u001b[38;5;124m\"\u001b[39m: \u001b[38;5;124m\"\u001b[39m\u001b[38;5;124mmy_datasource\u001b[39m\u001b[38;5;124m\"\u001b[39m,\n\u001b[1;32m     10\u001b[0m     \u001b[38;5;124m\"\u001b[39m\u001b[38;5;124mdata_connector_name\u001b[39m\u001b[38;5;124m\"\u001b[39m: \u001b[38;5;124m\"\u001b[39m\u001b[38;5;124mdefault_inferred_data_connector_name\u001b[39m\u001b[38;5;124m\"\u001b[39m,\n\u001b[1;32m     11\u001b[0m     \u001b[38;5;124m\"\u001b[39m\u001b[38;5;124mdata_asset_name\u001b[39m\u001b[38;5;124m\"\u001b[39m: \u001b[38;5;124m\"\u001b[39m\u001b[38;5;124mcustomers.csv\u001b[39m\u001b[38;5;124m\"\u001b[39m,  \u001b[38;5;66;03m# name as inferred during setup\u001b[39;00m\n\u001b[1;32m     12\u001b[0m }\n",
      "File \u001b[0;32m~/.local/lib/python3.10/site-packages/great_expectations/data_context/data_context/file_data_context.py:57\u001b[0m, in \u001b[0;36mFileDataContext.__init__\u001b[0;34m(self, project_config, context_root_dir, project_root_dir, runtime_environment, user_agent_str)\u001b[0m\n\u001b[1;32m     40\u001b[0m \u001b[38;5;28;01mdef\u001b[39;00m \u001b[38;5;21m__init__\u001b[39m(\n\u001b[1;32m     41\u001b[0m     \u001b[38;5;28mself\u001b[39m,\n\u001b[1;32m     42\u001b[0m     project_config: Optional[DataContextConfig] \u001b[38;5;241m=\u001b[39m \u001b[38;5;28;01mNone\u001b[39;00m,\n\u001b[0;32m   (...)\u001b[0m\n\u001b[1;32m     46\u001b[0m     user_agent_str: Optional[\u001b[38;5;28mstr\u001b[39m] \u001b[38;5;241m=\u001b[39m \u001b[38;5;28;01mNone\u001b[39;00m,\n\u001b[1;32m     47\u001b[0m ) \u001b[38;5;241m-\u001b[39m\u001b[38;5;241m>\u001b[39m \u001b[38;5;28;01mNone\u001b[39;00m:\n\u001b[1;32m     48\u001b[0m \u001b[38;5;250m    \u001b[39m\u001b[38;5;124;03m\"\"\"FileDataContext constructor\u001b[39;00m\n\u001b[1;32m     49\u001b[0m \n\u001b[1;32m     50\u001b[0m \u001b[38;5;124;03m    Args:\u001b[39;00m\n\u001b[0;32m   (...)\u001b[0m\n\u001b[1;32m     55\u001b[0m \u001b[38;5;124;03m            config_variables.yml and the environment\u001b[39;00m\n\u001b[1;32m     56\u001b[0m \u001b[38;5;124;03m    \"\"\"\u001b[39;00m  \u001b[38;5;66;03m# noqa: E501 # FIXME CoP\u001b[39;00m\n\u001b[0;32m---> 57\u001b[0m     \u001b[38;5;28mself\u001b[39m\u001b[38;5;241m.\u001b[39m_context_root_directory \u001b[38;5;241m=\u001b[39m \u001b[38;5;28;43mself\u001b[39;49m\u001b[38;5;241;43m.\u001b[39;49m\u001b[43m_init_context_root_directory\u001b[49m\u001b[43m(\u001b[49m\n\u001b[1;32m     58\u001b[0m \u001b[43m        \u001b[49m\u001b[43mcontext_root_dir\u001b[49m\u001b[38;5;241;43m=\u001b[39;49m\u001b[43mcontext_root_dir\u001b[49m\u001b[43m,\u001b[49m\n\u001b[1;32m     59\u001b[0m \u001b[43m        \u001b[49m\u001b[43mproject_root_dir\u001b[49m\u001b[38;5;241;43m=\u001b[39;49m\u001b[43mproject_root_dir\u001b[49m\u001b[43m,\u001b[49m\n\u001b[1;32m     60\u001b[0m \u001b[43m    \u001b[49m\u001b[43m)\u001b[49m\n\u001b[1;32m     61\u001b[0m     \u001b[38;5;28mself\u001b[39m\u001b[38;5;241m.\u001b[39m_scaffold_project()\n\u001b[1;32m     63\u001b[0m     \u001b[38;5;28mself\u001b[39m\u001b[38;5;241m.\u001b[39m_project_config \u001b[38;5;241m=\u001b[39m \u001b[38;5;28mself\u001b[39m\u001b[38;5;241m.\u001b[39m_init_project_config(project_config)\n",
      "File \u001b[0;32m~/.local/lib/python3.10/site-packages/great_expectations/data_context/data_context/file_data_context.py:86\u001b[0m, in \u001b[0;36mFileDataContext._init_context_root_directory\u001b[0;34m(self, context_root_dir, project_root_dir)\u001b[0m\n\u001b[1;32m     83\u001b[0m     context_root_dir \u001b[38;5;241m=\u001b[39m \u001b[38;5;28mstr\u001b[39m(context_root_dir)\n\u001b[1;32m     85\u001b[0m \u001b[38;5;28;01mif\u001b[39;00m \u001b[38;5;129;01mnot\u001b[39;00m context_root_dir:\n\u001b[0;32m---> 86\u001b[0m     context_root_dir \u001b[38;5;241m=\u001b[39m \u001b[38;5;28;43mself\u001b[39;49m\u001b[38;5;241;43m.\u001b[39;49m\u001b[43mfind_context_root_dir\u001b[49m\u001b[43m(\u001b[49m\u001b[43m)\u001b[49m\n\u001b[1;32m     88\u001b[0m \u001b[38;5;28;01mreturn\u001b[39;00m context_root_dir\n",
      "File \u001b[0;32m~/.local/lib/python3.10/site-packages/great_expectations/data_context/data_context/serializable_data_context.py:303\u001b[0m, in \u001b[0;36mSerializableDataContext.find_context_root_dir\u001b[0;34m(cls)\u001b[0m\n\u001b[1;32m    300\u001b[0m         result \u001b[38;5;241m=\u001b[39m os\u001b[38;5;241m.\u001b[39mpath\u001b[38;5;241m.\u001b[39mdirname(yml_path)  \u001b[38;5;66;03m# noqa: PTH120 # FIXME CoP\u001b[39;00m\n\u001b[1;32m    302\u001b[0m \u001b[38;5;28;01mif\u001b[39;00m result \u001b[38;5;129;01mis\u001b[39;00m \u001b[38;5;28;01mNone\u001b[39;00m:\n\u001b[0;32m--> 303\u001b[0m     \u001b[38;5;28;01mraise\u001b[39;00m gx_exceptions\u001b[38;5;241m.\u001b[39mConfigNotFoundError()\n\u001b[1;32m    305\u001b[0m logger\u001b[38;5;241m.\u001b[39mdebug(\u001b[38;5;124mf\u001b[39m\u001b[38;5;124m\"\u001b[39m\u001b[38;5;124mUsing project config: \u001b[39m\u001b[38;5;132;01m{\u001b[39;00myml_path\u001b[38;5;132;01m}\u001b[39;00m\u001b[38;5;124m\"\u001b[39m)\n\u001b[1;32m    306\u001b[0m \u001b[38;5;28;01mreturn\u001b[39;00m result\n",
      "\u001b[0;31mConfigNotFoundError\u001b[0m: Error: No gx directory was found here!\n    - Please check that you are in the correct directory or have specified the correct directory.\n    - If you have never run Great Expectations in this project, please run `great_expectations init` to get started.\n"
     ]
    }
   ],
   "source": [
    "# write your code from here\n",
    "import great_expectations as ge\n",
    "from great_expectations.data_context import FileDataContext\n",
    "\n",
    "context = FileDataContext(\"/path/to/great_expectations\")\n",
    "\n",
    "# Configure a batch request\n",
    "batch_request = {\n",
    "    \"datasource_name\": \"my_datasource\",\n",
    "    \"data_connector_name\": \"default_inferred_data_connector_name\",\n",
    "    \"data_asset_name\": \"customers.csv\",  # name as inferred during setup\n",
    "}\n",
    "\n",
    "# Profile the dataset\n",
    "validator = context.get_validator(\n",
    "    batch_request=batch_request,\n",
    "    expectation_suite_name=\"customer_profile_suite\"\n",
    ")\n",
    "\n",
    "# Explore statistics\n",
    "validator.get_expectation_suite().expectations\n",
    "\n",
    "# Optional: Save the suite\n",
    "validator.save_expectation_suite(discard_failed_expectations=False)\n",
    "\n",
    "# Build Data Docs (for viewing in browser)\n",
    "context.build_data_docs()\n"
   ]
  },
  {
   "cell_type": "markdown",
   "metadata": {},
   "source": [
    "2. Writing Validation Rules for Data Ingestion\n",
    "### Write validation rules for a CSV file to ensure the 'Date' column follows a specific date format.\n",
    "- Utilize expect_column_values_to_match_regex to enforce date format validation.\n",
    "- Run the validation and interpret the output."
   ]
  },
  {
   "cell_type": "code",
   "execution_count": null,
   "metadata": {},
   "outputs": [],
   "source": [
    "# write your code from here"
   ]
  }
 ],
 "metadata": {
  "kernelspec": {
   "display_name": "Python 3",
   "language": "python",
   "name": "python3"
  },
  "language_info": {
   "codemirror_mode": {
    "name": "ipython",
    "version": 3
   },
   "file_extension": ".py",
   "mimetype": "text/x-python",
   "name": "python",
   "nbconvert_exporter": "python",
   "pygments_lexer": "ipython3",
   "version": "3.10.12"
  }
 },
 "nbformat": 4,
 "nbformat_minor": 2
}
