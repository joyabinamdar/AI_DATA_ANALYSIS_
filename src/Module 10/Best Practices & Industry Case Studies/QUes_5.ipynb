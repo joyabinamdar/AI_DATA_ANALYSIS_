{
 "cells": [
  {
   "cell_type": "markdown",
   "metadata": {},
   "source": [
    "### Implementing Basic Data Validation with Great Expectations\n",
    "**Description**: Set up a simple data validation using Great Expectations to check the completeness of a dataset.\n",
    "\n",
    "**Steps**:\n",
    "1. Installation\n",
    "2. Initialize Great Expectations\n",
    "3. Create a Data Context in Python\n",
    "4. Create an Expectation Suite\n",
    "5. Load Sample Data and Validate Completeness\n",
    "6. Run Validations"
   ]
  },
  {
   "cell_type": "code",
   "execution_count": null,
   "metadata": {},
   "outputs": [],
   "source": [
    "# write your code from here\n",
    "import sys\n",
    "import subprocess\n",
    "\n",
    "# Install Great Expectations if not already installed\n",
    "try:\n",
    "    import great_expectations as ge\n",
    "except ImportError:\n",
    "    subprocess.check_call([sys.executable, \"-m\", \"pip\", \"install\", \"great_expectations\"])\n",
    "    import great_expectations as ge\n",
    "\n",
    "import pandas as pd\n",
    "\n",
    "def validate_completeness(filepath, required_fields):\n",
    "    # Load data\n",
    "    df = pd.read_csv(filepath)\n",
    "    print(f\"Loaded data with {len(df)} rows and columns: {list(df.columns)}\")\n",
    "\n",
    "    # Convert to Great Expectations dataset\n",
    "    ge_df = ge.from_pandas(df)\n",
    "\n",
    "    # Add expectations for completeness (no nulls)\n",
    "    for col in required_fields:\n",
    "        if col in df.columns:\n",
    "            ge_df.expect_column_values_to_not_be_null(col)\n",
    "        else:\n",
    "            print(f\"Warning: Column '{col}' not found in data\")\n",
    "\n",
    "    # Validate dataset\n",
    "    results = ge_df.validate()\n",
    "    \n",
    "    # Print summary of validation results\n",
    "    print(\"\\nValidation Results Summary:\")\n",
    "    for res in results[\"results\"]:\n",
    "        expectation_type = res[\"expectation_config\"][\"expectation_type\"]\n",
    "        column = res[\"expectation_config\"][\"kwargs\"].get(\"column\")\n",
    "        success = res[\"success\"]\n",
    "        print(f\" - Expectation: {expectation_type} on column '{column}': {'PASS' if success else 'FAIL'}\")\n",
    "    \n",
    "    return results\n",
    "\n",
    "if __name__ == \"__main__\":\n",
    "    # Customize this to your CSV file and required fields\n",
    "    file_path = \"customer_data.csv\"\n",
    "    required_columns = [\"name\", \"address\", \"email\", \"phone_number\"]\n",
    "\n",
    "    validate_completeness(file_path, required_columns)\n"
   ]
  }
 ],
 "metadata": {
  "kernelspec": {
   "display_name": "Python 3",
   "language": "python",
   "name": "python3"
  },
  "language_info": {
   "name": "python",
   "version": "3.10.12"
  }
 },
 "nbformat": 4,
 "nbformat_minor": 2
}
