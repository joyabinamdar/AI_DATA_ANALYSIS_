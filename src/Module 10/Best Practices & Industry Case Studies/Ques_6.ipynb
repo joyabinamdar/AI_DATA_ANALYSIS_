{
 "cells": [
  {
   "cell_type": "markdown",
   "metadata": {},
   "source": [
    "### Basic ML Model Monitoring with MLFlow\n",
    "**Description**: Set up a basic ML model monitoring pipeline using MLFlow to track experiment parameters and results.\n",
    "\n",
    "**Steps**:\n",
    "1. Installation\n",
    "2. Set Up MLFlow Tracking\n",
    "3. Training a Simple Model\n",
    "4. Logging Model and Metrics\n",
    "5. View Logged Data\n",
    "    - Access the MLFlow UI to view your logged parameters, metrics, and models."
   ]
  },
  {
   "cell_type": "code",
   "execution_count": 2,
   "metadata": {},
   "outputs": [
    {
     "ename": "ModuleNotFoundError",
     "evalue": "No module named 'mlflow_monitoring'",
     "output_type": "error",
     "traceback": [
      "\u001b[0;31m---------------------------------------------------------------------------\u001b[0m",
      "\u001b[0;31mModuleNotFoundError\u001b[0m                       Traceback (most recent call last)",
      "Cell \u001b[0;32mIn[2], line 2\u001b[0m\n\u001b[1;32m      1\u001b[0m \u001b[38;5;28;01mimport\u001b[39;00m \u001b[38;5;21;01munittest\u001b[39;00m\n\u001b[0;32m----> 2\u001b[0m \u001b[38;5;28;01mfrom\u001b[39;00m \u001b[38;5;21;01mmlflow_monitoring\u001b[39;00m \u001b[38;5;28;01mimport\u001b[39;00m load_data, train_model, evaluate_model\n\u001b[1;32m      3\u001b[0m \u001b[38;5;28;01mfrom\u001b[39;00m \u001b[38;5;21;01msklearn\u001b[39;00m\u001b[38;5;21;01m.\u001b[39;00m\u001b[38;5;21;01mensemble\u001b[39;00m \u001b[38;5;28;01mimport\u001b[39;00m RandomForestClassifier\n\u001b[1;32m      4\u001b[0m \u001b[38;5;28;01mimport\u001b[39;00m \u001b[38;5;21;01mnumpy\u001b[39;00m \u001b[38;5;28;01mas\u001b[39;00m \u001b[38;5;21;01mnp\u001b[39;00m\n",
      "\u001b[0;31mModuleNotFoundError\u001b[0m: No module named 'mlflow_monitoring'"
     ]
    }
   ],
   "source": [
    "import unittest\n",
    "from mlflow_monitoring import load_data, train_model, evaluate_model\n",
    "from sklearn.ensemble import RandomForestClassifier\n",
    "import numpy as np\n",
    "\n",
    "class TestMLFlowMonitoring(unittest.TestCase):\n",
    "\n",
    "    def test_load_data(self):\n",
    "        X_train, X_test, y_train, y_test = load_data(test_size=0.3)\n",
    "        self.assertEqual(len(X_train) + len(X_test), 150)\n",
    "        self.assertAlmostEqual(len(X_test)/150, 0.3, places=2)\n",
    "\n",
    "    def test_train_model_returns_model(self):\n",
    "        X_train, _, y_train, _ = load_data()\n",
    "        model = train_model(X_train, y_train, n_estimators=10)\n",
    "        self.assertIsInstance(model, RandomForestClassifier)\n",
    "\n",
    "    def test_evaluate_model_accuracy_range(self):\n",
    "        X_train, X_test, y_train, y_test = load_data()\n",
    "        model = train_model(X_train, y_train)\n",
    "        accuracy = evaluate_model(model, X_test, y_test)\n",
    "        self.assertIsInstance(accuracy, float)\n",
    "        self.assertGreaterEqual(accuracy, 0.0)\n",
    "        self.assertLessEqual(accuracy, 1.0)\n",
    "\n",
    "if __name__ == '__main__':\n",
    "    unittest.main()\n"
   ]
  }
 ],
 "metadata": {
  "kernelspec": {
   "display_name": "Python 3",
   "language": "python",
   "name": "python3"
  },
  "language_info": {
   "codemirror_mode": {
    "name": "ipython",
    "version": 3
   },
   "file_extension": ".py",
   "mimetype": "text/x-python",
   "name": "python",
   "nbconvert_exporter": "python",
   "pygments_lexer": "ipython3",
   "version": "3.10.12"
  }
 },
 "nbformat": 4,
 "nbformat_minor": 2
}
