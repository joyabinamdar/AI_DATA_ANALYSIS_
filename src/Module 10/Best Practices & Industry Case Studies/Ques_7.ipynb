{
 "cells": [
  {
   "cell_type": "markdown",
   "metadata": {},
   "source": [
    "### Implementing and Logging an ML Experiment with MLFlow\n",
    "**Description**: Train an ML model for an e-commerce recommendation engine using MLFlow to track models and experiments.\n",
    "\n",
    "**Steps**:\n",
    "1. MLFlow Integration Setup\n",
    "2. Training the Model\n",
    "3. Logging the Experiment\n",
    "4. Accessing MLFlow UI"
   ]
  },
  {
   "cell_type": "code",
   "execution_count": 1,
   "metadata": {},
   "outputs": [
    {
     "name": "stderr",
     "output_type": "stream",
     "text": [
      "2025/05/22 09:53:45 INFO mlflow.tracking.fluent: Experiment with name 'Ecommerce_Recommendation' does not exist. Creating a new experiment.\n",
      "/home/vscode/.local/lib/python3.10/site-packages/sklearn/metrics/_classification.py:1565: UndefinedMetricWarning: Recall is ill-defined and being set to 0.0 due to no true samples. Use `zero_division` parameter to control this behavior.\n",
      "  _warn_prf(average, modifier, f\"{metric.capitalize()} is\", len(result))\n",
      "\u001b[31m2025/05/22 09:54:07 WARNING mlflow.models.model: Model logged without a signature and input example. Please set `input_example` parameter when logging the model to auto infer the model signature.\u001b[0m\n"
     ]
    },
    {
     "name": "stdout",
     "output_type": "stream",
     "text": [
      "Model logged with accuracy: 0.5000, precision: 0.0000, recall: 0.0000\n"
     ]
    }
   ],
   "source": [
    "# write your code from here\n",
    "import mlflow\n",
    "import mlflow.sklearn\n",
    "from sklearn.model_selection import train_test_split\n",
    "from sklearn.ensemble import RandomForestClassifier\n",
    "from sklearn.metrics import accuracy_score, precision_score, recall_score\n",
    "import pandas as pd\n",
    "\n",
    "def load_data():\n",
    "    \"\"\"\n",
    "    Load or create a sample dataset for recommendations.\n",
    "    For demonstration, we'll create synthetic data with features and a binary target.\n",
    "    \"\"\"\n",
    "    # Example synthetic data: user-item interaction features & label if purchased\n",
    "    data = {\n",
    "        'user_id': [1, 2, 3, 4, 5, 6, 7, 8],\n",
    "        'item_id': [101, 102, 103, 104, 105, 106, 107, 108],\n",
    "        'interaction_count': [10, 5, 3, 8, 2, 0, 1, 4],\n",
    "        'time_spent_seconds': [300, 120, 60, 200, 30, 10, 15, 90],\n",
    "        'purchased': [1, 0, 0, 1, 0, 0, 0, 1]  # target label\n",
    "    }\n",
    "    df = pd.DataFrame(data)\n",
    "    return df\n",
    "\n",
    "def train_and_log_model(df):\n",
    "    # Prepare features and target\n",
    "    X = df[['interaction_count', 'time_spent_seconds']]\n",
    "    y = df['purchased']\n",
    "\n",
    "    X_train, X_test, y_train, y_test = train_test_split(X, y, test_size=0.25, random_state=42)\n",
    "\n",
    "    # Set up MLflow experiment\n",
    "    mlflow.set_experiment(\"Ecommerce_Recommendation\")\n",
    "\n",
    "    with mlflow.start_run():\n",
    "        # Train model\n",
    "        model = RandomForestClassifier(n_estimators=10, random_state=42)\n",
    "        model.fit(X_train, y_train)\n",
    "\n",
    "        # Predict & evaluate\n",
    "        y_pred = model.predict(X_test)\n",
    "        accuracy = accuracy_score(y_test, y_pred)\n",
    "        precision = precision_score(y_test, y_pred)\n",
    "        recall = recall_score(y_test, y_pred)\n",
    "\n",
    "        # Log parameters, metrics, and model\n",
    "        mlflow.log_param(\"n_estimators\", 10)\n",
    "        mlflow.log_param(\"random_state\", 42)\n",
    "        mlflow.log_metric(\"accuracy\", accuracy)\n",
    "        mlflow.log_metric(\"precision\", precision)\n",
    "        mlflow.log_metric(\"recall\", recall)\n",
    "        mlflow.sklearn.log_model(model, \"recommendation_model\")\n",
    "\n",
    "        print(f\"Model logged with accuracy: {accuracy:.4f}, precision: {precision:.4f}, recall: {recall:.4f}\")\n",
    "\n",
    "if __name__ == \"__main__\":\n",
    "    df = load_data()\n",
    "    train_and_log_model(df)\n"
   ]
  }
 ],
 "metadata": {
  "kernelspec": {
   "display_name": "Python 3",
   "language": "python",
   "name": "python3"
  },
  "language_info": {
   "codemirror_mode": {
    "name": "ipython",
    "version": 3
   },
   "file_extension": ".py",
   "mimetype": "text/x-python",
   "name": "python",
   "nbconvert_exporter": "python",
   "pygments_lexer": "ipython3",
   "version": "3.10.12"
  }
 },
 "nbformat": 4,
 "nbformat_minor": 2
}
