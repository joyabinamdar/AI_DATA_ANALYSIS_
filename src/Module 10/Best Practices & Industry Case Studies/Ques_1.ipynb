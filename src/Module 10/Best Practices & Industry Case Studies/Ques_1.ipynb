{
 "cells": [
  {
   "cell_type": "markdown",
   "metadata": {},
   "source": [
    "## Defining Data Quality SLAs\n",
    "### Data Completeness\n",
    "**Description**: Set an SLA that ensures that 95% of data fields in your dataset are filled (non-null values). Practice by checking a dataset of your choice and calculate its completeness."
   ]
  },
  {
   "cell_type": "code",
   "execution_count": 1,
   "metadata": {},
   "outputs": [
    {
     "name": "stdout",
     "output_type": "stream",
     "text": [
      "Data Completeness: 80.00%\n",
      "❌ SLA NOT met: Completeness is below 95%\n"
     ]
    }
   ],
   "source": [
    "# write your code from here\n",
    "import pandas as pd\n",
    "\n",
    "# Sample dataset (you can replace this with your own)\n",
    "data = {\n",
    "    'id': [1, 2, 3, 4, 5],\n",
    "    'name': ['Alice', 'Bob', None, 'David', 'Eva'],\n",
    "    'age': [25, None, 35, 40, None],\n",
    "    'email': ['a@example.com', None, 'c@example.com', 'd@example.com', 'e@example.com']\n",
    "}\n",
    "df = pd.DataFrame(data)\n",
    "\n",
    "# Calculate completeness\n",
    "total_values = df.size  # total cells\n",
    "non_null_values = df.count().sum()  # total non-null cells\n",
    "completeness_percentage = (non_null_values / total_values) * 100\n",
    "\n",
    "# Print results\n",
    "print(f\"Data Completeness: {completeness_percentage:.2f}%\")\n",
    "\n",
    "# Check against SLA threshold (95%)\n",
    "sla_threshold = 95\n",
    "if completeness_percentage >= sla_threshold:\n",
    "    print(\"✅ SLA met: Completeness is above or equal to 95%\")\n",
    "else:\n",
    "    print(\"❌ SLA NOT met: Completeness is below 95%\")\n"
   ]
  },
  {
   "cell_type": "markdown",
   "metadata": {},
   "source": [
    "### Data Timeliness:\n",
    "**Description**: Establish an SLA that specifies that data should be integrated and processed within 24 hours of acquisition. Monitor the data pipeline for timeliness."
   ]
  },
  {
   "cell_type": "code",
   "execution_count": 2,
   "metadata": {},
   "outputs": [],
   "source": [
    "# write your code from here"
   ]
  },
  {
   "cell_type": "markdown",
   "metadata": {},
   "source": [
    "### Data Consistency:\n",
    "**Description**: Define an SLA for maintaining consistency across various related datasets. Implement a check to ensure that 99% of data entries are consistent."
   ]
  },
  {
   "cell_type": "code",
   "execution_count": 3,
   "metadata": {},
   "outputs": [],
   "source": [
    "# write your code from here"
   ]
  }
 ],
 "metadata": {
  "kernelspec": {
   "display_name": "Python 3",
   "language": "python",
   "name": "python3"
  },
  "language_info": {
   "codemirror_mode": {
    "name": "ipython",
    "version": 3
   },
   "file_extension": ".py",
   "mimetype": "text/x-python",
   "name": "python",
   "nbconvert_exporter": "python",
   "pygments_lexer": "ipython3",
   "version": "3.10.12"
  }
 },
 "nbformat": 4,
 "nbformat_minor": 2
}
