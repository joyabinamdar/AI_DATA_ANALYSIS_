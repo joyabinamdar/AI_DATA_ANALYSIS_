{
 "cells": [
  {
   "cell_type": "markdown",
   "metadata": {},
   "source": [
    "## Defining Data Quality SLAs\n",
    "### Data Completeness\n",
    "**Description**: Set an SLA that ensures that 95% of data fields in your dataset are filled (non-null values). Practice by checking a dataset of your choice and calculate its completeness."
   ]
  },
  {
   "cell_type": "code",
   "execution_count": 6,
   "metadata": {},
   "outputs": [
    {
     "name": "stdout",
     "output_type": "stream",
     "text": [
      "All unit tests passed.\n"
     ]
    }
   ],
   "source": [
    "import pandas as pd\n",
    "\n",
    "def calculate_completeness(df: pd.DataFrame) -> float:\n",
    "    if not isinstance(df, pd.DataFrame):\n",
    "        raise ValueError(\"Input must be a pandas DataFrame.\")\n",
    "    if df.empty:\n",
    "        raise ValueError(\"DataFrame is empty.\")\n",
    "    \n",
    "    total_cells = df.size\n",
    "    non_null_cells = df.count().sum()\n",
    "    completeness = (non_null_cells / total_cells) * 100\n",
    "    return round(completeness, 2)\n",
    "\n",
    "def check_completeness_against_sla(completeness: float, threshold: float = 95.0) -> str:\n",
    "    return \"✅ SLA met\" if completeness >= threshold else \"❌ SLA NOT met\"\n",
    "\n",
    "def run_completeness_check(df: pd.DataFrame, threshold: float = 95.0):\n",
    "    try:\n",
    "        completeness = calculate_completeness(df)\n",
    "        result = check_completeness_against_sla(completeness, threshold)\n",
    "        print(f\"Data Completeness: {completeness:.2f}%\")\n",
    "        print(result)\n",
    "    except Exception as e:\n",
    "        print(f\"Error during SLA check: {e}\")\n",
    "\n",
    "def test_completeness():\n",
    "    df_valid = pd.DataFrame({\n",
    "        'A': [1, 2, 3],\n",
    "        'B': [4, None, 6]\n",
    "    })\n",
    "    df_empty = pd.DataFrame()\n",
    "    df_invalid = \"Not a DataFrame\"\n",
    "\n",
    "    # Should be around 83.33%\n",
    "    assert calculate_completeness(df_valid) == 83.33\n",
    "\n",
    "    try:\n",
    "        calculate_completeness(df_empty)\n",
    "        assert False, \"Expected ValueError for empty DataFrame\"\n",
    "    except ValueError:\n",
    "        pass\n",
    "\n",
    "    try:\n",
    "        calculate_completeness(df_invalid)\n",
    "        assert False, \"Expected ValueError for invalid input\"\n",
    "    except ValueError:\n",
    "        pass\n",
    "\n",
    "    print(\"All unit tests passed.\")\n",
    "\n",
    "# Run tests\n",
    "test_completeness()\n"
   ]
  },
  {
   "cell_type": "markdown",
   "metadata": {},
   "source": [
    "### Data Timeliness:\n",
    "**Description**: Establish an SLA that specifies that data should be integrated and processed within 24 hours of acquisition. Monitor the data pipeline for timeliness."
   ]
  },
  {
   "cell_type": "code",
   "execution_count": 7,
   "metadata": {},
   "outputs": [],
   "source": [
    "# write your code from here"
   ]
  },
  {
   "cell_type": "markdown",
   "metadata": {},
   "source": [
    "### Data Consistency:\n",
    "**Description**: Define an SLA for maintaining consistency across various related datasets. Implement a check to ensure that 99% of data entries are consistent."
   ]
  },
  {
   "cell_type": "code",
   "execution_count": 8,
   "metadata": {},
   "outputs": [],
   "source": [
    "# write your code from here"
   ]
  }
 ],
 "metadata": {
  "kernelspec": {
   "display_name": "Python 3",
   "language": "python",
   "name": "python3"
  },
  "language_info": {
   "codemirror_mode": {
    "name": "ipython",
    "version": 3
   },
   "file_extension": ".py",
   "mimetype": "text/x-python",
   "name": "python",
   "nbconvert_exporter": "python",
   "pygments_lexer": "ipython3",
   "version": "3.10.12"
  }
 },
 "nbformat": 4,
 "nbformat_minor": 2
}
