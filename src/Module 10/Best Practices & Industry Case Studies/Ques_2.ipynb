{
 "cells": [
  {
   "cell_type": "markdown",
   "metadata": {},
   "source": [
    "## Implementing ML Model Monitoring Pipelines\n",
    "\n",
    "### Model Performance Drift:\n",
    "**Description**: Setup a monitoring pipeline to track key performance metrics (e.g., accuracy, precision) of an ML model over time using a monitoring tool or dashboard."
   ]
  },
  {
   "cell_type": "code",
   "execution_count": 1,
   "metadata": {},
   "outputs": [
    {
     "name": "stdout",
     "output_type": "stream",
     "text": [
      "Logged metrics: {'timestamp': '2025-05-22 09:03:42', 'accuracy': 0.7142857142857143, 'precision': 0.75, 'recall': 0.75, 'f1_score': 0.75}\n"
     ]
    }
   ],
   "source": [
    "# write your code from here\n",
    "import pandas as pd\n",
    "from sklearn.metrics import accuracy_score, precision_score, recall_score, f1_score\n",
    "from datetime import datetime\n",
    "import os\n",
    "\n",
    "def monitor_model_performance(predictions_df, metric_log_file='metrics_log.csv'):\n",
    "    \"\"\"\n",
    "    Compute performance metrics for model predictions and log them over time.\n",
    "\n",
    "    Parameters:\n",
    "        predictions_df (pd.DataFrame): Must contain 'y_true' and 'y_pred' columns.\n",
    "        metric_log_file (str): Path to CSV log file storing past metrics.\n",
    "\n",
    "    Returns:\n",
    "        dict: Calculated metrics for the current batch.\n",
    "    \"\"\"\n",
    "    if not {'y_true', 'y_pred'}.issubset(predictions_df.columns):\n",
    "        raise ValueError(\"Input dataframe must contain 'y_true' and 'y_pred' columns.\")\n",
    "\n",
    "    # Compute metrics\n",
    "    metrics = {\n",
    "        'timestamp': datetime.now().strftime('%Y-%m-%d %H:%M:%S'),\n",
    "        'accuracy': accuracy_score(predictions_df['y_true'], predictions_df['y_pred']),\n",
    "        'precision': precision_score(predictions_df['y_true'], predictions_df['y_pred'], zero_division=0),\n",
    "        'recall': recall_score(predictions_df['y_true'], predictions_df['y_pred'], zero_division=0),\n",
    "        'f1_score': f1_score(predictions_df['y_true'], predictions_df['y_pred'], zero_division=0)\n",
    "    }\n",
    "\n",
    "    # Append metrics to a CSV log\n",
    "    metrics_df = pd.DataFrame([metrics])\n",
    "    if os.path.exists(metric_log_file):\n",
    "        metrics_df.to_csv(metric_log_file, mode='a', header=False, index=False)\n",
    "    else:\n",
    "        metrics_df.to_csv(metric_log_file, index=False)\n",
    "\n",
    "    return metrics\n",
    "\n",
    "# Example usage\n",
    "if __name__ == \"__main__\":\n",
    "    # Simulated batch results\n",
    "    data = {\n",
    "        'y_true': [1, 0, 1, 1, 0, 1, 0],\n",
    "        'y_pred': [1, 0, 1, 0, 0, 1, 1]\n",
    "    }\n",
    "    df = pd.DataFrame(data)\n",
    "    result = monitor_model_performance(df)\n",
    "    print(\"Logged metrics:\", result)\n"
   ]
  },
  {
   "cell_type": "markdown",
   "metadata": {},
   "source": [
    "### Feature Distribution Drift:\n",
    "**Description**: Monitor the distribution of your input features in deployed models to detect any significant shifts from training data distributions."
   ]
  },
  {
   "cell_type": "code",
   "execution_count": 2,
   "metadata": {},
   "outputs": [],
   "source": [
    "# write your code from here"
   ]
  },
  {
   "cell_type": "markdown",
   "metadata": {},
   "source": [
    "### Anomaly Detection in Predictions:\n",
    "**DEscription**: Implement an anomaly detection mechanism to flag unusual model\n",
    "predictions. Simulate anomalies by altering input data."
   ]
  },
  {
   "cell_type": "code",
   "execution_count": 3,
   "metadata": {},
   "outputs": [],
   "source": [
    "# write your code from here"
   ]
  }
 ],
 "metadata": {
  "kernelspec": {
   "display_name": "Python 3",
   "language": "python",
   "name": "python3"
  },
  "language_info": {
   "codemirror_mode": {
    "name": "ipython",
    "version": 3
   },
   "file_extension": ".py",
   "mimetype": "text/x-python",
   "name": "python",
   "nbconvert_exporter": "python",
   "pygments_lexer": "ipython3",
   "version": "3.10.12"
  }
 },
 "nbformat": 4,
 "nbformat_minor": 2
}
