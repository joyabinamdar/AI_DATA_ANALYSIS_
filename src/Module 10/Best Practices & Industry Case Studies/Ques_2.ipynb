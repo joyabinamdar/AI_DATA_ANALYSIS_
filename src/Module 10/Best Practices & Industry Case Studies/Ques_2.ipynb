{
 "cells": [
  {
   "cell_type": "markdown",
   "metadata": {},
   "source": [
    "## Implementing ML Model Monitoring Pipelines\n",
    "\n",
    "### Model Performance Drift:\n",
    "**Description**: Setup a monitoring pipeline to track key performance metrics (e.g., accuracy, precision) of an ML model over time using a monitoring tool or dashboard."
   ]
  },
  {
   "cell_type": "code",
   "execution_count": 4,
   "metadata": {},
   "outputs": [],
   "source": [
    "import pandas as pd\n",
    "from sklearn.metrics import accuracy_score, precision_score, recall_score, f1_score\n",
    "from datetime import datetime\n",
    "import os\n",
    "\n",
    "def monitor_model_performance(predictions_df, metric_log_file='metrics_log.csv'):\n",
    "    \"\"\"\n",
    "    Computes and logs performance metrics of an ML model.\n",
    "\n",
    "    Parameters:\n",
    "        predictions_df (pd.DataFrame): Must include 'y_true' and 'y_pred' columns.\n",
    "        metric_log_file (str): Filepath to append the metrics log.\n",
    "\n",
    "    Returns:\n",
    "        dict: Dictionary of computed metrics.\n",
    "    \"\"\"\n",
    "\n",
    "    # Check for required columns\n",
    "    required_columns = {'y_true', 'y_pred'}\n",
    "    if not required_columns.issubset(predictions_df.columns):\n",
    "        raise ValueError(f\"Missing required columns: {required_columns - set(predictions_df.columns)}\")\n",
    "\n",
    "    # Check if columns are numeric or boolean\n",
    "    for col in required_columns:\n",
    "        if not pd.api.types.is_numeric_dtype(predictions_df[col]) and not pd.api.types.is_bool_dtype(predictions_df[col]):\n",
    "            raise TypeError(f\"Column '{col}' must contain numeric or boolean values\")\n",
    "\n",
    "    # Check for empty dataframe\n",
    "    if predictions_df.empty:\n",
    "        raise ValueError(\"The input DataFrame is empty\")\n",
    "\n",
    "    # Drop NA rows and warn\n",
    "    if predictions_df[required_columns].isnull().values.any():\n",
    "        predictions_df = predictions_df.dropna(subset=required_columns)\n",
    "        if predictions_df.empty:\n",
    "            raise ValueError(\"All rows contain NaNs in required columns\")\n",
    "\n",
    "    # Compute metrics\n",
    "    metrics = {\n",
    "        'timestamp': datetime.now().strftime('%Y-%m-%d %H:%M:%S'),\n",
    "        'accuracy': accuracy_score(predictions_df['y_true'], predictions_df['y_pred']),\n",
    "        'precision': precision_score(predictions_df['y_true'], predictions_df['y_pred'], zero_division=0),\n",
    "        'recall': recall_score(predictions_df['y_true'], predictions_df['y_pred'], zero_division=0),\n",
    "        'f1_score': f1_score(predictions_df['y_true'], predictions_df['y_pred'], zero_division=0)\n",
    "    }\n",
    "\n",
    "    # Save metrics to CSV file\n",
    "    metrics_df = pd.DataFrame([metrics])\n",
    "    if os.path.exists(metric_log_file):\n",
    "        metrics_df.to_csv(metric_log_file, mode='a', header=False, index=False)\n",
    "    else:\n",
    "        metrics_df.to_csv(metric_log_file, index=False)\n",
    "\n",
    "    return metrics\n"
   ]
  },
  {
   "cell_type": "markdown",
   "metadata": {},
   "source": [
    "### Feature Distribution Drift:\n",
    "**Description**: Monitor the distribution of your input features in deployed models to detect any significant shifts from training data distributions."
   ]
  },
  {
   "cell_type": "code",
   "execution_count": 5,
   "metadata": {},
   "outputs": [],
   "source": [
    "# write your code from here"
   ]
  },
  {
   "cell_type": "markdown",
   "metadata": {},
   "source": [
    "### Anomaly Detection in Predictions:\n",
    "**DEscription**: Implement an anomaly detection mechanism to flag unusual model\n",
    "predictions. Simulate anomalies by altering input data."
   ]
  },
  {
   "cell_type": "code",
   "execution_count": 6,
   "metadata": {},
   "outputs": [],
   "source": [
    "# write your code from here"
   ]
  }
 ],
 "metadata": {
  "kernelspec": {
   "display_name": "Python 3",
   "language": "python",
   "name": "python3"
  },
  "language_info": {
   "codemirror_mode": {
    "name": "ipython",
    "version": 3
   },
   "file_extension": ".py",
   "mimetype": "text/x-python",
   "name": "python",
   "nbconvert_exporter": "python",
   "pygments_lexer": "ipython3",
   "version": "3.10.12"
  }
 },
 "nbformat": 4,
 "nbformat_minor": 2
}
