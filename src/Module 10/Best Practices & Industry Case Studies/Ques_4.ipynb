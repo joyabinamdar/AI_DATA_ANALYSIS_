{
 "cells": [
  {
   "cell_type": "markdown",
   "metadata": {},
   "source": [
    "## Real-World Case Studies\n",
    "\n",
    "### Healthcare - Medical Prediction Errors:\n",
    "**Description**: Implement validation rules using a healthcare dataset to reduce errors in\n",
    "predictive models by automating data quality checks."
   ]
  },
  {
   "cell_type": "code",
   "execution_count": 2,
   "metadata": {},
   "outputs": [
    {
     "ename": "ModuleNotFoundError",
     "evalue": "No module named 'healthcare_quality_validator'",
     "output_type": "error",
     "traceback": [
      "\u001b[0;31m---------------------------------------------------------------------------\u001b[0m",
      "\u001b[0;31mModuleNotFoundError\u001b[0m                       Traceback (most recent call last)",
      "Cell \u001b[0;32mIn[2], line 3\u001b[0m\n\u001b[1;32m      1\u001b[0m \u001b[38;5;28;01mimport\u001b[39;00m \u001b[38;5;21;01munittest\u001b[39;00m\n\u001b[1;32m      2\u001b[0m \u001b[38;5;28;01mimport\u001b[39;00m \u001b[38;5;21;01mpandas\u001b[39;00m \u001b[38;5;28;01mas\u001b[39;00m \u001b[38;5;21;01mpd\u001b[39;00m\n\u001b[0;32m----> 3\u001b[0m \u001b[38;5;28;01mfrom\u001b[39;00m \u001b[38;5;21;01mhealthcare_quality_validator\u001b[39;00m \u001b[38;5;28;01mimport\u001b[39;00m validate_healthcare_data\n\u001b[1;32m      5\u001b[0m \u001b[38;5;28;01mclass\u001b[39;00m \u001b[38;5;21;01mTestHealthcareDataQuality\u001b[39;00m(unittest\u001b[38;5;241m.\u001b[39mTestCase):\n\u001b[1;32m      7\u001b[0m     \u001b[38;5;28;01mdef\u001b[39;00m \u001b[38;5;21msetUp\u001b[39m(\u001b[38;5;28mself\u001b[39m):\n",
      "\u001b[0;31mModuleNotFoundError\u001b[0m: No module named 'healthcare_quality_validator'"
     ]
    }
   ],
   "source": [
    "import unittest\n",
    "import pandas as pd\n",
    "from healthcare_quality_validator import validate_healthcare_data\n",
    "\n",
    "class TestHealthcareDataQuality(unittest.TestCase):\n",
    "\n",
    "    def setUp(self):\n",
    "        self.valid_df = pd.DataFrame({\n",
    "            'age': [25, 40, 60],\n",
    "            'blood_pressure': [120, 130, 110],\n",
    "            'diagnosis': ['Diabetes', 'Hypertension', 'Asthma']\n",
    "        })\n",
    "\n",
    "        self.invalid_df = pd.DataFrame({\n",
    "            'age': [-5, 200, 30],\n",
    "            'blood_pressure': [300, 20, None],\n",
    "            'diagnosis': ['Diabetes', None, '']\n",
    "        })\n",
    "\n",
    "        self.required = ['age', 'diagnosis']\n",
    "        self.validators = {\n",
    "            'age': lambda x: pd.notnull(x) and isinstance(x, (int, float)) and 0 <= x <= 120,\n",
    "            'blood_pressure': lambda x: pd.notnull(x) and 40 <= x <= 200\n",
    "        }\n",
    "\n",
    "    def test_valid_data(self):\n",
    "        results = validate_healthcare_data(self.valid_df, self.required, self.validators)\n",
    "        self.assertEqual(results[\"SLA_status\"], \"PASS\")\n",
    "\n",
    "    def test_missing_and_invalid_data(self):\n",
    "        results = validate_healthcare_data(self.invalid_df, self.required, self.validators)\n",
    "        self.assertEqual(results[\"SLA_status\"], \"FAIL\")\n",
    "        self.assertGreaterEqual(results[\"total_violations\"], 1)\n",
    "\n",
    "    def test_type_error(self):\n",
    "        with self.assertRaises(TypeError):\n",
    "            validate_healthcare_data(\"not a dataframe\", self.required, self.validators)\n",
    "\n",
    "    def test_missing_columns(self):\n",
    "        with self.assertRaises(ValueError):\n",
    "            validate_healthcare_data(pd.DataFrame({'age': [25]}), ['age', 'diagnosis'], self.validators)\n",
    "\n",
    "if __name__ == '__main__':\n",
    "    unittest.main()\n"
   ]
  }
 ],
 "metadata": {
  "kernelspec": {
   "display_name": "Python 3",
   "language": "python",
   "name": "python3"
  },
  "language_info": {
   "codemirror_mode": {
    "name": "ipython",
    "version": 3
   },
   "file_extension": ".py",
   "mimetype": "text/x-python",
   "name": "python",
   "nbconvert_exporter": "python",
   "pygments_lexer": "ipython3",
   "version": "3.10.12"
  }
 },
 "nbformat": 4,
 "nbformat_minor": 2
}
