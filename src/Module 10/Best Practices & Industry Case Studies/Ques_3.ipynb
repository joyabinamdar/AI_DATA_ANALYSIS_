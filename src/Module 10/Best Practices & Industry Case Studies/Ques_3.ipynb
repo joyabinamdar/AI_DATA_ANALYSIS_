{
 "cells": [
  {
   "cell_type": "markdown",
   "metadata": {},
   "source": [
    "## Real-World Case Studies\n",
    "\n",
    "### Finance - Fraud Detection Models:\n",
    "**Description**: Analyze a financial dataset, define SLAs for data accuracy and\n",
    "completeness, and ensure high data quality for fraud detection models."
   ]
  },
  {
   "cell_type": "code",
   "execution_count": 1,
   "metadata": {},
   "outputs": [],
   "source": [
    "# write your code from here\n",
    "import pandas as pd\n",
    "\n",
    "def evaluate_data_quality(df, required_columns, value_validators={}, duplicate_check_cols=None):\n",
    "    \"\"\"\n",
    "    Evaluate data quality against SLAs for fraud detection use case.\n",
    "\n",
    "    Parameters:\n",
    "        df (pd.DataFrame): Dataset to evaluate.\n",
    "        required_columns (list): List of essential columns to check for completeness.\n",
    "        value_validators (dict): Optional dict of {col: validation_function}.\n",
    "        duplicate_check_cols (list): Columns to check for duplicates.\n",
    "\n",
    "    Returns:\n",
    "        dict: Dictionary of SLA violations and summary metrics.\n",
    "    \"\"\"\n",
    "    results = {}\n",
    "    total_rows = len(df)\n",
    "\n",
    "    # Completeness check\n",
    "    missing_summary = df[required_columns].isnull().mean()\n",
    "    for col, rate in missing_summary.items():\n",
    "        results[f\"missing_rate_{col}\"] = rate\n",
    "        if rate > 0.01:\n",
    "            results[f\"SLA_violation_missing_{col}\"] = True\n",
    "\n",
    "    # Accuracy check (custom validators per column)\n",
    "    for col, validator in value_validators.items():\n",
    "        if col in df.columns:\n",
    "            invalid_rate = (~df[col].apply(validator)).mean()\n",
    "            results[f\"invalid_rate_{col}\"] = invalid_rate\n",
    "            if invalid_rate > 0.005:\n",
    "                results[f\"SLA_violation_invalid_{col}\"] = True\n",
    "\n",
    "    # Duplicate check\n",
    "    if duplicate_check_cols:\n",
    "        dup_count = df.duplicated(subset=duplicate_check_cols).sum()\n",
    "        results[\"duplicate_count\"] = dup_count\n",
    "        if dup_count > 0:\n",
    "            results[\"SLA_violation_duplicates\"] = True\n",
    "\n",
    "    return results\n"
   ]
  }
 ],
 "metadata": {
  "kernelspec": {
   "display_name": "Python 3",
   "language": "python",
   "name": "python3"
  },
  "language_info": {
   "codemirror_mode": {
    "name": "ipython",
    "version": 3
   },
   "file_extension": ".py",
   "mimetype": "text/x-python",
   "name": "python",
   "nbconvert_exporter": "python",
   "pygments_lexer": "ipython3",
   "version": "3.10.12"
  }
 },
 "nbformat": 4,
 "nbformat_minor": 2
}
