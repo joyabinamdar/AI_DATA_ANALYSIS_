{
 "cells": [
  {
   "cell_type": "markdown",
   "metadata": {},
   "source": [
    "### Scaling & Feature Selection in a Pipeline\n",
    "**Description**: Create a pipeline that includes feature scaling, variance threshold selection, and a classification model."
   ]
  },
  {
   "cell_type": "code",
   "execution_count": 2,
   "metadata": {},
   "outputs": [
    {
     "name": "stdout",
     "output_type": "stream",
     "text": [
      "Test Accuracy: 1.0000\n",
      "Error during pipeline execution: Expected 2D array, got scalar array instead:\n",
      "array=nan.\n",
      "Reshape your data either using array.reshape(-1, 1) if your data has a single feature or array.reshape(1, -1) if it contains a single sample.\n",
      "All tests passed!\n"
     ]
    }
   ],
   "source": [
    "from sklearn.datasets import load_iris\n",
    "from sklearn.feature_selection import VarianceThreshold\n",
    "from sklearn.preprocessing import StandardScaler\n",
    "from sklearn.pipeline import Pipeline\n",
    "from sklearn.linear_model import LogisticRegression\n",
    "from sklearn.model_selection import train_test_split\n",
    "from sklearn.metrics import accuracy_score\n",
    "\n",
    "def create_pipeline():\n",
    "    return Pipeline([\n",
    "        ('scaler', StandardScaler()),\n",
    "        ('variance_thresh', VarianceThreshold(threshold=0.1)),\n",
    "        ('classifier', LogisticRegression(random_state=42))\n",
    "    ])\n",
    "\n",
    "def run_pipeline(X_train, X_test, y_train, y_test):\n",
    "    pipeline = create_pipeline()\n",
    "    try:\n",
    "        pipeline.fit(X_train, y_train)\n",
    "        y_pred = pipeline.predict(X_test)\n",
    "        acc = accuracy_score(y_test, y_pred)\n",
    "        print(f\"Test Accuracy: {acc:.4f}\")\n",
    "        return acc\n",
    "    except Exception as e:\n",
    "        print(f\"Error during pipeline execution: {e}\")\n",
    "        return None\n",
    "\n",
    "def test_pipeline():\n",
    "    X, y = load_iris(return_X_y=True)\n",
    "    X_train, X_test, y_train, y_test = train_test_split(X, y, random_state=42)\n",
    "    \n",
    "    # Normal run: should return accuracy between 0 and 1\n",
    "    acc = run_pipeline(X_train, X_test, y_train, y_test)\n",
    "    assert acc is not None and 0 <= acc <= 1, \"Accuracy should be valid float between 0 and 1\"\n",
    "    \n",
    "    # Test error handling: pass invalid data to cause failure\n",
    "    acc_invalid = run_pipeline(None, X_test, y_train, y_test)\n",
    "    assert acc_invalid is None, \"Pipeline should handle error and return None on failure\"\n",
    "    \n",
    "    print(\"All tests passed!\")\n",
    "\n",
    "# Run tests\n",
    "test_pipeline()\n"
   ]
  }
 ],
 "metadata": {
  "kernelspec": {
   "display_name": "Python 3",
   "language": "python",
   "name": "python3"
  },
  "language_info": {
   "codemirror_mode": {
    "name": "ipython",
    "version": 3
   },
   "file_extension": ".py",
   "mimetype": "text/x-python",
   "name": "python",
   "nbconvert_exporter": "python",
   "pygments_lexer": "ipython3",
   "version": "3.10.12"
  }
 },
 "nbformat": 4,
 "nbformat_minor": 2
}
