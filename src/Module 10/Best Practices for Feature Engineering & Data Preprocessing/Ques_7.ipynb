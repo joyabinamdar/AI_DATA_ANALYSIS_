{
 "cells": [
  {
   "cell_type": "markdown",
   "metadata": {},
   "source": [
    "### Ensuring Feature Consistency Between Training & InferencePipelines:\n",
    "\n",
    "**Task 1**: Consistent Feature Preparation\n",
    "- Step 1: Write a function for data preprocessing and imputation shared by both training and inference pipelines.\n",
    "- Step 2: Demonstrate consistent application on both datasets."
   ]
  },
  {
   "cell_type": "code",
   "execution_count": 4,
   "metadata": {},
   "outputs": [
    {
     "name": "stdout",
     "output_type": "stream",
     "text": [
      "Processed Train Data:\n",
      "    feature1  feature2\n",
      "0 -1.147079 -0.577350\n",
      "1 -0.229416  1.732051\n",
      "2 -0.229416 -0.577350\n",
      "3  1.605910 -0.577350\n",
      "Processed Test Data:\n",
      "    feature1  feature2\n",
      "0  0.688247   0.34641\n",
      "1 -0.229416  -0.11547\n"
     ]
    }
   ],
   "source": [
    "import pandas as pd\n",
    "import numpy as np\n",
    "from sklearn.impute import SimpleImputer\n",
    "from sklearn.preprocessing import StandardScaler\n",
    "import unittest\n",
    "\n",
    "class PreprocessingPipeline:\n",
    "    def __init__(self):\n",
    "        self.imputer = SimpleImputer(strategy='median')\n",
    "        self.scaler = StandardScaler()\n",
    "        self.columns = None\n",
    "\n",
    "    def fit(self, df: pd.DataFrame):\n",
    "        self._validate_input(df)\n",
    "        self.columns = df.columns.tolist()\n",
    "        self.imputer.fit(df)\n",
    "        imputed = self.imputer.transform(df)\n",
    "        self.scaler.fit(imputed)\n",
    "\n",
    "    def transform(self, df: pd.DataFrame) -> pd.DataFrame:\n",
    "        self._validate_input(df, require_columns=True)\n",
    "        df = df[self.columns]  # Ensure consistent column order\n",
    "        imputed = self.imputer.transform(df)\n",
    "        scaled = self.scaler.transform(imputed)\n",
    "        return pd.DataFrame(scaled, columns=self.columns)\n",
    "\n",
    "    def fit_transform(self, df: pd.DataFrame) -> pd.DataFrame:\n",
    "        self.fit(df)\n",
    "        return self.transform(df)\n",
    "\n",
    "    def _validate_input(self, df: pd.DataFrame, require_columns=False):\n",
    "        if not isinstance(df, pd.DataFrame):\n",
    "            raise ValueError(\"Input must be a pandas DataFrame.\")\n",
    "        if df.empty:\n",
    "            raise ValueError(\"Input DataFrame is empty.\")\n",
    "        if require_columns and self.columns:\n",
    "            missing = set(self.columns) - set(df.columns)\n",
    "            if missing:\n",
    "                raise ValueError(f\"Missing columns in input data: {missing}\")\n",
    "        if not all(np.issubdtype(dtype, np.number) for dtype in df.dtypes):\n",
    "            raise TypeError(\"All columns must be numeric.\")\n",
    "\n",
    "# ========== Example Usage ==========\n",
    "if __name__ == \"__main__\":\n",
    "    train_df = pd.DataFrame({\n",
    "        'feature1': [1, 2, np.nan, 4],\n",
    "        'feature2': [10, 15, 10, np.nan]\n",
    "    })\n",
    "\n",
    "    test_df = pd.DataFrame({\n",
    "        'feature1': [3, np.nan],\n",
    "        'feature2': [12, 11]\n",
    "    })\n",
    "\n",
    "    pipeline = PreprocessingPipeline()\n",
    "    train_processed = pipeline.fit_transform(train_df)\n",
    "    test_processed = pipeline.transform(test_df)\n",
    "\n",
    "    print(\"Processed Train Data:\\n\", train_processed)\n",
    "    print(\"Processed Test Data:\\n\", test_processed)\n",
    "\n",
    "# ========== Unit Tests ==========\n",
    "class TestPreprocessingPipeline(unittest.TestCase):\n",
    "\n",
    "    def setUp(self):\n",
    "        self.pipeline = PreprocessingPipeline()\n",
    "        self.train_df = pd.DataFrame({\n",
    "            'feature1': [1, 2, np.nan, 4],\n",
    "            'feature2': [10, 15, 10, np.nan]\n",
    "        })\n",
    "        self.test_df = pd.DataFrame({\n",
    "            'feature1': [3, np.nan],\n",
    "            'feature2': [12, 11]\n",
    "        })\n",
    "        self.pipeline.fit(self.train_df)\n",
    "\n",
    "    def test_transform_shapes_match(self):\n",
    "        result = self.pipeline.transform(self.test_df)\n",
    "        self.assertEqual(result.shape, self.test_df.shape)\n",
    "\n",
    "    def test_empty_dataframe(self):\n",
    "        with self.assertRaises(ValueError):\n",
    "            self.pipeline.fit(pd.DataFrame())\n",
    "\n",
    "    def test_invalid_dtype(self):\n",
    "        invalid_df = pd.DataFrame({'feature1': ['a', 'b'], 'feature2': ['c', 'd']})\n",
    "        with self.assertRaises(TypeError):\n",
    "            self.pipeline.fit(invalid_df)\n",
    "\n",
    "    def test_missing_column(self):\n",
    "        bad_df = pd.DataFrame({'feature1': [1, 2]})\n",
    "        with self.assertRaises(ValueError):\n",
    "            self.pipeline.transform(bad_df)\n",
    "\n",
    "# Uncomment below line to run unit tests directly\n",
    "# unittest.main()\n"
   ]
  },
  {
   "cell_type": "markdown",
   "metadata": {},
   "source": [
    "**Task 2**: Pipeline Integration\n",
    "- Step 1: Use sklearn pipelines to encapsulate the preprocessing steps.\n",
    "- Step 2: Configure identical pipelines for both training and building inference models."
   ]
  },
  {
   "cell_type": "code",
   "execution_count": 5,
   "metadata": {},
   "outputs": [],
   "source": [
    "# write your code from here"
   ]
  },
  {
   "cell_type": "markdown",
   "metadata": {},
   "source": [
    "**Task 3**: Saving and Loading Preprocessing Models\n",
    "- Step 1: Save the transformation model after fitting it to the training data.\n",
    "- Step 2: Load and apply the saved model during inference."
   ]
  },
  {
   "cell_type": "code",
   "execution_count": 6,
   "metadata": {},
   "outputs": [],
   "source": [
    "# write your code from here"
   ]
  }
 ],
 "metadata": {
  "kernelspec": {
   "display_name": "Python 3",
   "language": "python",
   "name": "python3"
  },
  "language_info": {
   "codemirror_mode": {
    "name": "ipython",
    "version": 3
   },
   "file_extension": ".py",
   "mimetype": "text/x-python",
   "name": "python",
   "nbconvert_exporter": "python",
   "pygments_lexer": "ipython3",
   "version": "3.10.12"
  }
 },
 "nbformat": 4,
 "nbformat_minor": 2
}
