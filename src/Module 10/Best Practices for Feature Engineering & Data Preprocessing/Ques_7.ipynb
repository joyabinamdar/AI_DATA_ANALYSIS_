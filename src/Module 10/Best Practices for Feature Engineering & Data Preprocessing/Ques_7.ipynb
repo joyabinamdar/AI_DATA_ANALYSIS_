{
 "cells": [
  {
   "cell_type": "markdown",
   "metadata": {},
   "source": [
    "### Ensuring Feature Consistency Between Training & InferencePipelines:\n",
    "\n",
    "**Task 1**: Consistent Feature Preparation\n",
    "- Step 1: Write a function for data preprocessing and imputation shared by both training and inference pipelines.\n",
    "- Step 2: Demonstrate consistent application on both datasets."
   ]
  },
  {
   "cell_type": "code",
   "execution_count": 1,
   "metadata": {},
   "outputs": [
    {
     "name": "stdout",
     "output_type": "stream",
     "text": [
      "Processed Training Data:\n",
      "    feature1  feature2\n",
      "0 -1.147079 -0.577350\n",
      "1 -0.229416  1.732051\n",
      "2 -0.229416 -0.577350\n",
      "3  1.605910 -0.577350\n",
      "\n",
      "Processed Inference Data:\n",
      "    feature1  feature2\n",
      "0  0.688247   0.34641\n",
      "1 -0.229416  -0.11547\n"
     ]
    }
   ],
   "source": [
    "# write your code from here\n",
    "import pandas as pd\n",
    "import numpy as np\n",
    "from sklearn.impute import SimpleImputer\n",
    "from sklearn.preprocessing import StandardScaler\n",
    "\n",
    "class PreprocessingPipeline:\n",
    "    def __init__(self):\n",
    "        self.imputer = SimpleImputer(strategy='median')\n",
    "        self.scaler = StandardScaler()\n",
    "        self.columns = None\n",
    "\n",
    "    def fit(self, df: pd.DataFrame):\n",
    "        # Store column order and fit transformers\n",
    "        self.columns = df.columns\n",
    "        self.imputer.fit(df)\n",
    "        imputed = self.imputer.transform(df)\n",
    "        self.scaler.fit(imputed)\n",
    "\n",
    "    def transform(self, df: pd.DataFrame) -> pd.DataFrame:\n",
    "        if self.columns is not None:\n",
    "            df = df[self.columns]  # ensure consistent column order\n",
    "        imputed = self.imputer.transform(df)\n",
    "        scaled = self.scaler.transform(imputed)\n",
    "        return pd.DataFrame(scaled, columns=self.columns)\n",
    "\n",
    "    def fit_transform(self, df: pd.DataFrame) -> pd.DataFrame:\n",
    "        self.fit(df)\n",
    "        return self.transform(df)\n",
    "# Simulated training and inference datasets\n",
    "train_data = pd.DataFrame({\n",
    "    'feature1': [1, 2, np.nan, 4],\n",
    "    'feature2': [10, 15, 10, np.nan]\n",
    "})\n",
    "\n",
    "inference_data = pd.DataFrame({\n",
    "    'feature1': [3, np.nan],\n",
    "    'feature2': [12, 11]\n",
    "})\n",
    "\n",
    "# Initialize and apply the preprocessing pipeline\n",
    "pipeline = PreprocessingPipeline()\n",
    "\n",
    "# Fit on training data\n",
    "train_processed = pipeline.fit_transform(train_data)\n",
    "\n",
    "# Use the same pipeline on inference data\n",
    "inference_processed = pipeline.transform(inference_data)\n",
    "\n",
    "print(\"Processed Training Data:\\n\", train_processed)\n",
    "print(\"\\nProcessed Inference Data:\\n\", inference_processed)\n"
   ]
  },
  {
   "cell_type": "markdown",
   "metadata": {},
   "source": [
    "**Task 2**: Pipeline Integration\n",
    "- Step 1: Use sklearn pipelines to encapsulate the preprocessing steps.\n",
    "- Step 2: Configure identical pipelines for both training and building inference models."
   ]
  },
  {
   "cell_type": "code",
   "execution_count": 2,
   "metadata": {},
   "outputs": [],
   "source": [
    "# write your code from here"
   ]
  },
  {
   "cell_type": "markdown",
   "metadata": {},
   "source": [
    "**Task 3**: Saving and Loading Preprocessing Models\n",
    "- Step 1: Save the transformation model after fitting it to the training data.\n",
    "- Step 2: Load and apply the saved model during inference."
   ]
  },
  {
   "cell_type": "code",
   "execution_count": 3,
   "metadata": {},
   "outputs": [],
   "source": [
    "# write your code from here"
   ]
  }
 ],
 "metadata": {
  "kernelspec": {
   "display_name": "Python 3",
   "language": "python",
   "name": "python3"
  },
  "language_info": {
   "codemirror_mode": {
    "name": "ipython",
    "version": 3
   },
   "file_extension": ".py",
   "mimetype": "text/x-python",
   "name": "python",
   "nbconvert_exporter": "python",
   "pygments_lexer": "ipython3",
   "version": "3.10.12"
  }
 },
 "nbformat": 4,
 "nbformat_minor": 2
}
