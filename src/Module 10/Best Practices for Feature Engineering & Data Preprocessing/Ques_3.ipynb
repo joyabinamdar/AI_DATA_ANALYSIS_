{
 "cells": [
  {
   "cell_type": "markdown",
   "metadata": {},
   "source": [
    "### Feature Selection - Variance Threshold\n",
    "**Description**: Remove features with low variance."
   ]
  },
  {
   "cell_type": "code",
   "execution_count": 1,
   "metadata": {},
   "outputs": [
    {
     "name": "stdout",
     "output_type": "stream",
     "text": [
      "Selected Features Shape: (4, 2)\n"
     ]
    }
   ],
   "source": [
    "# write your code from here\n",
    "from sklearn.feature_selection import VarianceThreshold\n",
    "import numpy as np\n",
    "\n",
    "# Sample data (4 samples, 5 features)\n",
    "X = np.array([\n",
    "    [0, 2, 0, 3, 0],\n",
    "    [0, 1, 4, 3, 0],\n",
    "    [0, 1, 1, 3, 0],\n",
    "    [0, 1, 0, 3, 0]\n",
    "])\n",
    "\n",
    "# Initialize VarianceThreshold with a threshold (e.g., 0.1)\n",
    "selector = VarianceThreshold(threshold=0.1)\n",
    "X_selected = selector.fit_transform(X)\n",
    "\n",
    "print(\"Selected Features Shape:\", X_selected.shape)\n"
   ]
  }
 ],
 "metadata": {
  "kernelspec": {
   "display_name": "Python 3",
   "language": "python",
   "name": "python3"
  },
  "language_info": {
   "codemirror_mode": {
    "name": "ipython",
    "version": 3
   },
   "file_extension": ".py",
   "mimetype": "text/x-python",
   "name": "python",
   "nbconvert_exporter": "python",
   "pygments_lexer": "ipython3",
   "version": "3.10.12"
  }
 },
 "nbformat": 4,
 "nbformat_minor": 2
}
