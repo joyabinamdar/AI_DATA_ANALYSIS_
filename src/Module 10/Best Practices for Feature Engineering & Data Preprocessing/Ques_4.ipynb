{
 "cells": [
  {
   "cell_type": "markdown",
   "metadata": {},
   "source": [
    "### Feature Selection - Using Mutual Information\n",
    "**Description**: Use mutual information for feature selection to identify important features."
   ]
  },
  {
   "cell_type": "code",
   "execution_count": 1,
   "metadata": {},
   "outputs": [
    {
     "name": "stdout",
     "output_type": "stream",
     "text": [
      "Selected Features Shape: (150, 3)\n",
      "Mutual Information Scores: [0.50251326 0.22776803 0.9937793  0.9788239 ]\n",
      "Selected Feature Indices: [0 2 3]\n"
     ]
    }
   ],
   "source": [
    "# write your code from here\n",
    "from sklearn.datasets import load_iris\n",
    "from sklearn.feature_selection import SelectKBest, mutual_info_classif\n",
    "\n",
    "# Load example dataset\n",
    "X, y = load_iris(return_X_y=True)\n",
    "\n",
    "# Select top 3 features based on mutual information\n",
    "selector = SelectKBest(score_func=mutual_info_classif, k=3)\n",
    "X_selected = selector.fit_transform(X, y)\n",
    "\n",
    "print(\"Selected Features Shape:\", X_selected.shape)\n",
    "print(\"Mutual Information Scores:\", selector.scores_)\n",
    "print(\"Selected Feature Indices:\", selector.get_support(indices=True))\n"
   ]
  }
 ],
 "metadata": {
  "kernelspec": {
   "display_name": "Python 3",
   "language": "python",
   "name": "python3"
  },
  "language_info": {
   "codemirror_mode": {
    "name": "ipython",
    "version": 3
   },
   "file_extension": ".py",
   "mimetype": "text/x-python",
   "name": "python",
   "nbconvert_exporter": "python",
   "pygments_lexer": "ipython3",
   "version": "3.10.12"
  }
 },
 "nbformat": 4,
 "nbformat_minor": 2
}
