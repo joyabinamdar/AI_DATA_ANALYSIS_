{
 "cells": [
  {
   "cell_type": "markdown",
   "metadata": {},
   "source": [
    "### Feature Selection - Using Mutual Information\n",
    "**Description**: Use mutual information for feature selection to identify important features."
   ]
  },
  {
   "cell_type": "code",
   "execution_count": 3,
   "metadata": {},
   "outputs": [
    {
     "name": "stdout",
     "output_type": "stream",
     "text": [
      "All tests passed!\n"
     ]
    }
   ],
   "source": [
    "import numpy as np\n",
    "from sklearn.datasets import load_iris\n",
    "from sklearn.feature_selection import SelectKBest, mutual_info_classif\n",
    "\n",
    "def validate_inputs(X, y, k):\n",
    "    if not isinstance(X, (np.ndarray, list)):\n",
    "        raise TypeError(\"Input features X must be a numpy array or list.\")\n",
    "    if not isinstance(y, (np.ndarray, list)):\n",
    "        raise TypeError(\"Target variable y must be a numpy array or list.\")\n",
    "    if len(X) == 0:\n",
    "        raise ValueError(\"Input features X cannot be empty.\")\n",
    "    if len(y) == 0:\n",
    "        raise ValueError(\"Target variable y cannot be empty.\")\n",
    "    if len(X) != len(y):\n",
    "        raise ValueError(\"The number of samples in X and y must be equal.\")\n",
    "    if not isinstance(k, int) or k <= 0:\n",
    "        raise ValueError(\"k must be a positive integer.\")\n",
    "\n",
    "def mutual_info_feature_selection(X, y, k=3):\n",
    "    # Validate inputs\n",
    "    validate_inputs(X, y, k)\n",
    "    \n",
    "    # Apply mutual information feature selection\n",
    "    selector = SelectKBest(score_func=mutual_info_classif, k=k)\n",
    "    X_selected = selector.fit_transform(X, y)\n",
    "    \n",
    "    return X_selected, selector.scores_, selector.get_support(indices=True)\n",
    "\n",
    "def test_mutual_info_feature_selection():\n",
    "    # Load example data\n",
    "    X, y = load_iris(return_X_y=True)\n",
    "    \n",
    "    # Normal case\n",
    "    X_sel, scores, indices = mutual_info_feature_selection(X, y, k=2)\n",
    "    assert X_sel.shape[1] == 2, \"Should select 2 features\"\n",
    "    \n",
    "    # Test invalid X type\n",
    "    try:\n",
    "        mutual_info_feature_selection(\"invalid\", y, 2)\n",
    "    except TypeError as e:\n",
    "        assert str(e) == \"Input features X must be a numpy array or list.\"\n",
    "    \n",
    "    # Test mismatched length\n",
    "    try:\n",
    "        mutual_info_feature_selection(X, y[:-1], 2)\n",
    "    except ValueError as e:\n",
    "        assert str(e) == \"The number of samples in X and y must be equal.\"\n",
    "    \n",
    "    # Test invalid k\n",
    "    try:\n",
    "        mutual_info_feature_selection(X, y, 0)\n",
    "    except ValueError as e:\n",
    "        assert str(e) == \"k must be a positive integer.\"\n",
    "\n",
    "    print(\"All tests passed!\")\n",
    "\n",
    "# Run test\n",
    "test_mutual_info_feature_selection()\n"
   ]
  }
 ],
 "metadata": {
  "kernelspec": {
   "display_name": "Python 3",
   "language": "python",
   "name": "python3"
  },
  "language_info": {
   "codemirror_mode": {
    "name": "ipython",
    "version": 3
   },
   "file_extension": ".py",
   "mimetype": "text/x-python",
   "name": "python",
   "nbconvert_exporter": "python",
   "pygments_lexer": "ipython3",
   "version": "3.10.12"
  }
 },
 "nbformat": 4,
 "nbformat_minor": 2
}
