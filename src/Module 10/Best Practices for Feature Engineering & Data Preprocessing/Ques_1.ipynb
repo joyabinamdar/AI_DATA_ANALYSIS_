{
 "cells": [
  {
   "cell_type": "markdown",
   "metadata": {},
   "source": [
    "### Task 1: Handling Missing Values - Simple Imputation\n",
    "**Description**: Given a dataset with missing values, impute the missing values using the mean for numerical features and the mode for categorical features."
   ]
  },
  {
   "cell_type": "code",
   "execution_count": 6,
   "metadata": {},
   "outputs": [
    {
     "name": "stderr",
     "output_type": "stream",
     "text": [
      "2025-05-22 05:14:41,491 - INFO - Starting preprocessing...\n",
      "2025-05-22 05:14:41,501 - ERROR - Preprocessing failed: '<' not supported between instances of 'NoneType' and 'str'\n"
     ]
    }
   ],
   "source": [
    "import pandas as pd\n",
    "import numpy as np\n",
    "import logging\n",
    "from sklearn.impute import SimpleImputer\n",
    "from sklearn.preprocessing import MinMaxScaler\n",
    "from sklearn.pipeline import Pipeline\n",
    "from sklearn.compose import ColumnTransformer\n",
    "\n",
    "# Setup logging\n",
    "logging.basicConfig(level=logging.INFO, format='%(asctime)s - %(levelname)s - %(message)s')\n",
    "\n",
    "def validate_columns(df, required_columns):\n",
    "    missing = [col for col in required_columns if col not in df.columns]\n",
    "    if missing:\n",
    "        raise ValueError(f\"Missing required columns: {missing}\")\n",
    "\n",
    "def preprocess_data(df):\n",
    "    if df.empty:\n",
    "        raise ValueError(\"Input DataFrame is empty.\")\n",
    "\n",
    "    logging.info(\"Starting preprocessing...\")\n",
    "\n",
    "    # Define column groups\n",
    "    numeric_features = ['age', 'income']\n",
    "    categorical_features = ['city']\n",
    "\n",
    "    # Validate columns\n",
    "    validate_columns(df, numeric_features + categorical_features)\n",
    "\n",
    "    # Define transformers\n",
    "    numeric_transformer = Pipeline(steps=[\n",
    "        ('imputer', SimpleImputer(strategy='mean')),\n",
    "        ('scaler', MinMaxScaler())\n",
    "    ])\n",
    "\n",
    "    categorical_transformer = Pipeline(steps=[\n",
    "        ('imputer', SimpleImputer(strategy='most_frequent'))\n",
    "    ])\n",
    "\n",
    "    # Combine transformers\n",
    "    preprocessor = ColumnTransformer(transformers=[\n",
    "        ('num', numeric_transformer, numeric_features),\n",
    "        ('cat', categorical_transformer, categorical_features)\n",
    "    ])\n",
    "\n",
    "    # Fit-transform the data\n",
    "    processed_data = preprocessor.fit_transform(df)\n",
    "\n",
    "    # Recreate a DataFrame\n",
    "    processed_df = pd.DataFrame(\n",
    "        processed_data,\n",
    "        columns=numeric_features + categorical_features\n",
    "    )\n",
    "\n",
    "    logging.info(\"Preprocessing completed successfully.\")\n",
    "    return processed_df\n",
    "\n",
    "# Example usage\n",
    "if __name__ == \"__main__\":\n",
    "    sample_data = pd.DataFrame({\n",
    "        'age': [25, np.nan, 47, 51],\n",
    "        'income': [50000, 64000, None, 110000],\n",
    "        'city': ['New York', 'San Francisco', None, 'Chicago']\n",
    "    })\n",
    "\n",
    "    try:\n",
    "        clean_data = preprocess_data(sample_data)\n",
    "        print(clean_data)\n",
    "    except Exception as e:\n",
    "        logging.error(f\"Preprocessing failed: {e}\")\n"
   ]
  },
  {
   "cell_type": "markdown",
   "metadata": {},
   "source": [
    "### Task 2: Feature Scaling - Min-Max Normalization\n",
    "**Description**: Normalize a numerical feature using Min-Max scaling to a range [0, 1]."
   ]
  },
  {
   "cell_type": "code",
   "execution_count": 7,
   "metadata": {},
   "outputs": [
    {
     "name": "stdout",
     "output_type": "stream",
     "text": [
      "        age    income\n",
      "0  0.000000  0.000000\n",
      "1  0.269231  0.200000\n",
      "2  0.846154  1.000000\n",
      "3  1.000000  0.857143\n"
     ]
    }
   ],
   "source": [
    "# write your code from here\n",
    "import pandas as pd\n",
    "from sklearn.preprocessing import MinMaxScaler\n",
    "\n",
    "# Sample numerical data\n",
    "data = pd.DataFrame({\n",
    "    'age': [25, 32, 47, 51],\n",
    "    'income': [50000, 64000, 120000, 110000]\n",
    "})\n",
    "\n",
    "# Initialize Min-Max Scaler to scale features between 0 and 1\n",
    "scaler = MinMaxScaler(feature_range=(0, 1))\n",
    "\n",
    "# Fit scaler on data and transform\n",
    "scaled_data = scaler.fit_transform(data)\n",
    "\n",
    "# Convert back to DataFrame for readability\n",
    "scaled_df = pd.DataFrame(scaled_data, columns=data.columns)\n",
    "\n",
    "print(scaled_df)\n"
   ]
  },
  {
   "cell_type": "markdown",
   "metadata": {},
   "source": [
    "### Task 3: Handling Missing Values - Drop Missing Values\n",
    "**Description**: Remove rows with missing values from a dataset."
   ]
  },
  {
   "cell_type": "code",
   "execution_count": 8,
   "metadata": {},
   "outputs": [
    {
     "name": "stderr",
     "output_type": "stream",
     "text": [
      "2025-05-22 05:14:41,528 - INFO - Original data shape: (4, 3)\n",
      "2025-05-22 05:14:41,531 - INFO - Data shape after dropping missing values: (1, 3)\n"
     ]
    },
    {
     "name": "stdout",
     "output_type": "stream",
     "text": [
      "    name   age city\n",
      "0  Alice  25.0   NY\n"
     ]
    }
   ],
   "source": [
    "# write your code from here\n",
    "import pandas as pd\n",
    "import logging\n",
    "\n",
    "# Set up logging\n",
    "logging.basicConfig(level=logging.INFO, format='%(asctime)s - %(levelname)s - %(message)s')\n",
    "\n",
    "def drop_missing_values(df):\n",
    "    if df.empty:\n",
    "        raise ValueError(\"Input DataFrame is empty.\")\n",
    "    \n",
    "    logging.info(f\"Original data shape: {df.shape}\")\n",
    "    \n",
    "    # Drop rows with any missing values\n",
    "    df_cleaned = df.dropna()\n",
    "    \n",
    "    logging.info(f\"Data shape after dropping missing values: {df_cleaned.shape}\")\n",
    "    \n",
    "    return df_cleaned\n",
    "\n",
    "# Example usage\n",
    "if __name__ == \"__main__\":\n",
    "    sample_data = pd.DataFrame({\n",
    "        'name': ['Alice', 'Bob', None, 'David'],\n",
    "        'age': [25, None, 35, 40],\n",
    "        'city': ['NY', 'LA', 'SF', None]\n",
    "    })\n",
    "\n",
    "    try:\n",
    "        cleaned_data = drop_missing_values(sample_data)\n",
    "        print(cleaned_data)\n",
    "    except Exception as e:\n",
    "        logging.error(f\"Error during dropping missing values: {e}\")\n"
   ]
  },
  {
   "cell_type": "markdown",
   "metadata": {},
   "source": [
    "### Task 4: Feature Scaling - Standardization\n",
    "**Description**: Standardize a numerical feature to have zero mean and unit variance."
   ]
  },
  {
   "cell_type": "code",
   "execution_count": 9,
   "metadata": {},
   "outputs": [
    {
     "name": "stderr",
     "output_type": "stream",
     "text": [
      "2025-05-22 05:14:41,544 - INFO - Standardizing features: ['age', 'income']\n",
      "2025-05-22 05:14:41,554 - INFO - Standardization complete.\n"
     ]
    },
    {
     "name": "stdout",
     "output_type": "stream",
     "text": [
      "        age    income city\n",
      "0 -1.212678 -1.044185   NY\n",
      "1 -0.727607 -0.722897   LA\n",
      "2  0.727607  0.240966   SF\n",
      "3  1.212678  1.526117  CHI\n"
     ]
    }
   ],
   "source": [
    "# write your code from here\n",
    "import pandas as pd\n",
    "import logging\n",
    "from sklearn.preprocessing import StandardScaler\n",
    "\n",
    "# Set up logging\n",
    "logging.basicConfig(level=logging.INFO, format='%(asctime)s - %(levelname)s - %(message)s')\n",
    "\n",
    "def standardize_features(df, feature_columns):\n",
    "    if df.empty:\n",
    "        raise ValueError(\"Input DataFrame is empty.\")\n",
    "\n",
    "    for col in feature_columns:\n",
    "        if col not in df.columns:\n",
    "            raise ValueError(f\"Missing expected column: {col}\")\n",
    "\n",
    "    logging.info(f\"Standardizing features: {feature_columns}\")\n",
    "\n",
    "    scaler = StandardScaler()\n",
    "    df_scaled = df.copy()\n",
    "    df_scaled[feature_columns] = scaler.fit_transform(df[feature_columns])\n",
    "\n",
    "    logging.info(\"Standardization complete.\")\n",
    "    return df_scaled\n",
    "\n",
    "# Example usage\n",
    "if __name__ == \"__main__\":\n",
    "    sample_data = pd.DataFrame({\n",
    "        'age': [25, 30, 45, 50],\n",
    "        'income': [40000, 50000, 80000, 120000],\n",
    "        'city': ['NY', 'LA', 'SF', 'CHI']  # Non-numeric, not affected\n",
    "    })\n",
    "\n",
    "    try:\n",
    "        standardized_data = standardize_features(sample_data, ['age', 'income'])\n",
    "        print(standardized_data)\n",
    "    except Exception as e:\n",
    "        logging.error(f\"Standardization failed: {e}\")\n"
   ]
  }
 ],
 "metadata": {
  "kernelspec": {
   "display_name": "Python 3",
   "language": "python",
   "name": "python3"
  },
  "language_info": {
   "codemirror_mode": {
    "name": "ipython",
    "version": 3
   },
   "file_extension": ".py",
   "mimetype": "text/x-python",
   "name": "python",
   "nbconvert_exporter": "python",
   "pygments_lexer": "ipython3",
   "version": "3.10.12"
  }
 },
 "nbformat": 4,
 "nbformat_minor": 2
}
