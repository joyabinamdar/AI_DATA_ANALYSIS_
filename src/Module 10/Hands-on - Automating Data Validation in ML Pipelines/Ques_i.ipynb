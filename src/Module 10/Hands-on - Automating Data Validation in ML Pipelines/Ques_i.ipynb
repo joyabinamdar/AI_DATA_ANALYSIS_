{
 "cells": [
  {
   "cell_type": "markdown",
   "metadata": {},
   "source": [
    "### Using Great Expectations for Automated Data Checks\n",
    "**Objective**: Use Great Expectations to perform data validation steps on a dataset.\n",
    "\n",
    "**Task 1**: Validate Column Existence\n",
    "\n",
    "**Steps**:\n",
    "- Load your dataset using a Pandas DataFrame.\n",
    "- Use Great Expectations to setup an expectation suite.\n",
    "- Create an expectation to confirm that a specific column (e.g., customer_id ) exists in your dataset.\n",
    "- Run the expectation and observe the results."
   ]
  },
  {
   "cell_type": "code",
   "execution_count": 2,
   "metadata": {},
   "outputs": [
    {
     "name": "stdout",
     "output_type": "stream",
     "text": [
      "Validation failed: module 'great_expectations' has no attribute 'from_pandas'\n",
      "Test failed: module 'great_expectations' has no attribute 'from_pandas'\n",
      "Test passed: Correctly handled missing column.\n"
     ]
    }
   ],
   "source": [
    "import pandas as pd\n",
    "import great_expectations as ge\n",
    "\n",
    "def load_data():\n",
    "    \"\"\"Safely load data and handle missing or empty cases.\"\"\"\n",
    "    try:\n",
    "        # Sample dataset\n",
    "        data = {\n",
    "            'customer_id': [101, 102, 103],\n",
    "            'name': ['Alice', 'Bob', 'Charlie'],\n",
    "            'age': [25, 30, 35]\n",
    "        }\n",
    "        df = pd.DataFrame(data)\n",
    "        if df.empty:\n",
    "            raise ValueError(\"DataFrame is empty.\")\n",
    "        return df\n",
    "    except Exception as e:\n",
    "        print(f\"Error loading data: {e}\")\n",
    "        return None\n",
    "\n",
    "def validate_column_existence(df, column_name):\n",
    "    \"\"\"Validates that the given column exists in the DataFrame.\"\"\"\n",
    "    if column_name not in df.columns:\n",
    "        raise KeyError(f\"Column '{column_name}' not found in the dataset.\")\n",
    "    \n",
    "    ge_df = ge.from_pandas(df)\n",
    "    ge_df.create_expectation_suite(\"column_validation_suite\", overwrite_existing=True)\n",
    "    ge_df.expect_table_columns_to_include([column_name])\n",
    "    results = ge_df.validate()\n",
    "    return results\n",
    "\n",
    "def run_validation_pipeline():\n",
    "    df = load_data()\n",
    "    if df is not None:\n",
    "        try:\n",
    "            result = validate_column_existence(df, 'customer_id')\n",
    "            print(\"Validation Results:\")\n",
    "            print(result)\n",
    "        except Exception as e:\n",
    "            print(f\"Validation failed: {e}\")\n",
    "    else:\n",
    "        print(\"No data to validate.\")\n",
    "\n",
    "def test_validation():\n",
    "    \"\"\"Basic unit test simulation.\"\"\"\n",
    "    df_good = load_data()\n",
    "    assert df_good is not None, \"Data should load properly.\"\n",
    "\n",
    "    # Valid column\n",
    "    try:\n",
    "        result = validate_column_existence(df_good, 'customer_id')\n",
    "        assert result[\"success\"] is True, \"Column should exist and validation should pass.\"\n",
    "        print(\"Test passed: customer_id column exists.\")\n",
    "    except Exception as e:\n",
    "        print(f\"Test failed: {e}\")\n",
    "\n",
    "    # Invalid column\n",
    "    try:\n",
    "        validate_column_existence(df_good, 'nonexistent_column')\n",
    "        print(\"Test failed: Nonexistent column should raise error.\")\n",
    "    except KeyError:\n",
    "        print(\"Test passed: Correctly handled missing column.\")\n",
    "\n",
    "# Run the validation and tests\n",
    "run_validation_pipeline()\n",
    "test_validation()\n"
   ]
  },
  {
   "cell_type": "markdown",
   "metadata": {},
   "source": [
    "**Task 2**: Validate Column Data Types\n",
    "\n",
    "**Steps**:\n",
    "- Using the same dataset setup, create an expectation to check that a numeric column\n",
    "(e.g., purchase_amount ) contains only float values.\n",
    "- Identify a numeric column in your dataset.\n",
    "- Use Great Expectations to create and validate an expectation that checks the column's data type is correct.\n",
    "- Run your expectation and check if it passes for your data."
   ]
  },
  {
   "cell_type": "code",
   "execution_count": 3,
   "metadata": {},
   "outputs": [],
   "source": [
    "# write your code from here"
   ]
  },
  {
   "cell_type": "markdown",
   "metadata": {},
   "source": [
    "**Task 3**: Validate Range of Values\n",
    "\n",
    "**Steps**:\n",
    "- Set an expectation using Great Expectations to ensure that a column (e.g., age ) values\n",
    "are between 18 and 65.\n",
    "- Identify a column in your dataset where values fall within a specific range.\n",
    "- Implement a range-based expectation to check this column and validate your dataset.\n",
    "- Observe and interpret the result of your expectation."
   ]
  },
  {
   "cell_type": "code",
   "execution_count": 4,
   "metadata": {},
   "outputs": [],
   "source": [
    "# write your code from here"
   ]
  }
 ],
 "metadata": {
  "kernelspec": {
   "display_name": "Python 3",
   "language": "python",
   "name": "python3"
  },
  "language_info": {
   "codemirror_mode": {
    "name": "ipython",
    "version": 3
   },
   "file_extension": ".py",
   "mimetype": "text/x-python",
   "name": "python",
   "nbconvert_exporter": "python",
   "pygments_lexer": "ipython3",
   "version": "3.10.12"
  }
 },
 "nbformat": 4,
 "nbformat_minor": 2
}
