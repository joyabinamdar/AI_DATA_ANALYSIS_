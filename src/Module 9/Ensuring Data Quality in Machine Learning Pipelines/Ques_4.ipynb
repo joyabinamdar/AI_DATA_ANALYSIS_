{
 "cells": [
  {
   "cell_type": "markdown",
   "metadata": {},
   "source": [
    "### Detecting & Handling Imbalanced Data: Visualizing Class Imbalance\n",
    "**Question**: Load the Credit Card Fraud Detection dataset and visualize the class imbalance. Then apply random undersampling to balance it."
   ]
  },
  {
   "cell_type": "code",
   "execution_count": 2,
   "metadata": {},
   "outputs": [
    {
     "name": "stdout",
     "output_type": "stream",
     "text": [
      "Error: File not found: creditcard.csv\n"
     ]
    }
   ],
   "source": [
    "import pandas as pd\n",
    "import matplotlib.pyplot as plt\n",
    "from sklearn.utils import resample\n",
    "import os\n",
    "\n",
    "def load_dataset(filepath):\n",
    "    \"\"\"\n",
    "    Load dataset and check for the presence of required columns.\n",
    "    \"\"\"\n",
    "    if not os.path.isfile(filepath):\n",
    "        raise FileNotFoundError(f\"File not found: {filepath}\")\n",
    "    \n",
    "    df = pd.read_csv(filepath)\n",
    "    if 'Class' not in df.columns:\n",
    "        raise ValueError(\"Required column 'Class' not found in dataset.\")\n",
    "    \n",
    "    return df\n",
    "\n",
    "def visualize_class_distribution(df, title=\"Class Distribution\"):\n",
    "    \"\"\"\n",
    "    Plot class distribution.\n",
    "    \"\"\"\n",
    "    plt.figure(figsize=(6, 4))\n",
    "    df['Class'].value_counts().sort_index().plot(kind='bar', color=['skyblue', 'salmon'])\n",
    "    plt.title(title)\n",
    "    plt.xlabel(\"Class (0 = Legit, 1 = Fraud)\")\n",
    "    plt.ylabel(\"Count\")\n",
    "    plt.xticks(rotation=0)\n",
    "    plt.grid(axis='y')\n",
    "    plt.tight_layout()\n",
    "    plt.show()\n",
    "\n",
    "def apply_random_undersampling(df):\n",
    "    \"\"\"\n",
    "    Perform random undersampling to balance the dataset.\n",
    "    \"\"\"\n",
    "    df_majority = df[df['Class'] == 0]\n",
    "    df_minority = df[df['Class'] == 1]\n",
    "    \n",
    "    df_majority_downsampled = resample(\n",
    "        df_majority,\n",
    "        replace=False,\n",
    "        n_samples=len(df_minority),\n",
    "        random_state=42\n",
    "    )\n",
    "    \n",
    "    return pd.concat([df_majority_downsampled, df_minority])\n",
    "\n",
    "# Main execution\n",
    "if __name__ == \"__main__\":\n",
    "    try:\n",
    "        df = load_dataset(\"creditcard.csv\")\n",
    "        visualize_class_distribution(df, title=\"Original Class Distribution\")\n",
    "        \n",
    "        df_balanced = apply_random_undersampling(df)\n",
    "        visualize_class_distribution(df_balanced, title=\"Balanced Class Distribution (Random Undersampling)\")\n",
    "    \n",
    "    except (FileNotFoundError, ValueError) as e:\n",
    "        print(f\"Error: {e}\")\n"
   ]
  }
 ],
 "metadata": {
  "kernelspec": {
   "display_name": "Python 3",
   "language": "python",
   "name": "python3"
  },
  "language_info": {
   "codemirror_mode": {
    "name": "ipython",
    "version": 3
   },
   "file_extension": ".py",
   "mimetype": "text/x-python",
   "name": "python",
   "nbconvert_exporter": "python",
   "pygments_lexer": "ipython3",
   "version": "3.10.12"
  }
 },
 "nbformat": 4,
 "nbformat_minor": 2
}
