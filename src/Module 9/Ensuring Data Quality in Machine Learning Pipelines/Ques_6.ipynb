{
 "cells": [
  {
   "cell_type": "markdown",
   "metadata": {},
   "source": [
    "### Bias & Fairness in Data: Bias Mitigation Techniques\n",
    "**Question**: Use the Adult Income dataset and apply reweighing technique to balance the\n",
    "class weights based on sensitive attributes (e.g., gender)."
   ]
  },
  {
   "cell_type": "code",
   "execution_count": 1,
   "metadata": {},
   "outputs": [
    {
     "ename": "ModuleNotFoundError",
     "evalue": "No module named 'aif360'",
     "output_type": "error",
     "traceback": [
      "\u001b[0;31m---------------------------------------------------------------------------\u001b[0m",
      "\u001b[0;31mModuleNotFoundError\u001b[0m                       Traceback (most recent call last)",
      "Cell \u001b[0;32mIn[1], line 3\u001b[0m\n\u001b[1;32m      1\u001b[0m \u001b[38;5;66;03m# write your code from here\u001b[39;00m\n\u001b[1;32m      2\u001b[0m \u001b[38;5;28;01mimport\u001b[39;00m \u001b[38;5;21;01mpandas\u001b[39;00m \u001b[38;5;28;01mas\u001b[39;00m \u001b[38;5;21;01mpd\u001b[39;00m\n\u001b[0;32m----> 3\u001b[0m \u001b[38;5;28;01mfrom\u001b[39;00m \u001b[38;5;21;01maif360\u001b[39;00m\u001b[38;5;21;01m.\u001b[39;00m\u001b[38;5;21;01mdatasets\u001b[39;00m \u001b[38;5;28;01mimport\u001b[39;00m AdultDataset\n\u001b[1;32m      4\u001b[0m \u001b[38;5;28;01mfrom\u001b[39;00m \u001b[38;5;21;01maif360\u001b[39;00m\u001b[38;5;21;01m.\u001b[39;00m\u001b[38;5;21;01malgorithms\u001b[39;00m\u001b[38;5;21;01m.\u001b[39;00m\u001b[38;5;21;01mpreprocessing\u001b[39;00m \u001b[38;5;28;01mimport\u001b[39;00m Reweighing\n\u001b[1;32m      5\u001b[0m \u001b[38;5;28;01mfrom\u001b[39;00m \u001b[38;5;21;01msklearn\u001b[39;00m\u001b[38;5;21;01m.\u001b[39;00m\u001b[38;5;21;01mpreprocessing\u001b[39;00m \u001b[38;5;28;01mimport\u001b[39;00m StandardScaler\n",
      "\u001b[0;31mModuleNotFoundError\u001b[0m: No module named 'aif360'"
     ]
    }
   ],
   "source": [
    "# write your code from here\n",
    "import pandas as pd\n",
    "from aif360.datasets import AdultDataset\n",
    "from aif360.algorithms.preprocessing import Reweighing\n",
    "from sklearn.preprocessing import StandardScaler\n",
    "from sklearn.model_selection import train_test_split\n",
    "import numpy as np\n",
    "\n",
    "# Load Adult Income Dataset\n",
    "dataset = AdultDataset(protected_attribute_names=['sex'],\n",
    "                       privileged_classes=[['Male']],\n",
    "                       features_to_drop=['education-num'])\n",
    "\n",
    "# Split into train and test\n",
    "train, test = dataset.split([0.7], shuffle=True)\n",
    "\n",
    "# Apply Reweighing\n",
    "RW = Reweighing(unprivileged_groups=[{'sex': 0}],  # 0: Female\n",
    "                privileged_groups=[{'sex': 1}])    # 1: Male\n",
    "\n",
    "RW.fit(train)\n",
    "train_transf = RW.transform(train)\n",
    "\n",
    "# Show class weights before and after\n",
    "def print_weights(title, dataset):\n",
    "    df = pd.DataFrame({\n",
    "        'sex': dataset.features[:, dataset.feature_names.index('sex')],\n",
    "        'label': dataset.labels.ravel(),\n",
    "        'instance_weight': dataset.instance_weights\n",
    "    })\n",
    "    print(f\"\\n{title} (Mean weights by sex and label):\\n\")\n",
    "    print(df.groupby(['sex', 'label'])['instance_weight'].mean())\n",
    "\n",
    "print_weights(\"Before Reweighing\", train)\n",
    "print_weights(\"After Reweighing\", train_transf)\n"
   ]
  }
 ],
 "metadata": {
  "kernelspec": {
   "display_name": "Python 3",
   "language": "python",
   "name": "python3"
  },
  "language_info": {
   "codemirror_mode": {
    "name": "ipython",
    "version": 3
   },
   "file_extension": ".py",
   "mimetype": "text/x-python",
   "name": "python",
   "nbconvert_exporter": "python",
   "pygments_lexer": "ipython3",
   "version": "3.10.12"
  }
 },
 "nbformat": 4,
 "nbformat_minor": 2
}
