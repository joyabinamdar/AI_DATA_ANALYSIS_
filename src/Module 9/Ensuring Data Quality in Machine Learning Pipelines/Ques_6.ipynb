{
 "cells": [
  {
   "cell_type": "markdown",
   "metadata": {},
   "source": [
    "### Bias & Fairness in Data: Bias Mitigation Techniques\n",
    "**Question**: Use the Adult Income dataset and apply reweighing technique to balance the\n",
    "class weights based on sensitive attributes (e.g., gender)."
   ]
  },
  {
   "cell_type": "code",
   "execution_count": 3,
   "metadata": {},
   "outputs": [
    {
     "ename": "ModuleNotFoundError",
     "evalue": "No module named 'aif360'",
     "output_type": "error",
     "traceback": [
      "\u001b[0;31m---------------------------------------------------------------------------\u001b[0m",
      "\u001b[0;31mModuleNotFoundError\u001b[0m                       Traceback (most recent call last)",
      "Cell \u001b[0;32mIn[3], line 3\u001b[0m\n\u001b[1;32m      1\u001b[0m \u001b[38;5;28;01mimport\u001b[39;00m \u001b[38;5;21;01mpandas\u001b[39;00m \u001b[38;5;28;01mas\u001b[39;00m \u001b[38;5;21;01mpd\u001b[39;00m\n\u001b[1;32m      2\u001b[0m \u001b[38;5;28;01mimport\u001b[39;00m \u001b[38;5;21;01mnumpy\u001b[39;00m \u001b[38;5;28;01mas\u001b[39;00m \u001b[38;5;21;01mnp\u001b[39;00m\n\u001b[0;32m----> 3\u001b[0m \u001b[38;5;28;01mfrom\u001b[39;00m \u001b[38;5;21;01maif360\u001b[39;00m\u001b[38;5;21;01m.\u001b[39;00m\u001b[38;5;21;01mdatasets\u001b[39;00m \u001b[38;5;28;01mimport\u001b[39;00m AdultDataset\n\u001b[1;32m      4\u001b[0m \u001b[38;5;28;01mfrom\u001b[39;00m \u001b[38;5;21;01maif360\u001b[39;00m\u001b[38;5;21;01m.\u001b[39;00m\u001b[38;5;21;01malgorithms\u001b[39;00m\u001b[38;5;21;01m.\u001b[39;00m\u001b[38;5;21;01mpreprocessing\u001b[39;00m \u001b[38;5;28;01mimport\u001b[39;00m Reweighing\n\u001b[1;32m      5\u001b[0m \u001b[38;5;28;01mimport\u001b[39;00m \u001b[38;5;21;01munittest\u001b[39;00m\n",
      "\u001b[0;31mModuleNotFoundError\u001b[0m: No module named 'aif360'"
     ]
    }
   ],
   "source": [
    "import pandas as pd\n",
    "import numpy as np\n",
    "from aif360.datasets import AdultDataset\n",
    "from aif360.algorithms.preprocessing import Reweighing\n",
    "import unittest\n",
    "\n",
    "def load_adult_dataset():\n",
    "    try:\n",
    "        dataset = AdultDataset(\n",
    "            protected_attribute_names=['sex'],\n",
    "            privileged_classes=[['Male']],\n",
    "            features_to_drop=['education-num']\n",
    "        )\n",
    "        return dataset\n",
    "    except Exception as e:\n",
    "        print(f\"Error loading dataset: {e}\")\n",
    "        return None\n",
    "\n",
    "def apply_reweighing(dataset):\n",
    "    try:\n",
    "        train, _ = dataset.split([0.7], shuffle=True)\n",
    "        rw = Reweighing(unprivileged_groups=[{'sex': 0}], privileged_groups=[{'sex': 1}])\n",
    "        rw.fit(train)\n",
    "        transformed_train = rw.transform(train)\n",
    "        return train, transformed_train\n",
    "    except Exception as e:\n",
    "        print(f\"Error during reweighing: {e}\")\n",
    "        return None, None\n",
    "\n",
    "def analyze_weights(title, dataset):\n",
    "    df = pd.DataFrame({\n",
    "        'sex': dataset.features[:, dataset.feature_names.index('sex')],\n",
    "        'label': dataset.labels.ravel(),\n",
    "        'instance_weight': dataset.instance_weights\n",
    "    })\n",
    "    print(f\"\\n{title} - Mean instance weights:\\n\")\n",
    "    print(df.groupby(['sex', 'label'])['instance_weight'].mean())\n",
    "\n",
    "# --- Unit Test ---\n",
    "class TestReweighing(unittest.TestCase):\n",
    "\n",
    "    def test_reweighing_changes_weights(self):\n",
    "        dataset = load_adult_dataset()\n",
    "        train, transformed = apply_reweighing(dataset)\n",
    "\n",
    "        # Ensure transformed weights are different\n",
    "        self.assertIsNotNone(train)\n",
    "        self.assertIsNotNone(transformed)\n",
    "        original_weights = train.instance_weights\n",
    "        new_weights = transformed.instance_weights\n",
    "\n",
    "        self.assertFalse(np.allclose(original_weights, new_weights),\n",
    "                         msg=\"Reweighing did not change the instance weights.\")\n",
    "\n",
    "if __name__ == \"__main__\":\n",
    "    data = load_adult_dataset()\n",
    "    if data:\n",
    "        train_raw, train_rw = apply_reweighing(data)\n",
    "        if train_rw:\n",
    "            analyze_weights(\"Before Reweighing\", train_raw)\n",
    "            analyze_weights(\"After Reweighing\", train_rw)\n",
    "\n",
    "    unittest.main(argv=['first-arg-is-ignored'], exit=False)\n"
   ]
  }
 ],
 "metadata": {
  "kernelspec": {
   "display_name": "Python 3",
   "language": "python",
   "name": "python3"
  },
  "language_info": {
   "codemirror_mode": {
    "name": "ipython",
    "version": 3
   },
   "file_extension": ".py",
   "mimetype": "text/x-python",
   "name": "python",
   "nbconvert_exporter": "python",
   "pygments_lexer": "ipython3",
   "version": "3.10.12"
  }
 },
 "nbformat": 4,
 "nbformat_minor": 2
}
