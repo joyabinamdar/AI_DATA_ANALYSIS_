{
 "cells": [
  {
   "cell_type": "markdown",
   "metadata": {},
   "source": [
    "### Feature Engineering Best Practices: Handling Text Data\n",
    "**Question**: Load a dataset with text data (e.g., SMS Spam Collection), perform text\n",
    "preprocessing, and extract numerical features using TF-IDF."
   ]
  },
  {
   "cell_type": "code",
   "execution_count": 2,
   "metadata": {},
   "outputs": [
    {
     "name": "stderr",
     "output_type": "stream",
     "text": [
      "...\n",
      "----------------------------------------------------------------------\n",
      "Ran 3 tests in 0.002s\n",
      "\n",
      "OK\n"
     ]
    },
    {
     "name": "stdout",
     "output_type": "stream",
     "text": [
      "TF-IDF matrix shape: (5572, 9277)\n",
      "Vocabulary size: 9277\n",
      "Train samples: 4457, Test samples: 1115\n"
     ]
    }
   ],
   "source": [
    "import pandas as pd\n",
    "import string\n",
    "import requests\n",
    "from sklearn.feature_extraction.text import TfidfVectorizer\n",
    "from sklearn.model_selection import train_test_split\n",
    "import unittest\n",
    "\n",
    "# ---------------------------\n",
    "# Error-safe Dataset Loader\n",
    "# ---------------------------\n",
    "def load_sms_dataset(url):\n",
    "    try:\n",
    "        response = requests.get(url)\n",
    "        response.raise_for_status()  # Will raise HTTPError for bad responses\n",
    "        df = pd.read_csv(url, sep='\\t', header=None, names=['label', 'message'])\n",
    "        assert 'label' in df.columns and 'message' in df.columns\n",
    "        return df\n",
    "    except Exception as e:\n",
    "        print(f\"Error loading dataset: {e}\")\n",
    "        return None\n",
    "\n",
    "# ---------------------------\n",
    "# Preprocessing Function\n",
    "# ---------------------------\n",
    "def preprocess_text(text):\n",
    "    text = text.lower()\n",
    "    text = text.translate(str.maketrans('', '', string.punctuation))\n",
    "    return text\n",
    "\n",
    "# ---------------------------\n",
    "# Main TF-IDF Pipeline\n",
    "# ---------------------------\n",
    "def run_pipeline():\n",
    "    url = \"https://raw.githubusercontent.com/justmarkham/pycon-2016-tutorial/master/data/sms.tsv\"\n",
    "    df = load_sms_dataset(url)\n",
    "    if df is None:\n",
    "        return\n",
    "\n",
    "    df['clean_message'] = df['message'].apply(preprocess_text)\n",
    "    vectorizer = TfidfVectorizer(stop_words='english')\n",
    "    X = vectorizer.fit_transform(df['clean_message'])\n",
    "\n",
    "    df['label_num'] = df['label'].map({'ham': 0, 'spam': 1})\n",
    "    y = df['label_num']\n",
    "    X_train, X_test, y_train, y_test = train_test_split(X, y, test_size=0.2, random_state=42)\n",
    "\n",
    "    print(f\"TF-IDF matrix shape: {X.shape}\")\n",
    "    print(f\"Vocabulary size: {len(vectorizer.vocabulary_)}\")\n",
    "    print(f\"Train samples: {X_train.shape[0]}, Test samples: {X_test.shape[0]}\")\n",
    "\n",
    "# ---------------------------\n",
    "# Unit Tests\n",
    "# ---------------------------\n",
    "class TestPreprocessing(unittest.TestCase):\n",
    "\n",
    "    def test_lowercase_conversion(self):\n",
    "        self.assertEqual(preprocess_text(\"Hello World!\"), \"hello world\")\n",
    "\n",
    "    def test_punctuation_removal(self):\n",
    "        self.assertEqual(preprocess_text(\"Yes!!! Great?\"), \"yes great\")\n",
    "\n",
    "    def test_empty_string(self):\n",
    "        self.assertEqual(preprocess_text(\"\"), \"\")\n",
    "\n",
    "# ---------------------------\n",
    "# Run everything\n",
    "# ---------------------------\n",
    "if __name__ == \"__main__\":\n",
    "    run_pipeline()\n",
    "    unittest.main(argv=['first-arg-is-ignored'], exit=False)\n"
   ]
  }
 ],
 "metadata": {
  "kernelspec": {
   "display_name": "Python 3",
   "language": "python",
   "name": "python3"
  },
  "language_info": {
   "codemirror_mode": {
    "name": "ipython",
    "version": 3
   },
   "file_extension": ".py",
   "mimetype": "text/x-python",
   "name": "python",
   "nbconvert_exporter": "python",
   "pygments_lexer": "ipython3",
   "version": "3.10.12"
  }
 },
 "nbformat": 4,
 "nbformat_minor": 2
}
