{
 "cells": [
  {
   "cell_type": "markdown",
   "metadata": {},
   "source": [
    "### Data Drift: Detection Using Statistical Tests\n",
    "**Question**: Simulate two datasets with a shift in distribution, and apply the Kolmogorov-\n",
    "Smirnov test to determine if data drift has occurred."
   ]
  },
  {
   "cell_type": "code",
   "execution_count": 1,
   "metadata": {},
   "outputs": [
    {
     "name": "stdout",
     "output_type": "stream",
     "text": [
      "KS Statistic: 0.1860\n",
      "P-value: 0.0000\n",
      "Data drift detected: distributions differ significantly.\n"
     ]
    }
   ],
   "source": [
    "# write your code from here\n",
    "import numpy as np\n",
    "from scipy.stats import ks_2samp\n",
    "\n",
    "# Simulate data without drift: both from N(0,1)\n",
    "data1 = np.random.normal(loc=0, scale=1, size=1000)\n",
    "\n",
    "# Simulate data with drift: from N(0.5, 1)\n",
    "data2 = np.random.normal(loc=0.5, scale=1, size=1000)\n",
    "\n",
    "# Apply Kolmogorov-Smirnov test\n",
    "ks_stat, p_value = ks_2samp(data1, data2)\n",
    "\n",
    "print(f\"KS Statistic: {ks_stat:.4f}\")\n",
    "print(f\"P-value: {p_value:.4f}\")\n",
    "\n",
    "if p_value < 0.05:\n",
    "    print(\"Data drift detected: distributions differ significantly.\")\n",
    "else:\n",
    "    print(\"No significant data drift detected.\")\n"
   ]
  }
 ],
 "metadata": {
  "kernelspec": {
   "display_name": "Python 3",
   "language": "python",
   "name": "python3"
  },
  "language_info": {
   "codemirror_mode": {
    "name": "ipython",
    "version": 3
   },
   "file_extension": ".py",
   "mimetype": "text/x-python",
   "name": "python",
   "nbconvert_exporter": "python",
   "pygments_lexer": "ipython3",
   "version": "3.10.12"
  }
 },
 "nbformat": 4,
 "nbformat_minor": 2
}
