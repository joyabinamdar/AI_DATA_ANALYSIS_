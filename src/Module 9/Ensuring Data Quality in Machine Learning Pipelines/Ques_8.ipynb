{
 "cells": [
  {
   "cell_type": "markdown",
   "metadata": {},
   "source": [
    "### Data Drift: Detection Using Statistical Tests\n",
    "**Question**: Simulate two datasets with a shift in distribution, and apply the Kolmogorov-\n",
    "Smirnov test to determine if data drift has occurred."
   ]
  },
  {
   "cell_type": "code",
   "execution_count": 2,
   "metadata": {},
   "outputs": [
    {
     "name": "stderr",
     "output_type": "stream",
     "text": [
      ".....\n",
      "----------------------------------------------------------------------\n",
      "Ran 5 tests in 0.011s\n",
      "\n",
      "OK\n"
     ]
    },
    {
     "name": "stdout",
     "output_type": "stream",
     "text": [
      "KS Statistic: 0.2000, P-value: 0.0000\n",
      "Data drift detected.\n"
     ]
    },
    {
     "data": {
      "text/plain": [
       "<unittest.main.TestProgram at 0x77a57544d0c0>"
      ]
     },
     "execution_count": 2,
     "metadata": {},
     "output_type": "execute_result"
    }
   ],
   "source": [
    "import numpy as np\n",
    "from scipy.stats import ks_2samp\n",
    "import unittest\n",
    "\n",
    "def simulate_data(loc, scale, size):\n",
    "    if not isinstance(size, int) or size <= 0:\n",
    "        raise ValueError(\"size must be a positive integer\")\n",
    "    if scale <= 0:\n",
    "        raise ValueError(\"scale must be positive\")\n",
    "    return np.random.normal(loc=loc, scale=scale, size=size)\n",
    "\n",
    "def detect_drift(data1, data2, alpha=0.05):\n",
    "    if len(data1) == 0 or len(data2) == 0:\n",
    "        raise ValueError(\"Input datasets must not be empty\")\n",
    "    ks_stat, p_value = ks_2samp(data1, data2)\n",
    "    drift = p_value < alpha\n",
    "    return ks_stat, p_value, drift\n",
    "\n",
    "# Example usage\n",
    "if __name__ == \"__main__\":\n",
    "    data1 = simulate_data(loc=0, scale=1, size=1000)\n",
    "    data2 = simulate_data(loc=0.5, scale=1, size=1000)\n",
    "    ks_stat, p_value, drift = detect_drift(data1, data2)\n",
    "    print(f\"KS Statistic: {ks_stat:.4f}, P-value: {p_value:.4f}\")\n",
    "    print(\"Data drift detected.\" if drift else \"No significant data drift detected.\")\n",
    "\n",
    "# Unit Tests\n",
    "class TestDataDriftDetection(unittest.TestCase):\n",
    "\n",
    "    def test_no_drift(self):\n",
    "        d1 = simulate_data(0, 1, 1000)\n",
    "        d2 = simulate_data(0, 1, 1000)\n",
    "        _, _, drift = detect_drift(d1, d2)\n",
    "        self.assertFalse(drift, \"Should not detect drift for identical distributions\")\n",
    "\n",
    "    def test_with_drift(self):\n",
    "        d1 = simulate_data(0, 1, 1000)\n",
    "        d2 = simulate_data(1, 1, 1000)\n",
    "        _, _, drift = detect_drift(d1, d2)\n",
    "        self.assertTrue(drift, \"Should detect drift for different distributions\")\n",
    "\n",
    "    def test_invalid_size(self):\n",
    "        with self.assertRaises(ValueError):\n",
    "            simulate_data(0, 1, -5)\n",
    "\n",
    "    def test_invalid_scale(self):\n",
    "        with self.assertRaises(ValueError):\n",
    "            simulate_data(0, 0, 100)\n",
    "\n",
    "    def test_empty_data(self):\n",
    "        with self.assertRaises(ValueError):\n",
    "            detect_drift(np.array([]), np.array([1,2,3]))\n",
    "\n",
    "unittest.main(argv=['first-arg-is-ignored'], exit=False)\n"
   ]
  }
 ],
 "metadata": {
  "kernelspec": {
   "display_name": "Python 3",
   "language": "python",
   "name": "python3"
  },
  "language_info": {
   "codemirror_mode": {
    "name": "ipython",
    "version": 3
   },
   "file_extension": ".py",
   "mimetype": "text/x-python",
   "name": "python",
   "nbconvert_exporter": "python",
   "pygments_lexer": "ipython3",
   "version": "3.10.12"
  }
 },
 "nbformat": 4,
 "nbformat_minor": 2
}
