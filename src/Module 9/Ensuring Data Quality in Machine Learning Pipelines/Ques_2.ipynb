{
 "cells": [
  {
   "cell_type": "markdown",
   "metadata": {},
   "source": [
    "### Bias & Fairness in Data: Distribution Check\n",
    "**Description**: Load the Adult Income dataset and check for representation bias by analyzing the distribution of gender across different income levels."
   ]
  },
  {
   "cell_type": "code",
   "execution_count": 2,
   "metadata": {},
   "outputs": [
    {
     "name": "stdout",
     "output_type": "stream",
     "text": [
      "Error: File 'adult.csv' not found.\n"
     ]
    }
   ],
   "source": [
    "import pandas as pd\n",
    "\n",
    "def load_data(filepath):\n",
    "    \"\"\"\n",
    "    Load the Adult Income dataset from a CSV file.\n",
    "    Includes basic error handling for missing or malformed files.\n",
    "    \"\"\"\n",
    "    try:\n",
    "        df = pd.read_csv(filepath)\n",
    "        return df\n",
    "    except FileNotFoundError:\n",
    "        print(f\"Error: File '{filepath}' not found.\")\n",
    "        return None\n",
    "    except pd.errors.ParserError:\n",
    "        print(f\"Error: File '{filepath}' could not be parsed. Check CSV formatting.\")\n",
    "        return None\n",
    "\n",
    "\n",
    "def clean_data(df):\n",
    "    \"\"\"\n",
    "    Strip leading/trailing whitespace from column names and specific string columns.\n",
    "    This ensures consistent formatting when filtering or grouping.\n",
    "    \"\"\"\n",
    "    df.columns = df.columns.str.strip()\n",
    "    if 'sex' in df.columns:\n",
    "        df['sex'] = df['sex'].astype(str).str.strip()\n",
    "    if 'income' in df.columns:\n",
    "        df['income'] = df['income'].astype(str).str.strip()\n",
    "    return df\n",
    "\n",
    "\n",
    "def analyze_gender_income_distribution(df):\n",
    "    \"\"\"\n",
    "    Generate a crosstab of gender distribution across income levels.\n",
    "    Returns the distribution in percentages.\n",
    "    \"\"\"\n",
    "    # Validate that required columns exist\n",
    "    assert 'sex' in df.columns, \"'sex' column not found in the dataset.\"\n",
    "    assert 'income' in df.columns, \"'income' column not found in the dataset.\"\n",
    "\n",
    "    # Crosstab: Percentage of each gender per income level\n",
    "    return pd.crosstab(df['sex'], df['income'], normalize='columns') * 100\n",
    "\n",
    "\n",
    "if __name__ == \"__main__\":\n",
    "    file_path = \"adult.csv\"\n",
    "    df = load_data(file_path)\n",
    "\n",
    "    if df is not None:\n",
    "        df = clean_data(df)\n",
    "        try:\n",
    "            gender_income_dist = analyze_gender_income_distribution(df)\n",
    "            print(\"Gender Distribution by Income Level (%):\\n\")\n",
    "            print(gender_income_dist.round(2))\n",
    "        except AssertionError as e:\n",
    "            print(f\"Validation Error: {e}\")\n"
   ]
  }
 ],
 "metadata": {
  "kernelspec": {
   "display_name": "Python 3",
   "language": "python",
   "name": "python3"
  },
  "language_info": {
   "codemirror_mode": {
    "name": "ipython",
    "version": 3
   },
   "file_extension": ".py",
   "mimetype": "text/x-python",
   "name": "python",
   "nbconvert_exporter": "python",
   "pygments_lexer": "ipython3",
   "version": "3.10.12"
  }
 },
 "nbformat": 4,
 "nbformat_minor": 2
}
