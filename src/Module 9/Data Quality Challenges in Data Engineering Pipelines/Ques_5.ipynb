{
 "cells": [
  {
   "cell_type": "markdown",
   "metadata": {},
   "source": [
    "### Implementing Data Validation using Protobuf in a Distributed System\n",
    "**Description**: Use gRPC to implement a distributed system that validates messages using\n",
    "Protobuf.\n",
    "\n",
    "**Steps**:\n",
    "1. Create a .proto file for gRPC service.\n",
    "2. Implement server-side validation\n",
    "    - Create a gRPC server\n",
    "    - Bind the server to an address\n",
    "    - Start server"
   ]
  },
  {
   "cell_type": "code",
   "execution_count": 2,
   "metadata": {},
   "outputs": [],
   "source": [
    "from grpc import StatusCode\n",
    "\n",
    "def ValidateData(self, request, context):\n",
    "    try:\n",
    "        if not request.id or not request.name:\n",
    "            context.set_code(StatusCode.INVALID_ARGUMENT)\n",
    "            context.set_details('ID and Name must be provided.')\n",
    "            return validation_service_pb2.ValidationResponse(is_valid=False)\n",
    "        if request.age < 0 or request.age > 120:\n",
    "            context.set_code(StatusCode.OUT_OF_RANGE)\n",
    "            context.set_details('Age must be between 0 and 120.')\n",
    "            return validation_service_pb2.ValidationResponse(is_valid=False)\n",
    "        # Additional validations here\n",
    "        return validation_service_pb2.ValidationResponse(is_valid=True, message=\"Validation passed.\")\n",
    "    except Exception as e:\n",
    "        context.set_code(StatusCode.INTERNAL)\n",
    "        context.set_details(f'Unexpected error: {str(e)}')\n",
    "        return validation_service_pb2.ValidationResponse(is_valid=False)\n"
   ]
  }
 ],
 "metadata": {
  "kernelspec": {
   "display_name": "Python 3",
   "language": "python",
   "name": "python3"
  },
  "language_info": {
   "codemirror_mode": {
    "name": "ipython",
    "version": 3
   },
   "file_extension": ".py",
   "mimetype": "text/x-python",
   "name": "python",
   "nbconvert_exporter": "python",
   "pygments_lexer": "ipython3",
   "version": "3.10.12"
  }
 },
 "nbformat": 4,
 "nbformat_minor": 2
}
