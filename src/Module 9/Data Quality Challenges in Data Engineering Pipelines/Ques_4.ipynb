{
 "cells": [
  {
   "cell_type": "markdown",
   "metadata": {},
   "source": [
    "### Complex Schema Validation with Avro\n",
    "**Description**: Implement a solution in Python to validate records against a complex nested Avro schema.\n",
    "\n",
    "Eg., Complex schema ( nested_schema.avsc ):\n",
    "\n",
    "**Steps**:\n",
    "1. Load schema\n",
    "2. Example data to validate\n",
    "3. Validate against schema\n",
    "4. Read back to check"
   ]
  },
  {
   "cell_type": "code",
   "execution_count": 1,
   "metadata": {},
   "outputs": [
    {
     "ename": "ModuleNotFoundError",
     "evalue": "No module named 'fastavro'",
     "output_type": "error",
     "traceback": [
      "\u001b[0;31m---------------------------------------------------------------------------\u001b[0m",
      "\u001b[0;31mModuleNotFoundError\u001b[0m                       Traceback (most recent call last)",
      "Cell \u001b[0;32mIn[1], line 2\u001b[0m\n\u001b[1;32m      1\u001b[0m \u001b[38;5;66;03m# write your code from here\u001b[39;00m\n\u001b[0;32m----> 2\u001b[0m \u001b[38;5;28;01mfrom\u001b[39;00m \u001b[38;5;21;01mfastavro\u001b[39;00m \u001b[38;5;28;01mimport\u001b[39;00m parse_schema, validation\n\u001b[1;32m      3\u001b[0m \u001b[38;5;28;01mimport\u001b[39;00m \u001b[38;5;21;01mjson\u001b[39;00m\n\u001b[1;32m      5\u001b[0m \u001b[38;5;66;03m# === Step 1: Load Avro schema ===\u001b[39;00m\n",
      "\u001b[0;31mModuleNotFoundError\u001b[0m: No module named 'fastavro'"
     ]
    }
   ],
   "source": [
    "# write your code from here\n",
    "from fastavro import parse_schema, validation\n",
    "import json\n",
    "\n",
    "# === Step 1: Load Avro schema ===\n",
    "with open(\"nested_schema.avsc\", \"r\") as f:\n",
    "    schema = json.load(f)\n",
    "\n",
    "parsed_schema = parse_schema(schema)\n",
    "\n",
    "# === Step 2: Example data to validate ===\n",
    "example_record = {\n",
    "    \"id\": 123,\n",
    "    \"name\": \"John Doe\",\n",
    "    \"address\": {\n",
    "        \"street\": \"123 Main St\",\n",
    "        \"city\": \"Springfield\",\n",
    "        \"zip\": \"12345\"\n",
    "    },\n",
    "    \"phones\": [\n",
    "        {\"type\": \"home\", \"number\": \"555-1234\"},\n",
    "        {\"type\": \"work\", \"number\": \"555-5678\"}\n",
    "    ]\n",
    "}\n",
    "\n",
    "# === Step 3: Validate record against schema ===\n",
    "is_valid = validation.validate(parsed_schema, example_record)\n",
    "print(\"Validation Result:\", is_valid)\n",
    "\n",
    "if not is_valid:\n",
    "    print(\"❌ Record does not conform to schema.\")\n",
    "else:\n",
    "    print(\"✅ Record is valid.\")\n",
    "\n",
    "# === Step 4: (Optional) Read and write example to check ===\n",
    "from fastavro import writer, reader\n",
    "\n",
    "# Write record to Avro file\n",
    "with open(\"example.avro\", \"wb\") as out_file:\n",
    "    writer(out_file, parsed_schema, [example_record])\n",
    "\n",
    "# Read back the record\n",
    "with open(\"example.avro\", \"rb\") as in_file:\n",
    "    for record in reader(in_file):\n",
    "        print(\"Read back record:\", record)\n"
   ]
  }
 ],
 "metadata": {
  "kernelspec": {
   "display_name": "Python 3",
   "language": "python",
   "name": "python3"
  },
  "language_info": {
   "codemirror_mode": {
    "name": "ipython",
    "version": 3
   },
   "file_extension": ".py",
   "mimetype": "text/x-python",
   "name": "python",
   "nbconvert_exporter": "python",
   "pygments_lexer": "ipython3",
   "version": "3.10.12"
  }
 },
 "nbformat": 4,
 "nbformat_minor": 2
}
