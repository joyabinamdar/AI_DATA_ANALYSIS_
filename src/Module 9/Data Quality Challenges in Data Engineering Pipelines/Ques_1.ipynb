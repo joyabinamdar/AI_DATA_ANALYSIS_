{
 "cells": [
  {
   "cell_type": "markdown",
   "metadata": {},
   "source": [
    "### Task 1: Detecting Missing Values during Data Ingestion\n",
    "**Description**: You have a CSV file with missing values in some columns. Write a Python script to detect and report missing values during the ingestion process.\n",
    "\n",
    "**Steps**:\n",
    "1. Load data\n",
    "2. Check for missing values\n",
    "3. Report missing values"
   ]
  },
  {
   "cell_type": "code",
   "execution_count": 2,
   "metadata": {},
   "outputs": [
    {
     "name": "stdout",
     "output_type": "stream",
     "text": [
      "❌ Error: File not found at path: data.csv\n"
     ]
    }
   ],
   "source": [
    "import pandas as pd\n",
    "\n",
    "def load_data(file_path):\n",
    "    \"\"\"Load CSV data with error handling.\"\"\"\n",
    "    try:\n",
    "        df = pd.read_csv(file_path)\n",
    "        print(\"✅ Data loaded successfully.\")\n",
    "        return df\n",
    "    except FileNotFoundError:\n",
    "        print(f\"❌ Error: File not found at path: {file_path}\")\n",
    "    except pd.errors.ParserError:\n",
    "        print(\"❌ Error: Could not parse CSV file.\")\n",
    "    except Exception as e:\n",
    "        print(f\"❌ Unexpected error: {e}\")\n",
    "    return None\n",
    "\n",
    "def detect_missing_values(df):\n",
    "    \"\"\"Detect and report missing values.\"\"\"\n",
    "    missing = df.isnull().sum()\n",
    "    missing = missing[missing > 0]\n",
    "    if missing.empty:\n",
    "        print(\"✅ No missing values detected.\")\n",
    "    else:\n",
    "        print(\"⚠️ Missing values found:\")\n",
    "        print(missing)\n",
    "\n",
    "def validate_data_types(df, expected_types):\n",
    "    \"\"\"Validate data types against expected schema.\"\"\"\n",
    "    for col, expected_type in expected_types.items():\n",
    "        if col not in df.columns:\n",
    "            print(f\"❌ Missing column: {col}\")\n",
    "        elif not pd.api.types.is_dtype_equal(df[col].dtype, expected_type):\n",
    "            print(f\"⚠️ Column '{col}' has type {df[col].dtype}, expected {expected_type}\")\n",
    "        else:\n",
    "            print(f\"✅ Column '{col}' type is valid.\")\n",
    "\n",
    "def remove_duplicates(df):\n",
    "    \"\"\"Remove duplicate rows and report count.\"\"\"\n",
    "    initial_count = len(df)\n",
    "    df = df.drop_duplicates()\n",
    "    removed = initial_count - len(df)\n",
    "    print(f\"✅ Removed {removed} duplicate rows.\")\n",
    "    return df\n",
    "\n",
    "# === Main Execution ===\n",
    "if __name__ == \"__main__\":\n",
    "    file_path = \"data.csv\"  # Update path\n",
    "    expected_types = {\n",
    "        \"id\": \"int64\",\n",
    "        \"name\": \"object\",\n",
    "        \"age\": \"float64\"\n",
    "    }\n",
    "\n",
    "    df = load_data(file_path)\n",
    "    if df is not None:\n",
    "        detect_missing_values(df)\n",
    "        validate_data_types(df, expected_types)\n",
    "        df = remove_duplicates(df)\n"
   ]
  },
  {
   "cell_type": "markdown",
   "metadata": {},
   "source": [
    "### Task 2: Validate Data Types during Extraction\n",
    "**Description**: You have a JSON file that should have specific data types for each field. Write a script to validate if the data types match the expected schema.\n",
    "\n",
    "**Steps**:\n",
    "1. Define expected schema\n",
    "2. Validate data types"
   ]
  },
  {
   "cell_type": "code",
   "execution_count": 3,
   "metadata": {},
   "outputs": [],
   "source": [
    "# Write your code from here"
   ]
  },
  {
   "cell_type": "markdown",
   "metadata": {},
   "source": [
    "### Task 3: Remove Duplicate Records in Data\n",
    "**Description**: You have a dataset with duplicate entries. Write a Python script to find and remove duplicate records using Pandas.\n",
    "\n",
    "**Steps**:\n",
    "1. Find duplicate records\n",
    "2. Remove duplicates\n",
    "3. Report results"
   ]
  },
  {
   "cell_type": "code",
   "execution_count": 4,
   "metadata": {},
   "outputs": [],
   "source": [
    "# Write your code from here"
   ]
  }
 ],
 "metadata": {
  "kernelspec": {
   "display_name": "Python 3",
   "language": "python",
   "name": "python3"
  },
  "language_info": {
   "codemirror_mode": {
    "name": "ipython",
    "version": 3
   },
   "file_extension": ".py",
   "mimetype": "text/x-python",
   "name": "python",
   "nbconvert_exporter": "python",
   "pygments_lexer": "ipython3",
   "version": "3.10.12"
  }
 },
 "nbformat": 4,
 "nbformat_minor": 2
}
