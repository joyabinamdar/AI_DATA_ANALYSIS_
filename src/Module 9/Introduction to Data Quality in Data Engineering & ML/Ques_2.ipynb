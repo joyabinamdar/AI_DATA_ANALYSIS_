{
 "cells": [
  {
   "cell_type": "markdown",
   "metadata": {},
   "source": [
    "### Imputing Missing Data\n",
    "**Description**: Impute missing data using various strategies like mean, median, or mode."
   ]
  },
  {
   "cell_type": "code",
   "execution_count": 1,
   "metadata": {},
   "outputs": [
    {
     "name": "stdout",
     "output_type": "stream",
     "text": [
      "Original Data:\n",
      "    age   salary department\n",
      "0  25.0  50000.0         HR\n",
      "1  30.0      NaN         IT\n",
      "2   NaN  62000.0       None\n",
      "3  22.0  58000.0         IT\n",
      "4  28.0      NaN         HR\n",
      "5   NaN  52000.0    Finance\n",
      "\n",
      "After Imputation:\n",
      "     age   salary department\n",
      "0  25.00  50000.0         HR\n",
      "1  30.00  55000.0         IT\n",
      "2  26.25  62000.0         HR\n",
      "3  22.00  58000.0         IT\n",
      "4  28.00  55000.0         HR\n",
      "5  26.25  52000.0    Finance\n"
     ]
    }
   ],
   "source": [
    "# Write your code from here\n",
    "import pandas as pd\n",
    "\n",
    "# Sample DataFrame with missing values\n",
    "data = {\n",
    "    'age': [25, 30, None, 22, 28, None],\n",
    "    'salary': [50000, None, 62000, 58000, None, 52000],\n",
    "    'department': ['HR', 'IT', None, 'IT', 'HR', 'Finance']\n",
    "}\n",
    "df = pd.DataFrame(data)\n",
    "\n",
    "print(\"Original Data:\")\n",
    "print(df)\n",
    "\n",
    "# Impute numerical columns\n",
    "df['age'].fillna(df['age'].mean(), inplace=True)      # mean imputation\n",
    "df['salary'].fillna(df['salary'].median(), inplace=True)  # median imputation\n",
    "\n",
    "# Impute categorical column with mode\n",
    "mode_dept = df['department'].mode().iloc[0]\n",
    "df['department'].fillna(mode_dept, inplace=True)\n",
    "\n",
    "print(\"\\nAfter Imputation:\")\n",
    "print(df)\n"
   ]
  }
 ],
 "metadata": {
  "kernelspec": {
   "display_name": "Python 3",
   "language": "python",
   "name": "python3"
  },
  "language_info": {
   "codemirror_mode": {
    "name": "ipython",
    "version": 3
   },
   "file_extension": ".py",
   "mimetype": "text/x-python",
   "name": "python",
   "nbconvert_exporter": "python",
   "pygments_lexer": "ipython3",
   "version": "3.10.12"
  }
 },
 "nbformat": 4,
 "nbformat_minor": 2
}
