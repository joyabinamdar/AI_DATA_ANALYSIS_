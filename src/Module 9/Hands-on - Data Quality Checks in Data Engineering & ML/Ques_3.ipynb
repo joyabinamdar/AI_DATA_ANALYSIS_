{
 "cells": [
  {
   "cell_type": "markdown",
   "metadata": {},
   "source": [
    "### Using SHAP for Feature Drift Analysis\n",
    "**Description**: Utilize SHapley Additive exPlanations (SHAP) values to analyze feature\n",
    "importance changes over time, indicating feature drift."
   ]
  },
  {
   "cell_type": "code",
   "execution_count": null,
   "metadata": {},
   "outputs": [],
   "source": [
    "# write your code from here\n",
    "import shap\n",
    "import pandas as pd\n",
    "import numpy as np\n",
    "import matplotlib.pyplot as plt\n",
    "from sklearn.ensemble import RandomForestClassifier\n",
    "\n",
    "def compute_shap_importance(model, X):\n",
    "    \"\"\"\n",
    "    Computes mean absolute SHAP values for each feature.\n",
    "    \"\"\"\n",
    "    explainer = shap.Explainer(model, X)\n",
    "    shap_values = explainer(X)\n",
    "    mean_abs_shap = np.abs(shap_values.values).mean(axis=0)\n",
    "    return pd.Series(mean_abs_shap, index=X.columns)\n",
    "\n",
    "def plot_shap_drift(train_shap: pd.Series, test_shap: pd.Series):\n",
    "    \"\"\"\n",
    "    Plots the difference in SHAP feature importances to identify drift.\n",
    "    \"\"\"\n",
    "    drift_df = pd.DataFrame({\n",
    "        'train_importance': train_shap,\n",
    "        'test_importance': test_shap\n",
    "    })\n",
    "    drift_df['change'] = drift_df['test_importance'] - drift_df['train_importance']\n",
    "    drift_df = drift_df.sort_values(by='change', ascending=False)\n",
    "\n",
    "    drift_df[['train_importance', 'test_importance']].plot(\n",
    "        kind='bar', figsize=(12, 6), title='Feature Importance Drift (SHAP)')\n",
    "    plt.ylabel('Mean |SHAP value|')\n",
    "    plt.xticks(rotation=45)\n",
    "    plt.grid(True)\n",
    "    plt.tight_layout()\n",
    "    plt.show()\n",
    "\n",
    "    return drift_df\n"
   ]
  }
 ],
 "metadata": {
  "kernelspec": {
   "display_name": "Python 3",
   "language": "python",
   "name": "python3"
  },
  "language_info": {
   "name": "python",
   "version": "3.10.12"
  }
 },
 "nbformat": 4,
 "nbformat_minor": 2
}
