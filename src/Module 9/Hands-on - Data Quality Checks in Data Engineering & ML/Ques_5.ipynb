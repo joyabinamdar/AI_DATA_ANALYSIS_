{
 "cells": [
  {
   "cell_type": "markdown",
   "metadata": {},
   "source": [
    "## Detect Schema Mismatches in Data Pipelines\n",
    "**Objective**: Identify and resolve schema mismatches that commonly occur in data pipelines.\n",
    "\n",
    "**Task**: Missing Column\n",
    "\n",
    "1. Load the source DataFrame with the below schema:\n",
    "    - id : Integer\n",
    "    - email : String\n",
    "    - signup_date : Date\n",
    "2. Load the target DataFrame with the below schema:\n",
    "    - id : Integer\n",
    "    - email : String\n",
    "3. Implement a check to identify any columns that are present in the source DataFrame but missing in the target.\n",
    "4. Add the missing `signup_date` column to the target DataFrame."
   ]
  },
  {
   "cell_type": "code",
   "execution_count": 1,
   "metadata": {},
   "outputs": [
    {
     "name": "stdout",
     "output_type": "stream",
     "text": [
      "Missing columns in target: {'signup_date'}\n",
      "\n",
      "Updated target DataFrame:\n",
      "   id                email signup_date\n",
      "0   1    alice@example.com  2023-01-01\n",
      "1   2      bob@example.com  2023-01-15\n",
      "2   3  charlie@example.com  2023-02-01\n"
     ]
    }
   ],
   "source": [
    "# write your code from here\n",
    "import pandas as pd\n",
    "from datetime import datetime\n",
    "\n",
    "# Step 1: Load source DataFrame with schema: id, email, signup_date\n",
    "source_df = pd.DataFrame({\n",
    "    'id': [1, 2, 3],\n",
    "    'email': ['alice@example.com', 'bob@example.com', 'charlie@example.com'],\n",
    "    'signup_date': [pd.to_datetime('2023-01-01'),\n",
    "                    pd.to_datetime('2023-01-15'),\n",
    "                    pd.to_datetime('2023-02-01')]\n",
    "})\n",
    "\n",
    "# Step 2: Load target DataFrame with schema: id, email\n",
    "target_df = pd.DataFrame({\n",
    "    'id': [1, 2, 3],\n",
    "    'email': ['alice@example.com', 'bob@example.com', 'charlie@example.com']\n",
    "})\n",
    "\n",
    "# Step 3: Detect missing columns in target compared to source\n",
    "def detect_missing_columns(source: pd.DataFrame, target: pd.DataFrame):\n",
    "    source_cols = set(source.columns)\n",
    "    target_cols = set(target.columns)\n",
    "    missing_cols = source_cols - target_cols\n",
    "    return missing_cols\n",
    "\n",
    "missing_cols = detect_missing_columns(source_df, target_df)\n",
    "print(\"Missing columns in target:\", missing_cols)\n",
    "\n",
    "# Step 4: Add missing columns with default values to target\n",
    "for col in missing_cols:\n",
    "    # Use source data for the missing column to maintain consistency\n",
    "    target_df[col] = source_df[col]\n",
    "\n",
    "print(\"\\nUpdated target DataFrame:\")\n",
    "print(target_df)\n"
   ]
  }
 ],
 "metadata": {
  "kernelspec": {
   "display_name": "Python 3",
   "language": "python",
   "name": "python3"
  },
  "language_info": {
   "codemirror_mode": {
    "name": "ipython",
    "version": 3
   },
   "file_extension": ".py",
   "mimetype": "text/x-python",
   "name": "python",
   "nbconvert_exporter": "python",
   "pygments_lexer": "ipython3",
   "version": "3.10.12"
  }
 },
 "nbformat": 4,
 "nbformat_minor": 2
}
