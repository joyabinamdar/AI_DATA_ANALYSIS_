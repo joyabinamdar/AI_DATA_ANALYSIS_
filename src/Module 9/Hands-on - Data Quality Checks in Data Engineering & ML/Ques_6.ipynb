{
 "cells": [
  {
   "cell_type": "markdown",
   "metadata": {},
   "source": [
    "### Detect Data Drift in ML Models\n",
    "**Objective**: Monitor and detect changes in data distributions that impact ML model performance.\n",
    "\n",
    "**Task**: Categorical Feature Drift\n",
    "\n",
    "**Steps**:\n",
    "1. Load the baseline distribution for a categorical feature (e.g., gender ) from your training dataset.\n",
    "2. Load the same feature from your current production data.\n",
    "3. Use chi-squared tests to compare the distributions of the categorical feature.\n",
    "4. Step 4: If significant drift is detected, investigate the cause and update the model as needed."
   ]
  },
  {
   "cell_type": "code",
   "execution_count": 1,
   "metadata": {},
   "outputs": [
    {
     "name": "stdout",
     "output_type": "stream",
     "text": [
      "Chi-squared Statistic: 119.56521739130434\n",
      "P-value: 1.0882857177594273e-26\n",
      "⚠️ Significant data drift detected in 'gender' distribution.\n"
     ]
    }
   ],
   "source": [
    "# write your code from here\n",
    "import pandas as pd\n",
    "from scipy.stats import chi2_contingency\n",
    "\n",
    "# Step 1: Load baseline training data\n",
    "baseline_data = pd.DataFrame({\n",
    "    'gender': ['Male'] * 500 + ['Female'] * 500\n",
    "})\n",
    "\n",
    "# Step 2: Load current production data\n",
    "production_data = pd.DataFrame({\n",
    "    'gender': ['Male'] * 300 + ['Female'] * 650 + ['Other'] * 50\n",
    "})\n",
    "\n",
    "# Step 3: Prepare frequency counts\n",
    "baseline_counts = baseline_data['gender'].value_counts().sort_index()\n",
    "production_counts = production_data['gender'].value_counts().sort_index()\n",
    "\n",
    "# Align indexes\n",
    "all_categories = sorted(set(baseline_counts.index).union(set(production_counts.index)))\n",
    "baseline_counts = baseline_counts.reindex(all_categories, fill_value=0)\n",
    "production_counts = production_counts.reindex(all_categories, fill_value=0)\n",
    "\n",
    "# Combine into a contingency table\n",
    "contingency_table = pd.DataFrame([baseline_counts, production_counts])\n",
    "\n",
    "# Chi-squared test\n",
    "chi2_stat, p_value, dof, expected = chi2_contingency(contingency_table)\n",
    "\n",
    "# Step 4: Interpret results\n",
    "print(\"Chi-squared Statistic:\", chi2_stat)\n",
    "print(\"P-value:\", p_value)\n",
    "\n",
    "if p_value < 0.05:\n",
    "    print(\"⚠️ Significant data drift detected in 'gender' distribution.\")\n",
    "else:\n",
    "    print(\"✅ No significant data drift detected in 'gender' distribution.\")\n"
   ]
  }
 ],
 "metadata": {
  "kernelspec": {
   "display_name": "Python 3",
   "language": "python",
   "name": "python3"
  },
  "language_info": {
   "codemirror_mode": {
    "name": "ipython",
    "version": 3
   },
   "file_extension": ".py",
   "mimetype": "text/x-python",
   "name": "python",
   "nbconvert_exporter": "python",
   "pygments_lexer": "ipython3",
   "version": "3.10.12"
  }
 },
 "nbformat": 4,
 "nbformat_minor": 2
}
