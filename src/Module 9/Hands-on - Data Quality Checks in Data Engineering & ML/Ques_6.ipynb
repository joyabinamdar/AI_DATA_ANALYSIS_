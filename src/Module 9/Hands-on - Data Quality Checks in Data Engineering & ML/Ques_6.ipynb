{
 "cells": [
  {
   "cell_type": "markdown",
   "metadata": {},
   "source": [
    "### Detect Data Drift in ML Models\n",
    "**Objective**: Monitor and detect changes in data distributions that impact ML model performance.\n",
    "\n",
    "**Task**: Categorical Feature Drift\n",
    "\n",
    "**Steps**:\n",
    "1. Load the baseline distribution for a categorical feature (e.g., gender ) from your training dataset.\n",
    "2. Load the same feature from your current production data.\n",
    "3. Use chi-squared tests to compare the distributions of the categorical feature.\n",
    "4. Step 4: If significant drift is detected, investigate the cause and update the model as needed."
   ]
  },
  {
   "cell_type": "code",
   "execution_count": 1,
   "metadata": {},
   "outputs": [
    {
     "ename": "ModuleNotFoundError",
     "evalue": "No module named 'pytest'",
     "output_type": "error",
     "traceback": [
      "\u001b[0;31m---------------------------------------------------------------------------\u001b[0m",
      "\u001b[0;31mModuleNotFoundError\u001b[0m                       Traceback (most recent call last)",
      "Cell \u001b[0;32mIn[1], line 2\u001b[0m\n\u001b[1;32m      1\u001b[0m \u001b[38;5;28;01mimport\u001b[39;00m \u001b[38;5;21;01mpandas\u001b[39;00m \u001b[38;5;28;01mas\u001b[39;00m \u001b[38;5;21;01mpd\u001b[39;00m\n\u001b[0;32m----> 2\u001b[0m \u001b[38;5;28;01mimport\u001b[39;00m \u001b[38;5;21;01mpytest\u001b[39;00m\n\u001b[1;32m      3\u001b[0m \u001b[38;5;28;01mfrom\u001b[39;00m \u001b[38;5;21;01mdrift_detector\u001b[39;00m \u001b[38;5;28;01mimport\u001b[39;00m detect_categorical_drift  \u001b[38;5;66;03m# Your script filename\u001b[39;00m\n\u001b[1;32m      5\u001b[0m \u001b[38;5;28;01mdef\u001b[39;00m \u001b[38;5;21mtest_detect_drift_with_clear_difference\u001b[39m():\n",
      "\u001b[0;31mModuleNotFoundError\u001b[0m: No module named 'pytest'"
     ]
    }
   ],
   "source": [
    "import pandas as pd\n",
    "import pytest\n",
    "from drift_detector import detect_categorical_drift  # Your script filename\n",
    "\n",
    "def test_detect_drift_with_clear_difference():\n",
    "    baseline = pd.DataFrame({'gender': ['Male'] * 90 + ['Female'] * 10})\n",
    "    production = pd.DataFrame({'gender': ['Male'] * 50 + ['Female'] * 50})\n",
    "    result = detect_categorical_drift(baseline, production, 'gender')\n",
    "    assert result[\"drift_detected\"] is True\n",
    "    assert 0 <= result[\"p_value\"] <= 1\n",
    "\n",
    "def test_detect_drift_no_difference():\n",
    "    baseline = pd.DataFrame({'gender': ['Male'] * 50 + ['Female'] * 50})\n",
    "    production = pd.DataFrame({'gender': ['Male'] * 50 + ['Female'] * 50})\n",
    "    result = detect_categorical_drift(baseline, production, 'gender')\n",
    "    assert result[\"drift_detected\"] is False\n",
    "\n",
    "def test_missing_feature_raises_error():\n",
    "    df = pd.DataFrame({'age': [25, 30]})\n",
    "    with pytest.raises(ValueError):\n",
    "        detect_categorical_drift(df, df, 'gender')\n"
   ]
  }
 ],
 "metadata": {
  "kernelspec": {
   "display_name": "Python 3",
   "language": "python",
   "name": "python3"
  },
  "language_info": {
   "codemirror_mode": {
    "name": "ipython",
    "version": 3
   },
   "file_extension": ".py",
   "mimetype": "text/x-python",
   "name": "python",
   "nbconvert_exporter": "python",
   "pygments_lexer": "ipython3",
   "version": "3.10.12"
  }
 },
 "nbformat": 4,
 "nbformat_minor": 2
}
