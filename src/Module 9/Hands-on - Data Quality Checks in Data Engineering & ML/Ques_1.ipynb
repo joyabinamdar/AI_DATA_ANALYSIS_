{
 "cells": [
  {
   "cell_type": "markdown",
   "metadata": {},
   "source": [
    "### Detect Data Drift using Kolmogorov-Smirnov Test\n",
    "**Description**: Use statistical tests to detect data drift between two datasets."
   ]
  },
  {
   "cell_type": "code",
   "execution_count": null,
   "metadata": {},
   "outputs": [],
   "source": [
    "# write your code from here\n",
    "import pandas as pd\n",
    "from scipy.stats import ks_2samp\n",
    "\n",
    "def detect_data_drift_ks(base_df: pd.DataFrame, new_df: pd.DataFrame, threshold: float = 0.05):\n",
    "    \"\"\"\n",
    "    Detects data drift using the Kolmogorov-Smirnov test.\n",
    "    \n",
    "    Parameters:\n",
    "        base_df (pd.DataFrame): Reference dataset (e.g. training data).\n",
    "        new_df (pd.DataFrame): Incoming dataset (e.g. inference or production data).\n",
    "        threshold (float): Significance level (default 0.05). Lower means stricter drift detection.\n",
    "        \n",
    "    Returns:\n",
    "        pd.DataFrame: Drift report per feature with p-values and drift status.\n",
    "    \"\"\"\n",
    "    results = []\n",
    "\n",
    "    for column in base_df.columns:\n",
    "        if column in new_df.columns:\n",
    "            # Drop NaNs for fair comparison\n",
    "            base_col = base_df[column].dropna()\n",
    "            new_col = new_df[column].dropna()\n",
    "            \n",
    "            if len(base_col) == 0 or len(new_col) == 0:\n",
    "                results.append({\n",
    "                    'feature': column,\n",
    "                    'p_value': None,\n",
    "                    'drift_detected': 'Insufficient data'\n",
    "                })\n",
    "                continue\n",
    "            \n",
    "            statistic, p_value = ks_2samp(base_col, new_col)\n",
    "            drift = p_value < threshold\n",
    "            \n",
    "            results.append({\n",
    "                'feature': column,\n",
    "                'p_value': round(p_value, 4),\n",
    "                'drift_detected': 'Yes' if drift else 'No'\n",
    "            })\n",
    "\n",
    "    return pd.DataFrame(results)\n"
   ]
  }
 ],
 "metadata": {
  "kernelspec": {
   "display_name": "Python 3",
   "language": "python",
   "name": "python3"
  },
  "language_info": {
   "name": "python",
   "version": "3.10.12"
  }
 },
 "nbformat": 4,
 "nbformat_minor": 2
}
