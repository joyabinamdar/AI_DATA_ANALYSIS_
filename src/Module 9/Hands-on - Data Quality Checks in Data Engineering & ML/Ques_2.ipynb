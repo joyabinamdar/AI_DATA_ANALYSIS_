{
 "cells": [
  {
   "cell_type": "markdown",
   "metadata": {},
   "source": [
    "### Implementing Adversarial Validation for Data Drift\n",
    "Description: Create and train a classifier that distinguishes between train and test datasets, using the classifier’s performance to infer data drift."
   ]
  },
  {
   "cell_type": "code",
   "execution_count": 1,
   "metadata": {},
   "outputs": [
    {
     "name": "stdout",
     "output_type": "stream",
     "text": [
      "AUC: 0.9799, Status: Drift Detected\n"
     ]
    }
   ],
   "source": [
    "# write your code from here\n",
    "import pandas as pd\n",
    "import numpy as np\n",
    "from sklearn.model_selection import train_test_split\n",
    "from sklearn.ensemble import RandomForestClassifier\n",
    "from sklearn.metrics import roc_auc_score\n",
    "\n",
    "def adversarial_validation(train_df: pd.DataFrame, test_df: pd.DataFrame, sample_size: int = 5000):\n",
    "    \"\"\"\n",
    "    Performs adversarial validation to detect data drift.\n",
    "\n",
    "    Parameters:\n",
    "        train_df (pd.DataFrame): Training data (reference).\n",
    "        test_df (pd.DataFrame): Test/inference data to compare.\n",
    "        sample_size (int): Number of rows to sample from each dataset for balanced classification.\n",
    "\n",
    "    Returns:\n",
    "        float: ROC-AUC score of classifier distinguishing between datasets.\n",
    "        str: Drift status (\"Drift Detected\" or \"No Drift\")\n",
    "    \"\"\"\n",
    "    # Align common columns and drop NaNs\n",
    "    common_cols = train_df.columns.intersection(test_df.columns)\n",
    "    train_sample = train_df[common_cols].dropna().sample(n=min(sample_size, len(train_df)), random_state=42)\n",
    "    test_sample = test_df[common_cols].dropna().sample(n=min(sample_size, len(test_df)), random_state=42)\n",
    "\n",
    "    # Label the source of data\n",
    "    train_sample['is_test'] = 0\n",
    "    test_sample['is_test'] = 1\n",
    "\n",
    "    # Combine and shuffle\n",
    "    combined = pd.concat([train_sample, test_sample], axis=0).sample(frac=1, random_state=42)\n",
    "    X = combined.drop(columns='is_test')\n",
    "    y = combined['is_test']\n",
    "\n",
    "    # Train/test split for validation\n",
    "    X_train, X_val, y_train, y_val = train_test_split(X, y, test_size=0.3, random_state=42)\n",
    "\n",
    "    # Train classifier\n",
    "    clf = RandomForestClassifier(n_estimators=100, random_state=42)\n",
    "    clf.fit(X_train, y_train)\n",
    "\n",
    "    # Evaluate\n",
    "    y_pred = clf.predict_proba(X_val)[:, 1]\n",
    "    auc = roc_auc_score(y_val, y_pred)\n",
    "\n",
    "    status = \"Drift Detected\" if auc > 0.7 else \"No Drift\"\n",
    "    return round(auc, 4), status\n",
    "    # Simulate train and test data\n",
    "train_df = pd.DataFrame({\n",
    "    'feature1': np.random.normal(0, 1, 1000),\n",
    "    'feature2': np.random.normal(5, 1, 1000)\n",
    "})\n",
    "\n",
    "# Simulated drift in test data\n",
    "test_df = pd.DataFrame({\n",
    "    'feature1': np.random.normal(0, 1, 1000),       # No drift\n",
    "    'feature2': np.random.normal(8, 1, 1000)        # Drift introduced\n",
    "})\n",
    "\n",
    "auc_score, status = adversarial_validation(train_df, test_df)\n",
    "print(f\"AUC: {auc_score}, Status: {status}\")\n",
    "\n"
   ]
  }
 ],
 "metadata": {
  "kernelspec": {
   "display_name": "Python 3",
   "language": "python",
   "name": "python3"
  },
  "language_info": {
   "codemirror_mode": {
    "name": "ipython",
    "version": 3
   },
   "file_extension": ".py",
   "mimetype": "text/x-python",
   "name": "python",
   "nbconvert_exporter": "python",
   "pygments_lexer": "ipython3",
   "version": "3.10.12"
  }
 },
 "nbformat": 4,
 "nbformat_minor": 2
}
