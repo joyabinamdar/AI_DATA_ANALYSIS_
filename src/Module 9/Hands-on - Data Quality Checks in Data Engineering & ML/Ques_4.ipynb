{
 "cells": [
  {
   "cell_type": "markdown",
   "metadata": {},
   "source": [
    "## Detect Schema Mismatches in Data Pipelines\n",
    "**Objective**: Identify and resolve schema mismatches that commonly occur in data pipelines.\n",
    "\n",
    "**Task**: Column Name Mismatch\n",
    "\n",
    "**Steps**:\n",
    "1. Load the source DataFrame with the below schema:\n",
    "    - id : Integer\n",
    "    - name : String\n",
    "    - age : Integer\n",
    "2. Load the target DataFrame with the below schema:\n",
    "    - id : Integer\n",
    "    - fullname : String\n",
    "    - age : Integer\n",
    "3. Use a schema comparison tool or write a simple function to detect mismatches in column names.\n",
    "4. Resolve the mismatch by renaming the `fullname` column in the target DataFrame to `name` ."
   ]
  },
  {
   "cell_type": "code",
   "execution_count": null,
   "metadata": {},
   "outputs": [],
   "source": [
    "# write your code from here\n",
    "import pandas as pd\n",
    "\n",
    "# Step 1: Load source DataFrame with schema: id, name, age\n",
    "source_df = pd.DataFrame({\n",
    "    'id': [1, 2, 3],\n",
    "    'name': ['Alice', 'Bob', 'Charlie'],\n",
    "    'age': [25, 30, 35]\n",
    "})\n",
    "\n",
    "# Step 2: Load target DataFrame with schema: id, fullname, age\n",
    "target_df = pd.DataFrame({\n",
    "    'id': [1, 2, 3],\n",
    "    'fullname': ['Alice A.', 'Bob B.', 'Charlie C.'],\n",
    "    'age': [25, 30, 35]\n",
    "})\n",
    "\n",
    "# Step 3: Detect mismatches in column names\n",
    "def detect_schema_mismatches(source: pd.DataFrame, target: pd.DataFrame):\n",
    "    source_cols = set(source.columns)\n",
    "    target_cols = set(target.columns)\n",
    "\n",
    "    missing_in_target = source_cols - target_cols\n",
    "    extra_in_target = target_cols - source_cols\n",
    "\n",
    "    return missing_in_target, extra_in_target\n",
    "\n",
    "missing_cols, extra_cols = detect_schema_mismatches(source_df, target_df)\n",
    "print(\"Columns missing in target:\", missing_cols)\n",
    "print(\"Extra columns in target:\", extra_cols)\n",
    "\n",
    "# Step 4: Resolve mismatch by renaming 'fullname' to 'name' in target DataFrame\n",
    "if 'fullname' in target_df.columns:\n",
    "    target_df.rename(columns={'fullname': 'name'}, inplace=True)\n",
    "\n",
    "# Verify resolution\n",
    "missing_cols_after, extra_cols_after = detect_schema_mismatches(source_df, target_df)\n",
    "print(\"After rename:\")\n",
    "print(\"Columns missing in target:\", missing_cols_after)\n",
    "print(\"Extra columns in target:\", extra_cols_after)\n"
   ]
  }
 ],
 "metadata": {
  "kernelspec": {
   "display_name": "base",
   "language": "python",
   "name": "python3"
  },
  "language_info": {
   "name": "python",
   "version": "3.12.7"
  }
 },
 "nbformat": 4,
 "nbformat_minor": 2
}
