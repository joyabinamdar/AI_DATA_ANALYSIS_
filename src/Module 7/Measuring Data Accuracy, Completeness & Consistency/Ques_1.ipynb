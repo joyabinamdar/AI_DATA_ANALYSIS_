{
 "cells": [
  {
   "cell_type": "markdown",
   "metadata": {},
   "source": [
    "### Task 1: Measure Data Accuracy using a Trusted Source\n",
    "\n",
    "**Description**: You have two datasets of product prices: `company_prices.csv` and\n",
    "`trusted_prices.csv` . Check if the prices in `company_prices.csv` match the prices in\n",
    "`trusted_prices.csv` . Assume both files have a \"product_id\" and \"price\" column."
   ]
  },
  {
   "cell_type": "code",
   "execution_count": 1,
   "metadata": {},
   "outputs": [
    {
     "name": "stdout",
     "output_type": "stream",
     "text": [
      "Error: Company file not found: company_prices.csv\n"
     ]
    }
   ],
   "source": [
    "# Write your code from here\n",
    "\n",
    "import pandas as pd\n",
    "import os\n",
    "\n",
    "def measure_price_accuracy(company_file, trusted_file):\n",
    "    \"\"\"\n",
    "    Compares product prices between company data and trusted source data.\n",
    "\n",
    "    Parameters:\n",
    "        company_file (str): Path to the company's product prices CSV.\n",
    "        trusted_file (str): Path to the trusted product prices CSV.\n",
    "\n",
    "    Returns:\n",
    "        dict: Accuracy metrics and mismatched records.\n",
    "    \"\"\"\n",
    "    # Check if files exist\n",
    "    if not os.path.exists(company_file):\n",
    "        raise FileNotFoundError(f\"Company file not found: {company_file}\")\n",
    "    if not os.path.exists(trusted_file):\n",
    "        raise FileNotFoundError(f\"Trusted file not found: {trusted_file}\")\n",
    "\n",
    "    # Read both datasets\n",
    "    try:\n",
    "        company_df = pd.read_csv(company_file)\n",
    "        trusted_df = pd.read_csv(trusted_file)\n",
    "    except Exception as e:\n",
    "        raise ValueError(f\"Error reading files: {e}\")\n",
    "\n",
    "    # Validate required columns\n",
    "    required_columns = ['product_id', 'price']\n",
    "    for df, name in [(company_df, \"company\"), (trusted_df, \"trusted\")]:\n",
    "        missing = [col for col in required_columns if col not in df.columns]\n",
    "        if missing:\n",
    "            raise ValueError(f\"Missing columns in {name} data: {missing}\")\n",
    "\n",
    "    # Merge datasets on product_id\n",
    "    merged = pd.merge(company_df, trusted_df, on='product_id', suffixes=('_company', '_trusted'))\n",
    "\n",
    "    # Compare prices\n",
    "    merged['match'] = merged['price_company'] == merged['price_trusted']\n",
    "    total_checked = len(merged)\n",
    "    total_matches = merged['match'].sum()\n",
    "    accuracy_rate = (total_matches / total_checked) * 100\n",
    "\n",
    "    # Get mismatched records\n",
    "    mismatches = merged[~merged['match']]\n",
    "\n",
    "    return {\n",
    "        'total_checked': total_checked,\n",
    "        'total_matches': total_matches,\n",
    "        'accuracy_rate': accuracy_rate,\n",
    "        'mismatches': mismatches\n",
    "    }\n",
    "\n",
    "# Example usage:\n",
    "if __name__ == \"__main__\":\n",
    "    try:\n",
    "        results = measure_price_accuracy('company_prices.csv', 'trusted_prices.csv')\n",
    "        print(f\"Total Products Checked: {results['total_checked']}\")\n",
    "        print(f\"Matches: {results['total_matches']}\")\n",
    "        print(f\"Accuracy Rate: {results['accuracy_rate']:.2f}%\")\n",
    "        if not results['mismatches'].empty:\n",
    "            print(\"\\nMismatched Records:\")\n",
    "            print(results['mismatches'][['product_id', 'price_company', 'price_trusted']])\n",
    "    except Exception as e:\n",
    "        print(f\"Error: {e}\")\n"
   ]
  },
  {
   "cell_type": "markdown",
   "metadata": {},
   "source": [
    "### Task 2: Detect Incorrect Values\n",
    "\n",
    "**Description**: In `company_prices.csv` , detect any negative price values which are incorrect values for prices."
   ]
  },
  {
   "cell_type": "code",
   "execution_count": 2,
   "metadata": {},
   "outputs": [],
   "source": [
    "# Write your code from here"
   ]
  },
  {
   "cell_type": "markdown",
   "metadata": {},
   "source": [
    "### Task 3: Check Missing Data Rates\n",
    "\n",
    "**Description**: Calculate the percentage of missing values in `customer_data.csv` ."
   ]
  },
  {
   "cell_type": "code",
   "execution_count": 3,
   "metadata": {},
   "outputs": [],
   "source": [
    "# Write your code from here"
   ]
  },
  {
   "cell_type": "markdown",
   "metadata": {},
   "source": [
    "### Task 4: Handling Partially Available Records\n",
    "\n",
    "**Description**: In `customer_data.csv` , identify records with missing \"email\" or \"phone number\" and decide whether to drop or fill them."
   ]
  },
  {
   "cell_type": "code",
   "execution_count": 4,
   "metadata": {},
   "outputs": [],
   "source": [
    "# Write your code from here"
   ]
  }
 ],
 "metadata": {
  "kernelspec": {
   "display_name": "Python 3",
   "language": "python",
   "name": "python3"
  },
  "language_info": {
   "codemirror_mode": {
    "name": "ipython",
    "version": 3
   },
   "file_extension": ".py",
   "mimetype": "text/x-python",
   "name": "python",
   "nbconvert_exporter": "python",
   "pygments_lexer": "ipython3",
   "version": "3.10.12"
  }
 },
 "nbformat": 4,
 "nbformat_minor": 2
}
