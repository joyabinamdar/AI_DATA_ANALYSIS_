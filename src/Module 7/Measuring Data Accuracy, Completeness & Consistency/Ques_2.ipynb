{
 "cells": [
  {
   "cell_type": "markdown",
   "metadata": {},
   "source": [
    "## Find Conflicting Values Across Datasets\n",
    "\n",
    "**Description**: You have two datasets: `crm_customers.csv` and `erp_customers.csv` . Find customers with conflicting \"email\" information."
   ]
  },
  {
   "cell_type": "code",
   "execution_count": 1,
   "metadata": {},
   "outputs": [
    {
     "name": "stdout",
     "output_type": "stream",
     "text": [
      "Error: CRM file not found: crm_customers.csv\n"
     ]
    }
   ],
   "source": [
    "# Write your code from here\n",
    "import pandas as pd\n",
    "import os\n",
    "\n",
    "def find_conflicting_emails(crm_file, erp_file):\n",
    "    \"\"\"\n",
    "    Identifies customers with conflicting email addresses between CRM and ERP systems.\n",
    "\n",
    "    Parameters:\n",
    "        crm_file (str): Path to the CRM customer CSV file.\n",
    "        erp_file (str): Path to the ERP customer CSV file.\n",
    "\n",
    "    Returns:\n",
    "        DataFrame: Rows with mismatched emails.\n",
    "    \"\"\"\n",
    "    # Check file existence\n",
    "    if not os.path.exists(crm_file):\n",
    "        raise FileNotFoundError(f\"CRM file not found: {crm_file}\")\n",
    "    if not os.path.exists(erp_file):\n",
    "        raise FileNotFoundError(f\"ERP file not found: {erp_file}\")\n",
    "\n",
    "    # Load data\n",
    "    try:\n",
    "        crm_df = pd.read_csv(crm_file)\n",
    "        erp_df = pd.read_csv(erp_file)\n",
    "    except Exception as e:\n",
    "        raise ValueError(f\"Error reading files: {e}\")\n",
    "\n",
    "    # Validate required columns\n",
    "    required_cols = ['customer_id', 'email']\n",
    "    for df, name in [(crm_df, \"CRM\"), (erp_df, \"ERP\")]:\n",
    "        missing = [col for col in required_cols if col not in df.columns]\n",
    "        if missing:\n",
    "            raise ValueError(f\"Missing columns in {name} data: {missing}\")\n",
    "\n",
    "    # Merge on customer_id\n",
    "    merged_df = pd.merge(crm_df, erp_df, on='customer_id', suffixes=('_crm', '_erp'))\n",
    "\n",
    "    # Identify conflicting emails\n",
    "    conflicts = merged_df[merged_df['email_crm'] != merged_df['email_erp']]\n",
    "\n",
    "    return conflicts[['customer_id', 'email_crm', 'email_erp']]\n",
    "\n",
    "# Example usage\n",
    "if __name__ == \"__main__\":\n",
    "    try:\n",
    "        conflict_df = find_conflicting_emails('crm_customers.csv', 'erp_customers.csv')\n",
    "        if conflict_df.empty:\n",
    "            print(\"✅ No conflicting email addresses found.\")\n",
    "        else:\n",
    "            print(\"⚠️ Conflicting Email Addresses Found:\")\n",
    "            print(conflict_df)\n",
    "    except Exception as e:\n",
    "        print(f\"Error: {e}\")\n"
   ]
  }
 ],
 "metadata": {
  "kernelspec": {
   "display_name": "Python 3",
   "language": "python",
   "name": "python3"
  },
  "language_info": {
   "codemirror_mode": {
    "name": "ipython",
    "version": 3
   },
   "file_extension": ".py",
   "mimetype": "text/x-python",
   "name": "python",
   "nbconvert_exporter": "python",
   "pygments_lexer": "ipython3",
   "version": "3.10.12"
  }
 },
 "nbformat": 4,
 "nbformat_minor": 2
}
