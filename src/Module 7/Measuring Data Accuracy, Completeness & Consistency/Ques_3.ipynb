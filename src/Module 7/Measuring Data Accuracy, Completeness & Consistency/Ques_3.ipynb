{
 "cells": [
  {
   "cell_type": "markdown",
   "metadata": {},
   "source": [
    "## Compare Data Completeness Over Time\n",
    "\n",
    "**Description**: Analyze the trend of missing data in `\"sales_data.csv\"` over several months stored in a \"date\" column. Visualize missing data rates by month."
   ]
  },
  {
   "cell_type": "code",
   "execution_count": 1,
   "metadata": {},
   "outputs": [
    {
     "name": "stdout",
     "output_type": "stream",
     "text": [
      "Error: File not found: sales_data.csv\n"
     ]
    }
   ],
   "source": [
    "# Write your code from here\n",
    "import pandas as pd\n",
    "import matplotlib.pyplot as plt\n",
    "import os\n",
    "\n",
    "def plot_missing_data_trend(file_path, date_column):\n",
    "    \"\"\"\n",
    "    Calculates and plots monthly missing data rates in a CSV file.\n",
    "\n",
    "    Parameters:\n",
    "        file_path (str): Path to the CSV file.\n",
    "        date_column (str): Name of the column containing dates.\n",
    "\n",
    "    Returns:\n",
    "        None (displays plot)\n",
    "    \"\"\"\n",
    "    if not os.path.exists(file_path):\n",
    "        raise FileNotFoundError(f\"File not found: {file_path}\")\n",
    "\n",
    "    df = pd.read_csv(file_path)\n",
    "\n",
    "    if df.empty:\n",
    "        raise ValueError(\"The CSV file is empty.\")\n",
    "\n",
    "    if date_column not in df.columns:\n",
    "        raise ValueError(f\"Date column '{date_column}' not found in data.\")\n",
    "\n",
    "    # Convert date column to datetime\n",
    "    df[date_column] = pd.to_datetime(df[date_column], errors='coerce')\n",
    "    if df[date_column].isnull().all():\n",
    "        raise ValueError(f\"All values in '{date_column}' could not be parsed as dates.\")\n",
    "\n",
    "    # Extract year-month for grouping\n",
    "    df['year_month'] = df[date_column].dt.to_period('M')\n",
    "\n",
    "    cols_to_check = df.columns.difference([date_column, 'year_month'])\n",
    "    monthly_missing_rate = df.groupby('year_month')[cols_to_check].apply(lambda x: x.isnull().mean().mean())\n",
    "\n",
    "    # Plot the missing data trend\n",
    "    monthly_missing_rate.plot(kind='line', marker='o', figsize=(10,6))\n",
    "    plt.title('Monthly Missing Data Rate Trend')\n",
    "    plt.xlabel('Month')\n",
    "    plt.ylabel('Average Missing Data Rate')\n",
    "    plt.grid(True)\n",
    "    plt.xticks(rotation=45)\n",
    "    plt.tight_layout()\n",
    "    plt.show()\n",
    "\n",
    "# Example usage:\n",
    "if __name__ == \"__main__\":\n",
    "    try:\n",
    "        plot_missing_data_trend('sales_data.csv', 'date')\n",
    "    except Exception as e:\n",
    "        print(f\"Error: {e}\")\n"
   ]
  }
 ],
 "metadata": {
  "kernelspec": {
   "display_name": "Python 3",
   "language": "python",
   "name": "python3"
  },
  "language_info": {
   "codemirror_mode": {
    "name": "ipython",
    "version": 3
   },
   "file_extension": ".py",
   "mimetype": "text/x-python",
   "name": "python",
   "nbconvert_exporter": "python",
   "pygments_lexer": "ipython3",
   "version": "3.10.12"
  }
 },
 "nbformat": 4,
 "nbformat_minor": 2
}
