{
 "cells": [
  {
   "cell_type": "markdown",
   "metadata": {},
   "source": [
    "# Measuring Completeness\n",
    "\n",
    "**Activity Overview**: Evaluate data completeness by checking missing data rates and handling partially available records.\n",
    "\n",
    "## Title: Customer Profiles\n",
    "\n",
    "**Task**: Calculate the missing data rate for customer profiles.\n",
    "\n",
    "**Steps**:\n",
    "1. List all required fields for a complete customer profile (e.g., name, address, email,\n",
    "phone number).\n",
    "2. Analyze the dataset to count how many profiles have missing fields.\n",
    "3. Calculate the percentage of missing data fields across all profiles."
   ]
  },
  {
   "cell_type": "code",
   "execution_count": 2,
   "metadata": {},
   "outputs": [
    {
     "name": "stdout",
     "output_type": "stream",
     "text": [
      "Error: File not found: customer_data.csv\n"
     ]
    }
   ],
   "source": [
    "import pandas as pd\n",
    "import os\n",
    "\n",
    "def calculate_missing_data_rate(file_path, required_fields):\n",
    "    \"\"\"\n",
    "    Calculates record-level and field-level missing data rates\n",
    "    from a CSV file containing customer profiles.\n",
    "\n",
    "    Parameters:\n",
    "        file_path (str): Path to the CSV file.\n",
    "        required_fields (list): List of required column names.\n",
    "\n",
    "    Returns:\n",
    "        dict: Dictionary containing missing data stats.\n",
    "    \"\"\"\n",
    "    # Check if file exists\n",
    "    if not os.path.isfile(file_path):\n",
    "        raise FileNotFoundError(f\"File not found: {file_path}\")\n",
    "\n",
    "    try:\n",
    "        df = pd.read_csv(file_path)\n",
    "    except Exception as e:\n",
    "        raise ValueError(f\"Error reading CSV file: {e}\")\n",
    "\n",
    "    # Check if DataFrame is empty\n",
    "    if df.empty:\n",
    "        raise ValueError(\"The CSV file is empty.\")\n",
    "\n",
    "    # Check if all required columns exist\n",
    "    missing_columns = [col for col in required_fields if col not in df.columns]\n",
    "    if missing_columns:\n",
    "        raise ValueError(f\"Missing required columns in data: {missing_columns}\")\n",
    "\n",
    "    # Compute metrics\n",
    "    total_profiles = len(df)\n",
    "    incomplete_profiles = df[required_fields].isnull().any(axis=1).sum()\n",
    "    record_missing_rate = (incomplete_profiles / total_profiles) * 100\n",
    "    field_missing_rates = df[required_fields].isnull().mean() * 100\n",
    "\n",
    "    return {\n",
    "        'total_profiles': total_profiles,\n",
    "        'incomplete_profiles': incomplete_profiles,\n",
    "        'record_missing_rate': record_missing_rate,\n",
    "        'field_missing_rates': field_missing_rates.to_dict()\n",
    "    }\n",
    "\n",
    "# Example usage:\n",
    "if __name__ == \"__main__\":\n",
    "    file = 'customer_data.csv'\n",
    "    fields = ['Name', 'Address', 'Email', 'Phone Number']\n",
    "\n",
    "    try:\n",
    "        results = calculate_missing_data_rate(file, fields)\n",
    "        print(f\"Total Profiles: {results['total_profiles']}\")\n",
    "        print(f\"Incomplete Profiles: {results['incomplete_profiles']}\")\n",
    "        print(f\"Record-Level Missing Rate: {results['record_missing_rate']:.2f}%\\n\")\n",
    "        print(\"Field-Level Missing Rates:\")\n",
    "        for field, rate in results['field_missing_rates'].items():\n",
    "            print(f\"  {field}: {rate:.2f}%\")\n",
    "    except Exception as e:\n",
    "        print(f\"Error: {e}\")\n"
   ]
  }
 ],
 "metadata": {
  "kernelspec": {
   "display_name": "Python 3",
   "language": "python",
   "name": "python3"
  },
  "language_info": {
   "codemirror_mode": {
    "name": "ipython",
    "version": 3
   },
   "file_extension": ".py",
   "mimetype": "text/x-python",
   "name": "python",
   "nbconvert_exporter": "python",
   "pygments_lexer": "ipython3",
   "version": "3.10.12"
  }
 },
 "nbformat": 4,
 "nbformat_minor": 2
}
