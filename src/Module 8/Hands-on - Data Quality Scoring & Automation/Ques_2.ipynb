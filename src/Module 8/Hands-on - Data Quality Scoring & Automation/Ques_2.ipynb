{
 "cells": [
  {
   "cell_type": "markdown",
   "metadata": {},
   "source": [
    "## Calculate Data Quality Score\n",
    "**Introduction**: In this activity, you will calculate data quality scores for datasets using different metrics. You will explore examples where you assess completeness, accuracy, and consistency.\n",
    "\n",
    "### Task 1: Completeness Score\n",
    "1. Objective: Determine the percentage of non-missing values in a dataset.\n",
    "2. Steps:\n",
    "    - Load a sample dataset using Pandas.\n",
    "    - Identify the columns with missing values.\n",
    "    - Calculate the completeness score as the ratio of non-missing values to total values.\n",
    "    - E.g., a dataset with customer information."
   ]
  },
  {
   "cell_type": "code",
   "execution_count": null,
   "metadata": {},
   "outputs": [
    {
     "name": "stdout",
     "output_type": "stream",
     "text": [
      "Dataset:\n",
      "      Name   Age              Email\n",
      "0    Alice  25.0  alice@example.com\n",
      "1      Bob  30.0    bob@example.com\n",
      "2  Charlie   NaN               None\n",
      "3    David  22.0  david@example.com\n",
      "4      Eve  29.0    eve@example.com\n",
      "\n",
      "Missing values per column:\n",
      "Name     0\n",
      "Age      1\n",
      "Email    1\n",
      "dtype: int64\n",
      "\n",
      "Completeness Score for each column:\n",
      "Name     1.0\n",
      "Age      0.8\n",
      "Email    0.8\n",
      "dtype: float64\n"
     ]
    }
   ],
   "source": [
    "# Write your code from here\n",
    "import pandas as pd\n",
    "data = {\n",
    "    'Name': ['Alice', 'Bob', 'Charlie', 'David', 'Eve'],\n",
    "    'Age': [25, 30, None, 22, 29],\n",
    "    'Email': ['alice@example.com', 'bob@example.com', None, 'david@example.com', 'eve@example.com'],\n",
    "}\n",
    "\n",
    "df = pd.DataFrame(data)\n",
    "\n",
    "print(\"Dataset:\")\n",
    "print(df)\n",
    "\n",
    "missing_values = df.isnull().sum()\n",
    "print(\"\\nMissing values per column:\")\n",
    "print(missing_values)\n",
    "\n",
    "completeness_score = df.notnull().sum() / len(df)\n",
    "\n",
    "print(\"\\nCompleteness Score for each column:\")\n",
    "print(completeness_score)\n"
   ]
  },
  {
   "cell_type": "markdown",
   "metadata": {},
   "source": [
    "### Task 2: Accuracy Score\n",
    "\n",
    "1. Objective: Measure the accuracy of a dataset by comparing it against a reference dataset.\n",
    "2. Steps:\n",
    "    - Load the main dataset and a reference dataset.\n",
    "    - Select key columns for accuracy check.\n",
    "    - Match values from both datasets and calculate the accuracy percentage.\n",
    "    - E.g., along existing dataset with sales information."
   ]
  },
  {
   "cell_type": "code",
   "execution_count": null,
   "metadata": {},
   "outputs": [
    {
     "name": "stdout",
     "output_type": "stream",
     "text": [
      "\n",
      "Merged DataFrame with Match Status:\n",
      "   product_id  sales_amount_main  sales_amount_reference  match\n",
      "0         101                150                     150   True\n",
      "1         102                200                     205  False\n",
      "2         103                250                     250   True\n",
      "3         104                180                     180   True\n",
      "4         105                220                     220   True\n",
      "\n",
      "Accuracy Score: 80.00%\n"
     ]
    }
   ],
   "source": [
    "import pandas as pd\n",
    "\n",
    "main_data = {\n",
    "    'product_id': [101, 102, 103, 104, 105],\n",
    "    'sales_amount': [150, 200, 250, 180, 220]\n",
    "}\n",
    "\n",
    "reference_data = {\n",
    "    'product_id': [101, 102, 103, 104, 105],\n",
    "    'sales_amount': [150, 205, 250, 180, 220] \n",
    "}\n",
    "\n",
    "main_df = pd.DataFrame(main_data)\n",
    "reference_df = pd.DataFrame(reference_data)\n",
    "\n",
    "merged_df = pd.merge(main_df, reference_df, on='product_id', suffixes=('_main', '_reference'))\n",
    "\n",
    "merged_df['match'] = merged_df['sales_amount_main'] == merged_df['sales_amount_reference']\n",
    "\n",
    "accuracy_percentage = merged_df['match'].sum() / len(merged_df) * 100\n",
    "\n",
    "print(\"\\nMerged DataFrame with Match Status:\")\n",
    "print(merged_df)\n",
    "\n",
    "print(f\"\\nAccuracy Score: {accuracy_percentage:.2f}%\")\n",
    "\n"
   ]
  },
  {
   "cell_type": "markdown",
   "metadata": {},
   "source": [
    "### Task 3: Consistency Score\n",
    "\n",
    "1. Objective: Evaluate the consistency within a dataset for specific columns.\n",
    "2. Steps:\n",
    "    - Choose a column expected to have consistent values.\n",
    "    - Use statistical or rule-based checks to identify inconsistencies.\n",
    "    - Calculate the consistency score by the ratio of consistent to total entries.\n",
    "    - E.g., validating phone number formats in a contact list."
   ]
  },
  {
   "cell_type": "code",
   "execution_count": null,
   "metadata": {},
   "outputs": [
    {
     "name": "stdout",
     "output_type": "stream",
     "text": [
      "Dataset with Valid Phone Check:\n",
      "      name    phone_number  valid_phone\n",
      "0    Alice    123-456-7890         True\n",
      "1      Bob    234-567-8901         True\n",
      "2  Charlie    345-678-9012         True\n",
      "3    David    456-789-0123         True\n",
      "4      Eve  invalid_number        False\n",
      "\n",
      "Consistency Score: 80.00%\n"
     ]
    }
   ],
   "source": [
    "# Write your code from here\n",
    "import pandas as pd\n",
    "import re\n",
    "\n",
    "data = {\n",
    "    'name': ['Alice', 'Bob', 'Charlie', 'David', 'Eve'],\n",
    "    'phone_number': ['123-456-7890', '234-567-8901', '345-678-9012', '456-789-0123', 'invalid_number']\n",
    "}\n",
    "\n",
    "df = pd.DataFrame(data)\n",
    "\n",
    "def is_valid_phone_number(phone_number):\n",
    "    pattern = r'^\\d{3}-\\d{3}-\\d{4}$'\n",
    "    return bool(re.match(pattern, phone_number))\n",
    "\n",
    "df['valid_phone'] = df['phone_number'].apply(is_valid_phone_number)\n",
    "\n",
    "valid_count = df['valid_phone'].sum()\n",
    "total_count = len(df)\n",
    "consistency_score = (valid_count / total_count) * 100\n",
    "\n",
    "print(\"Dataset with Valid Phone Check:\")\n",
    "print(df)\n",
    "\n",
    "print(f\"\\nConsistency Score: {consistency_score:.2f}%\")\n",
    "\n",
    "\n"
   ]
  }
 ],
 "metadata": {
  "kernelspec": {
   "display_name": "Python 3",
   "language": "python",
   "name": "python3"
  },
  "language_info": {
   "codemirror_mode": {
    "name": "ipython",
    "version": 3
   },
   "file_extension": ".py",
   "mimetype": "text/x-python",
   "name": "python",
   "nbconvert_exporter": "python",
   "pygments_lexer": "ipython3",
   "version": "3.10.12"
  }
 },
 "nbformat": 4,
 "nbformat_minor": 2
}
