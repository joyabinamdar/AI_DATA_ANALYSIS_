{
 "cells": [
  {
   "cell_type": "markdown",
   "metadata": {},
   "source": [
    "## Using AI for Anomalies Detection in Data Quality\n",
    "**Description**: Implement an AI-based approach to detect anomalies in data quality.\n",
    "\n",
    "**Steps**:\n",
    "1. Use an Anomaly Detection Algorithm:\n",
    "    - Use sklearn's Isolation Forest for anomaly detection.\n",
    "\n",
    "**Example data:**\n",
    "\n",
    "data = np.array([[25, 50000], [30, 60000], [35, 75000], [40, None], [45, 100000]])\n",
    "\n",
    "2. Integrate with Great Expectations:\n",
    "    - Generate alerts if anomalies are detected:"
   ]
  },
  {
   "cell_type": "code",
   "execution_count": 1,
   "metadata": {},
   "outputs": [
    {
     "name": "stderr",
     "output_type": "stream",
     "text": [
      "Batch objects provided to BatchManager must be formal Great Expectations Batch typed objects.\n"
     ]
    },
    {
     "ename": "AttributeError",
     "evalue": "'dict' object has no attribute 'id'",
     "output_type": "error",
     "traceback": [
      "\u001b[0;31m---------------------------------------------------------------------------\u001b[0m",
      "\u001b[0;31mAttributeError\u001b[0m                            Traceback (most recent call last)",
      "Cell \u001b[0;32mIn[1], line 25\u001b[0m\n\u001b[1;32m     22\u001b[0m suite \u001b[38;5;241m=\u001b[39m ExpectationSuite(\u001b[38;5;124m\"\u001b[39m\u001b[38;5;124manomaly_suite\u001b[39m\u001b[38;5;124m\"\u001b[39m)\n\u001b[1;32m     24\u001b[0m \u001b[38;5;66;03m# This is the correct way to pass data\u001b[39;00m\n\u001b[0;32m---> 25\u001b[0m validator \u001b[38;5;241m=\u001b[39m \u001b[43mValidator\u001b[49m\u001b[43m(\u001b[49m\n\u001b[1;32m     26\u001b[0m \u001b[43m    \u001b[49m\u001b[43mexecution_engine\u001b[49m\u001b[38;5;241;43m=\u001b[39;49m\u001b[43mengine\u001b[49m\u001b[43m,\u001b[49m\n\u001b[1;32m     27\u001b[0m \u001b[43m    \u001b[49m\u001b[43mbatches\u001b[49m\u001b[38;5;241;43m=\u001b[39;49m\u001b[43m[\u001b[49m\n\u001b[1;32m     28\u001b[0m \u001b[43m        \u001b[49m\u001b[43m{\u001b[49m\n\u001b[1;32m     29\u001b[0m \u001b[43m            \u001b[49m\u001b[38;5;124;43m\"\u001b[39;49m\u001b[38;5;124;43mbatch_spec\u001b[39;49m\u001b[38;5;124;43m\"\u001b[39;49m\u001b[43m:\u001b[49m\u001b[43m \u001b[49m\u001b[43m{\u001b[49m\u001b[43m}\u001b[49m\u001b[43m,\u001b[49m\n\u001b[1;32m     30\u001b[0m \u001b[43m            \u001b[49m\u001b[38;5;124;43m\"\u001b[39;49m\u001b[38;5;124;43mbatch_data\u001b[39;49m\u001b[38;5;124;43m\"\u001b[39;49m\u001b[43m:\u001b[49m\u001b[43m \u001b[49m\u001b[43mdf\u001b[49m\u001b[43m,\u001b[49m\n\u001b[1;32m     31\u001b[0m \u001b[43m            \u001b[49m\u001b[38;5;124;43m\"\u001b[39;49m\u001b[38;5;124;43mbatch_markers\u001b[39;49m\u001b[38;5;124;43m\"\u001b[39;49m\u001b[43m:\u001b[49m\u001b[43m \u001b[49m\u001b[43m{\u001b[49m\u001b[43m}\u001b[49m\u001b[43m,\u001b[49m\n\u001b[1;32m     32\u001b[0m \u001b[43m            \u001b[49m\u001b[38;5;124;43m\"\u001b[39;49m\u001b[38;5;124;43mbatch_definition\u001b[39;49m\u001b[38;5;124;43m\"\u001b[39;49m\u001b[43m:\u001b[49m\u001b[43m \u001b[49m\u001b[43m{\u001b[49m\u001b[43m}\u001b[49m\u001b[43m,\u001b[49m\n\u001b[1;32m     33\u001b[0m \u001b[43m        \u001b[49m\u001b[43m}\u001b[49m\n\u001b[1;32m     34\u001b[0m \u001b[43m    \u001b[49m\u001b[43m]\u001b[49m\u001b[43m,\u001b[49m\n\u001b[1;32m     35\u001b[0m \u001b[43m    \u001b[49m\u001b[43mexpectation_suite\u001b[49m\u001b[38;5;241;43m=\u001b[39;49m\u001b[43msuite\u001b[49m\u001b[43m,\u001b[49m\n\u001b[1;32m     36\u001b[0m \u001b[43m)\u001b[49m\n\u001b[1;32m     38\u001b[0m \u001b[38;5;66;03m# Expect no anomalies (i.e., anomaly == 1 for all rows)\u001b[39;00m\n\u001b[1;32m     39\u001b[0m validator\u001b[38;5;241m.\u001b[39mexpect_column_values_to_be_in_set(\u001b[38;5;124m\"\u001b[39m\u001b[38;5;124manomaly\u001b[39m\u001b[38;5;124m\"\u001b[39m, value_set\u001b[38;5;241m=\u001b[39m[\u001b[38;5;241m1\u001b[39m])\n",
      "File \u001b[0;32m~/.local/lib/python3.10/site-packages/great_expectations/validator/validator.py:171\u001b[0m, in \u001b[0;36mValidator.__init__\u001b[0;34m(self, execution_engine, interactive_evaluation, expectation_suite, expectation_suite_name, data_context, batches, **kwargs)\u001b[0m\n\u001b[1;32m    168\u001b[0m \u001b[38;5;28mself\u001b[39m\u001b[38;5;241m.\u001b[39m_execution_engine: ExecutionEngine \u001b[38;5;241m=\u001b[39m execution_engine\n\u001b[1;32m    170\u001b[0m \u001b[38;5;28;01mif\u001b[39;00m batches:\n\u001b[0;32m--> 171\u001b[0m     \u001b[38;5;28;43mself\u001b[39;49m\u001b[38;5;241;43m.\u001b[39;49m\u001b[43mload_batch_list\u001b[49m\u001b[43m(\u001b[49m\u001b[43mbatch_list\u001b[49m\u001b[38;5;241;43m=\u001b[39;49m\u001b[43mbatches\u001b[49m\u001b[43m)\u001b[49m\n\u001b[1;32m    173\u001b[0m \u001b[38;5;28mself\u001b[39m\u001b[38;5;241m.\u001b[39m_expose_dataframe_methods: \u001b[38;5;28mbool\u001b[39m \u001b[38;5;241m=\u001b[39m \u001b[38;5;28;01mFalse\u001b[39;00m\n\u001b[1;32m    175\u001b[0m \u001b[38;5;28mself\u001b[39m\u001b[38;5;241m.\u001b[39minteractive_evaluation: \u001b[38;5;28mbool\u001b[39m \u001b[38;5;241m=\u001b[39m interactive_evaluation\n",
      "File \u001b[0;32m~/.local/lib/python3.10/site-packages/great_expectations/validator/validator.py:284\u001b[0m, in \u001b[0;36mValidator.load_batch_list\u001b[0;34m(self, batch_list)\u001b[0m\n\u001b[1;32m    283\u001b[0m \u001b[38;5;28;01mdef\u001b[39;00m \u001b[38;5;21mload_batch_list\u001b[39m(\u001b[38;5;28mself\u001b[39m, batch_list: Sequence[Batch \u001b[38;5;241m|\u001b[39m FluentBatch]) \u001b[38;5;241m-\u001b[39m\u001b[38;5;241m>\u001b[39m \u001b[38;5;28;01mNone\u001b[39;00m:\n\u001b[0;32m--> 284\u001b[0m     \u001b[38;5;28;43mself\u001b[39;49m\u001b[38;5;241;43m.\u001b[39;49m\u001b[43m_execution_engine\u001b[49m\u001b[38;5;241;43m.\u001b[39;49m\u001b[43mbatch_manager\u001b[49m\u001b[38;5;241;43m.\u001b[39;49m\u001b[43mload_batch_list\u001b[49m\u001b[43m(\u001b[49m\u001b[43mbatch_list\u001b[49m\u001b[38;5;241;43m=\u001b[39;49m\u001b[43mbatch_list\u001b[49m\u001b[43m)\u001b[49m\n",
      "File \u001b[0;32m~/.local/lib/python3.10/site-packages/great_expectations/core/batch_manager.py:156\u001b[0m, in \u001b[0;36mBatchManager.load_batch_list\u001b[0;34m(self, batch_list)\u001b[0m\n\u001b[1;32m    152\u001b[0m \u001b[38;5;28;01mexcept\u001b[39;00m \u001b[38;5;167;01mAssertionError\u001b[39;00m \u001b[38;5;28;01mas\u001b[39;00m e:\n\u001b[1;32m    153\u001b[0m     logger\u001b[38;5;241m.\u001b[39merror(\u001b[38;5;28mstr\u001b[39m(e))  \u001b[38;5;66;03m# noqa: TRY400 # FIXME CoP\u001b[39;00m\n\u001b[1;32m    155\u001b[0m \u001b[38;5;28mself\u001b[39m\u001b[38;5;241m.\u001b[39m_execution_engine\u001b[38;5;241m.\u001b[39mload_batch_data(\n\u001b[0;32m--> 156\u001b[0m     batch_id\u001b[38;5;241m=\u001b[39m\u001b[43mbatch\u001b[49m\u001b[38;5;241;43m.\u001b[39;49m\u001b[43mid\u001b[49m,\n\u001b[1;32m    157\u001b[0m     batch_data\u001b[38;5;241m=\u001b[39mbatch\u001b[38;5;241m.\u001b[39mdata,  \u001b[38;5;66;03m# type: ignore[arg-type] # FIXME CoP\u001b[39;00m\n\u001b[1;32m    158\u001b[0m )\n\u001b[1;32m    160\u001b[0m \u001b[38;5;28mself\u001b[39m\u001b[38;5;241m.\u001b[39m_batch_cache[batch\u001b[38;5;241m.\u001b[39mid] \u001b[38;5;241m=\u001b[39m batch\n\u001b[1;32m    161\u001b[0m \u001b[38;5;66;03m# We set the active_batch_id in each iteration of the loop to keep in sync with the active_batch_data_id  # noqa: E501 # FIXME CoP\u001b[39;00m\n\u001b[1;32m    162\u001b[0m \u001b[38;5;66;03m# that has been loaded.  Hence, the final active_batch_id will be that of the final BatchData loaded.  # noqa: E501 # FIXME CoP\u001b[39;00m\n",
      "\u001b[0;31mAttributeError\u001b[0m: 'dict' object has no attribute 'id'"
     ]
    }
   ],
   "source": [
    "# Write your code from here\n",
    "import numpy as np\n",
    "import pandas as pd\n",
    "from sklearn.ensemble import IsolationForest\n",
    "from great_expectations.core.expectation_suite import ExpectationSuite\n",
    "from great_expectations.execution_engine.pandas_execution_engine import PandasExecutionEngine\n",
    "from great_expectations.validator.validator import Validator\n",
    "\n",
    "# Step 1: Create sample data\n",
    "data = np.array([[25, 50000], [30, 60000], [35, 75000], [40, np.nan], [45, 100000]])\n",
    "df = pd.DataFrame(data, columns=[\"age\", \"income\"])\n",
    "\n",
    "# Handle missing values (fill income with median)\n",
    "df[\"income\"].fillna(df[\"income\"].median(), inplace=True)\n",
    "\n",
    "# Step 2: Anomaly detection using Isolation Forest\n",
    "model = IsolationForest(contamination=0.2, random_state=42)\n",
    "df[\"anomaly\"] = model.fit_predict(df)\n",
    "\n",
    "# Step 3: Setup Great Expectations manually\n",
    "engine = PandasExecutionEngine()\n",
    "suite = ExpectationSuite(\"anomaly_suite\")\n",
    "\n",
    "# This is the correct way to pass data\n",
    "validator = Validator(\n",
    "    execution_engine=engine,\n",
    "    batches=[\n",
    "        {\n",
    "            \"batch_spec\": {},\n",
    "            \"batch_data\": df,\n",
    "            \"batch_markers\": {},\n",
    "            \"batch_definition\": {},\n",
    "        }\n",
    "    ],\n",
    "    expectation_suite=suite,\n",
    ")\n",
    "\n",
    "# Expect no anomalies (i.e., anomaly == 1 for all rows)\n",
    "validator.expect_column_values_to_be_in_set(\"anomaly\", value_set=[1])\n",
    "\n",
    "# Validate the data\n",
    "results = validator.validate()\n",
    "print(\"\\nValidation Summary:\")\n",
    "print(results[\"statistics\"])\n",
    "\n",
    "\n"
   ]
  }
 ],
 "metadata": {
  "kernelspec": {
   "display_name": "Python 3",
   "language": "python",
   "name": "python3"
  },
  "language_info": {
   "codemirror_mode": {
    "name": "ipython",
    "version": 3
   },
   "file_extension": ".py",
   "mimetype": "text/x-python",
   "name": "python",
   "nbconvert_exporter": "python",
   "pygments_lexer": "ipython3",
   "version": "3.10.12"
  }
 },
 "nbformat": 4,
 "nbformat_minor": 2
}
