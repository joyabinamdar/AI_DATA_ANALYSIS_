{
 "cells": [
  {
   "cell_type": "markdown",
   "metadata": {},
   "source": [
    "### Task 1: Validate Data with a Custom Expectation in Great Expectations\n",
    "**Description**: Create a custom expectation and validate data with Great Expectations.\n",
    "\n",
    "**Load a sample DataFrame**\n",
    "\n",
    "data = {\n",
    "'age': [25, 30, 35, 40, 45],\n",
    "'income': [50000, 60000, 75000, None, 100000]\n",
    "}"
   ]
  },
  {
   "cell_type": "code",
   "execution_count": 7,
   "metadata": {},
   "outputs": [
    {
     "ename": "AttributeError",
     "evalue": "type object 'ExpectationSuite' has no attribute 'create'",
     "output_type": "error",
     "traceback": [
      "\u001b[0;31m---------------------------------------------------------------------------\u001b[0m",
      "\u001b[0;31mAttributeError\u001b[0m                            Traceback (most recent call last)",
      "Cell \u001b[0;32mIn[7], line 18\u001b[0m\n\u001b[1;32m     15\u001b[0m engine \u001b[38;5;241m=\u001b[39m PandasExecutionEngine()\n\u001b[1;32m     17\u001b[0m \u001b[38;5;66;03m# Create Expectation Suite the right way\u001b[39;00m\n\u001b[0;32m---> 18\u001b[0m suite \u001b[38;5;241m=\u001b[39m \u001b[43mExpectationSuite\u001b[49m\u001b[38;5;241;43m.\u001b[39;49m\u001b[43mcreate\u001b[49m(name\u001b[38;5;241m=\u001b[39m\u001b[38;5;124m\"\u001b[39m\u001b[38;5;124mmy_suite\u001b[39m\u001b[38;5;124m\"\u001b[39m)\n\u001b[1;32m     20\u001b[0m \u001b[38;5;66;03m# Validator\u001b[39;00m\n\u001b[1;32m     21\u001b[0m validator \u001b[38;5;241m=\u001b[39m Validator(\n\u001b[1;32m     22\u001b[0m     execution_engine\u001b[38;5;241m=\u001b[39mengine,\n\u001b[1;32m     23\u001b[0m     batches\u001b[38;5;241m=\u001b[39m[],\n\u001b[1;32m     24\u001b[0m     expectation_suite\u001b[38;5;241m=\u001b[39msuite\n\u001b[1;32m     25\u001b[0m )\n",
      "\u001b[0;31mAttributeError\u001b[0m: type object 'ExpectationSuite' has no attribute 'create'"
     ]
    }
   ],
   "source": [
    "\n",
    "\n",
    "        \n",
    "\n",
    "\n",
    "  \n",
    "\n",
    "\n",
    "import pandas as pd\n",
    "from great_expectations.core.batch import RuntimeBatchRequest\n",
    "from great_expectations.validator.validator import Validator\n",
    "from great_expectations.core.expectation_suite import ExpectationSuite\n",
    "from great_expectations.execution_engine.pandas_execution_engine import PandasExecutionEngine\n",
    "\n",
    "# Sample DataFrame\n",
    "data = {\n",
    "    'age': [25, 30, 35, 40, 45],\n",
    "    'income': [50000, 60000, 75000, None, 100000]\n",
    "}\n",
    "df = pd.DataFrame(data)\n",
    "\n",
    "# Create Execution Engine\n",
    "engine = PandasExecutionEngine()\n",
    "\n",
    "# Create Expectation Suite the right way\n",
    "suite = ExpectationSuite.create(name=\"my_suite\")\n",
    "\n",
    "# Validator\n",
    "validator = Validator(\n",
    "    execution_engine=engine,\n",
    "    batches=[],\n",
    "    expectation_suite=suite\n",
    ")\n",
    "\n",
    "# Load Data\n",
    "batch = {\"batch_data\": df}\n",
    "validator.load_batch(batch)\n",
    "\n",
    "# Add Expectations\n",
    "validator.expect_column_values_to_not_be_null(\"age\")\n",
    "validator.expect_column_values_to_be_between(\"age\", min_value=20, max_value=60)\n",
    "\n",
    "# Validate\n",
    "results = validator.validate()\n",
    "print(results)\n",
    "\n",
    "\n",
    "\n"
   ]
  },
  {
   "cell_type": "markdown",
   "metadata": {},
   "source": [
    "### Task 2: Implement a Basic Alert System for Data Quality Drops\n",
    "**Description**: Set up a basic alert system that triggers when data quality drops."
   ]
  },
  {
   "cell_type": "code",
   "execution_count": null,
   "metadata": {},
   "outputs": [],
   "source": [
    "# Write your code from here"
   ]
  },
  {
   "cell_type": "markdown",
   "metadata": {},
   "source": [
    "### Task 3: Real-time Data Quality Monitoring with Python and Great Expectations\n",
    "**Description**: Implement a system that monitors data quality in real-time."
   ]
  },
  {
   "cell_type": "code",
   "execution_count": null,
   "metadata": {},
   "outputs": [],
   "source": [
    "# Write your code from here"
   ]
  }
 ],
 "metadata": {
  "kernelspec": {
   "display_name": "Python 3",
   "language": "python",
   "name": "python3"
  },
  "language_info": {
   "codemirror_mode": {
    "name": "ipython",
    "version": 3
   },
   "file_extension": ".py",
   "mimetype": "text/x-python",
   "name": "python",
   "nbconvert_exporter": "python",
   "pygments_lexer": "ipython3",
   "version": "3.10.12"
  }
 },
 "nbformat": 4,
 "nbformat_minor": 2
}
