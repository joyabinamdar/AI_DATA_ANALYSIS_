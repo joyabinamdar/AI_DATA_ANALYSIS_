{
 "cells": [
  {
   "cell_type": "markdown",
   "metadata": {},
   "source": [
    "### Define Data Quality KPIs\n",
    "\n",
    "**Task 1**: Identify Relevant KPIs\n",
    "\n",
    "**Objective**: Develop KPIs that align with organizational goals.\n",
    "\n",
    "**Steps**:\n",
    "1. Choose a dataset from a domain of your interest (e.g., sales data, healthcare records, or transaction logs).\n",
    "2. Identify three KPIs that would be crucial for assessing the data quality in your chosen dataset. Consider accuracy, completeness, and timeliness.\n",
    "3. Document why each KPI is important for maintaining high-quality data in your given context."
   ]
  },
  {
   "cell_type": "code",
   "execution_count": null,
   "metadata": {},
   "outputs": [],
   "source": [
    "# Write your code from here\n",
    "import pandas as pd\n",
    "import numpy as np\n",
    "from datetime import datetime, timedelta\n",
    "\n",
    "# -----------------------------------\n",
    "# Step 1: Create a sample dataset\n",
    "# -----------------------------------\n",
    "data = {\n",
    "    'patient_id': [101, 102, 103, 104, np.nan],\n",
    "    'name': ['Alice', 'Bob', 'Charlie', 'David', 'Eva'],\n",
    "    'date_of_birth': ['1990-01-01', '1985-05-20', '1970-07-15', None, '1992-11-11'],\n",
    "    'diagnosis': ['A01', 'B99', 'INVALID', 'C34', ''],\n",
    "    'treatment_code': ['T100', 'T200', None, 'T300', 'T400'],\n",
    "    'visit_time': pd.to_datetime(['2023-01-01', '2023-01-02', '2023-01-03', '2023-01-04', '2023-01-05']),\n",
    "    'update_time': pd.to_datetime(['2023-01-02', '2023-01-02', '2023-01-07', '2023-01-06', '2023-01-10'])\n",
    "}\n",
    "df = pd.DataFrame(data)\n",
    "\n",
    "# Sample valid diagnosis codes (e.g., from ICD-10)\n",
    "valid_diagnosis_codes = {'A01', 'B99', 'C34'}\n",
    "\n",
    "# -----------------------------------\n",
    "# KPI 1: Accuracy of Diagnosis Codes\n",
    "# -----------------------------------\n",
    "def compute_accuracy(df, valid_codes):\n",
    "    total = df['diagnosis'].notna().sum()\n",
    "    valid = df['diagnosis'].isin(valid_codes).sum()\n",
    "    accuracy_rate = (valid / total) * 100 if total > 0 else 0\n",
    "    return round(accuracy_rate, 2)\n",
    "\n",
    "# -----------------------------------\n",
    "# KPI 2: Completeness of Critical Fields\n",
    "# -----------------------------------\n",
    "def compute_completeness(df, required_fields):\n",
    "    complete_rows = df[required_fields].dropna().shape[0]\n",
    "    completeness_rate = (complete_rows / len(df)) * 100 if len(df) > 0 else 0\n",
    "    return round(completeness_rate, 2)\n",
    "\n",
    "# -----------------------------------\n",
    "# KPI 3: Timeliness of Record Updates\n",
    "# -----------------------------------\n",
    "def compute_timeliness(df):\n",
    "    if 'visit_time' not in df or 'update_time' not in df:\n",
    "        return None\n",
    "    time_deltas = (df['update_time'] - df['visit_time']).dt.total_seconds() / 3600  # in hours\n",
    "    avg_timeliness = time_deltas.mean()\n",
    "    return round(avg_timeliness, 2)\n",
    "\n",
    "# -----------------------------------\n",
    "# Run KPI Calculations\n",
    "# -----------------------------------\n",
    "accuracy_kpi = compute_accuracy(df, valid_diagnosis_codes)\n",
    "completeness_kpi = compute_completeness(df, ['patient_id', 'date_of_birth', 'diagnosis', 'treatment_code'])\n",
    "timeliness_kpi = compute_timeliness(df)\n",
    "\n",
    "# -----------------------------------\n",
    "# Print Results\n",
    "# -----------------------------------\n",
    "print(\"📊 Data Quality KPIs for Healthcare Records:\")\n",
    "print(f\"1. Accuracy of Diagnosis Codes: {accuracy_kpi}%\")\n",
    "print(f\"2. Completeness of Critical Fields: {completeness_kpi}%\")\n",
    "print(f\"3. Average Timeliness of Record Updates: {timeliness_kpi} hours\")\n"
   ]
  },
  {
   "cell_type": "markdown",
   "metadata": {},
   "source": [
    "**Task 2**: Develop a KPI Dashboard\n",
    "\n",
    "**Objective**: Visualize your KPIs for better monitoring.\n",
    "\n",
    "**Steps**:\n",
    "1. Use a tool like Excel or a BI tool (e.g., Tableau, Power BI) to create a simple dashboard.\n",
    "2. Input sample data and visualize your chosen KPIs, showing how they would be monitored.\n",
    "3. Share your dashboard with peers and gather feedback on KPI relevance and clarity."
   ]
  },
  {
   "cell_type": "code",
   "execution_count": null,
   "metadata": {},
   "outputs": [],
   "source": [
    "# Write your code from here"
   ]
  }
 ],
 "metadata": {
  "kernelspec": {
   "display_name": "Python 3",
   "language": "python",
   "name": "python3"
  },
  "language_info": {
   "name": "python",
   "version": "3.10.12"
  }
 },
 "nbformat": 4,
 "nbformat_minor": 2
}
