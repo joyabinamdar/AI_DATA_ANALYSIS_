{
 "cells": [
  {
   "cell_type": "markdown",
   "metadata": {},
   "source": [
    "## Build a Data Quality Dashboard\n",
    "\n",
    "**Description**: Create a simple dashboard that displays data quality metrics using a library like `dash` or `streamlit`.\n",
    "\n",
    "**Steps:**\n",
    "1. Install Streamlit: pip install streamlit\n",
    "2. Create a Python script dashboard.py.\n",
    "3. Run the dashboard: streamlit run dashboard.py"
   ]
  },
  {
   "cell_type": "code",
   "execution_count": 3,
   "metadata": {},
   "outputs": [
    {
     "name": "stderr",
     "output_type": "stream",
     "text": [
      "2025-05-25 07:22:37.073 Thread 'MainThread': missing ScriptRunContext! This warning can be ignored when running in bare mode.\n",
      "2025-05-25 07:22:37.075 Thread 'MainThread': missing ScriptRunContext! This warning can be ignored when running in bare mode.\n",
      "2025-05-25 07:22:37.078 Thread 'MainThread': missing ScriptRunContext! This warning can be ignored when running in bare mode.\n",
      "2025-05-25 07:22:37.080 Thread 'MainThread': missing ScriptRunContext! This warning can be ignored when running in bare mode.\n",
      "2025-05-25 07:22:37.082 Thread 'MainThread': missing ScriptRunContext! This warning can be ignored when running in bare mode.\n",
      "2025-05-25 07:22:37.083 Thread 'MainThread': missing ScriptRunContext! This warning can be ignored when running in bare mode.\n",
      "2025-05-25 07:22:37.083 Thread 'MainThread': missing ScriptRunContext! This warning can be ignored when running in bare mode.\n",
      "2025-05-25 07:22:37.084 Thread 'MainThread': missing ScriptRunContext! This warning can be ignored when running in bare mode.\n",
      "2025-05-25 07:22:37.087 Thread 'MainThread': missing ScriptRunContext! This warning can be ignored when running in bare mode.\n",
      "2025-05-25 07:22:37.087 Thread 'MainThread': missing ScriptRunContext! This warning can be ignored when running in bare mode.\n",
      "2025-05-25 07:22:37.088 Thread 'MainThread': missing ScriptRunContext! This warning can be ignored when running in bare mode.\n",
      "2025-05-25 07:22:37.089 Thread 'MainThread': missing ScriptRunContext! This warning can be ignored when running in bare mode.\n",
      "2025-05-25 07:22:37.090 Thread 'MainThread': missing ScriptRunContext! This warning can be ignored when running in bare mode.\n",
      "2025-05-25 07:22:37.091 Thread 'MainThread': missing ScriptRunContext! This warning can be ignored when running in bare mode.\n",
      "2025-05-25 07:22:37.091 Thread 'MainThread': missing ScriptRunContext! This warning can be ignored when running in bare mode.\n",
      "2025-05-25 07:22:37.092 Thread 'MainThread': missing ScriptRunContext! This warning can be ignored when running in bare mode.\n",
      "2025-05-25 07:22:37.093 Thread 'MainThread': missing ScriptRunContext! This warning can be ignored when running in bare mode.\n",
      "2025-05-25 07:22:37.093 Thread 'MainThread': missing ScriptRunContext! This warning can be ignored when running in bare mode.\n",
      "2025-05-25 07:22:37.095 Thread 'MainThread': missing ScriptRunContext! This warning can be ignored when running in bare mode.\n",
      "2025-05-25 07:22:37.095 Thread 'MainThread': missing ScriptRunContext! This warning can be ignored when running in bare mode.\n",
      "2025-05-25 07:22:37.105 Thread 'MainThread': missing ScriptRunContext! This warning can be ignored when running in bare mode.\n",
      "2025-05-25 07:22:37.106 Thread 'MainThread': missing ScriptRunContext! This warning can be ignored when running in bare mode.\n"
     ]
    }
   ],
   "source": [
    "import streamlit as st\n",
    "import pandas as pd\n",
    "import numpy as np\n",
    "import re\n",
    "\n",
    "# Function to validate email format\n",
    "def is_valid_email(email):\n",
    "    pattern = r'^\\S+@\\S+\\.\\S+$'\n",
    "    return bool(re.match(pattern, email))\n",
    "\n",
    "# Title\n",
    "st.title(\"📊 Data Quality Dashboard\")\n",
    "\n",
    "# Sample data (you can later replace with file upload)\n",
    "data = {\n",
    "    'Name': ['Alice', 'Bob', 'Charlie', 'David', None],\n",
    "    'Age': [25, np.nan, 30, 22, 25],\n",
    "    'Email': ['a@example.com', 'b@example.com', 'c@example.com', 'd@example.com', 'a@example.com']\n",
    "}\n",
    "\n",
    "try:\n",
    "    df = pd.DataFrame(data)\n",
    "\n",
    "    # Validate DataFrame existence\n",
    "    if df.empty:\n",
    "        st.warning(\"⚠️ The dataset is empty.\")\n",
    "    else:\n",
    "        st.subheader(\"📄 Raw Data\")\n",
    "        st.dataframe(df)\n",
    "\n",
    "        # Missing values\n",
    "        st.subheader(\"🧪 Missing Values (%)\")\n",
    "        missing_percent = df.isnull().mean() * 100\n",
    "        st.write(missing_percent.round(2))\n",
    "\n",
    "        # Duplicate rows\n",
    "        st.subheader(\"📎 Duplicate Row Count\")\n",
    "        dup_count = df.duplicated().sum()\n",
    "        st.write(f\"Duplicate rows: **{dup_count}**\")\n",
    "\n",
    "        # Email format validation\n",
    "        st.subheader(\"✅ Email Format Validity\")\n",
    "        if 'Email' in df.columns:\n",
    "            valid_emails = df['Email'].apply(lambda x: is_valid_email(x) if pd.notnull(x) else False)\n",
    "            invalid_count = (~valid_emails).sum()\n",
    "            st.write(f\"Invalid email entries: **{invalid_count}**\")\n",
    "            st.write(\"Invalid rows:\")\n",
    "            st.dataframe(df[~valid_emails])\n",
    "        else:\n",
    "            st.warning(\"Column 'Email' not found.\")\n",
    "\n",
    "except Exception as e:\n",
    "    st.error(f\"An unexpected error occurred: {str(e)}\")\n"
   ]
  }
 ],
 "metadata": {
  "kernelspec": {
   "display_name": "Python 3",
   "language": "python",
   "name": "python3"
  },
  "language_info": {
   "codemirror_mode": {
    "name": "ipython",
    "version": 3
   },
   "file_extension": ".py",
   "mimetype": "text/x-python",
   "name": "python",
   "nbconvert_exporter": "python",
   "pygments_lexer": "ipython3",
   "version": "3.10.12"
  }
 },
 "nbformat": 4,
 "nbformat_minor": 2
}
