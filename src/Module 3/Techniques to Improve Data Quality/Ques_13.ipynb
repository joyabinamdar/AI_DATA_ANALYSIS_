{
 "cells": [
  {
   "cell_type": "code",
   "execution_count": null,
   "metadata": {},
   "outputs": [],
   "source": [
    "# Activity 3: Data Standardization & Validation\n",
    "\n",
    "# Task A: Enforcing Data Formats & Constraints\n",
    "\n",
    "# 13. Date Format Standardization:\n",
    "# - Convert all date entries into a uniform format (e.g., YYYY-MM-DD).\n",
    "import pandas as pd\n",
    "\n",
    "# Load your dataset (replace 'your_file.csv' with the actual file path)\n",
    "df = pd.read_csv('your_file.csv')\n",
    "\n",
    "# Assuming the date column is named 'date' — adjust as necessary\n",
    "# Convert to datetime and format as YYYY-MM-DD\n",
    "df['date'] = pd.to_datetime(df['date'], errors='coerce').dt.strftime('%Y-%m-%d')\n",
    "\n",
    "# Display updated DataFrame\n",
    "print(df[['date']])\n",
    "\n",
    "# Optional: Save to a new file\n",
    "df.to_csv('standardized_dates.csv', index=False)\n",
    "\n",
    "\n",
    "\n",
    "\n",
    "\n",
    "# 14. Numeric Constraints Enforcement:\n",
    "# - Check and enforce numeric constraints (e.g., age > 0).\n",
    "\n",
    "\n",
    "\n",
    "\n",
    "\n",
    "\n",
    "# 15. String Format Checks:\n",
    "# - Ensure text fields meet certain constraints (e.g., valid email format)."
   ]
  },
  {
   "cell_type": "code",
   "execution_count": null,
   "metadata": {},
   "outputs": [],
   "source": [
    "# Task B: Addressing Inconsistent Representations\n",
    "\n",
    "# 16. Standardizing Date Formats:\n",
    "# - Identify and correct inconsistent date formats within the dataset.\n",
    "\n",
    "\n",
    "\n",
    "\n",
    "\n",
    "\n",
    "\n",
    "\n",
    "# 17. Pattern Matching for Consistency:\n",
    "# - Standardize phone numbers to a specific pattern (e.g., (123) 456-7890).\n",
    "\n",
    "\n",
    "\n",
    "\n",
    "\n",
    "# 18. Handling Mixed Case Text:\n",
    "# - Convert all text entries to a consistent case (e.g., all uppercase).\n",
    "\n",
    "\n",
    "\n",
    "\n",
    "\n",
    "\n",
    "\n",
    "\n",
    "\n"
   ]
  }
 ],
 "metadata": {
  "kernelspec": {
   "display_name": "Python 3",
   "language": "python",
   "name": "python3"
  },
  "language_info": {
   "codemirror_mode": {
    "name": "ipython",
    "version": 3
   },
   "file_extension": ".py",
   "mimetype": "text/x-python",
   "name": "python",
   "nbconvert_exporter": "python",
   "pygments_lexer": "ipython3",
   "version": "3.10.12"
  }
 },
 "nbformat": 4,
 "nbformat_minor": 2
}
