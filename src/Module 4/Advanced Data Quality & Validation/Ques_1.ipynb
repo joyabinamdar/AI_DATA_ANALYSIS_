{
 "cells": [
  {
   "cell_type": "code",
   "execution_count": null,
   "metadata": {},
   "outputs": [],
   "source": [
    "# Data Drift Impact on Model\n",
    "# Question: Use a simple linear regression model to demonstrate how data drift affects model predictions.\n",
    "\n",
    "# 1. Train a model on the original data:\n",
    "# 2. Evaluate on the drifted data:\n",
    "# 3. Compare errors:\n",
    "\n",
    "import numpy as np\n",
    "import matplotlib.pyplot as plt\n",
    "from sklearn.linear_model import LinearRegression\n",
    "from sklearn.metrics import mean_squared_error\n",
    "\n",
    "# Step 1: Train a model on the original data\n",
    "np.random.seed(0)\n",
    "X_train = np.random.rand(100, 1) * 10  # Features from 0 to 10\n",
    "y_train = 3 * X_train + 5 + np.random.randn(100, 1)  # y = 3x + 5 + noise\n",
    "\n",
    "model = LinearRegression()\n",
    "model.fit(X_train, y_train)\n",
    "\n",
    "# Step 2: Evaluate on the drifted data\n",
    "# Simulate data drift: feature distribution changes (shift to 10-20)\n",
    "X_drifted = np.random.rand(100, 1) * 10 + 10  # Features from 10 to 20\n",
    "y_drifted = 3 * X_drifted + 5 + np.random.randn(100, 1)  # Same relationship\n",
    "\n",
    "# Predictions\n",
    "y_pred_original = model.predict(X_train)\n",
    "y_pred_drifted = model.predict(X_drifted)\n",
    "\n",
    "# Step 3: Compare errors\n",
    "mse_original = mean_squared_error(y_train, y_pred_original)\n",
    "mse_drifted = mean_squared_error(y_drifted, y_pred_drifted)\n",
    "\n",
    "print(f\"Mean Squared Error on original data: {mse_original:.2f}\")\n",
    "print(f\"Mean Squared Error on drifted data: {mse_drifted:.2f}\")\n",
    "\n",
    "# Plotting\n",
    "plt.figure(figsize=(12, 5))\n",
    "\n",
    "plt.subplot(1, 2, 1)\n",
    "plt.scatter(X_train, y_train, label=\"Original Data\")\n",
    "plt.plot(X_train, y_pred_original, color=\"red\", label=\"Model Prediction\")\n",
    "plt.title(\"Model on Original Data\")\n",
    "plt.xlabel(\"X\")\n",
    "plt.ylabel(\"y\")\n",
    "plt.legend()\n",
    "\n",
    "plt.subplot(1, 2, 2)\n",
    "plt.scatter(X_drifted, y_drifted, label=\"Drifted Data\", color=\"orange\")\n",
    "plt.plot(X_drifted, y_pred_drifted, color=\"red\", label=\"Model Prediction\")\n",
    "plt.title(\"Model on Drifted Data\")\n",
    "plt.xlabel(\"X\")\n",
    "plt.ylabel(\"y\")\n",
    "plt.legend()\n",
    "\n",
    "plt.tight_layout()\n",
    "plt.show()\n",
    "\n"
   ]
  },
  {
   "cell_type": "code",
   "execution_count": null,
   "metadata": {},
   "outputs": [],
   "source": [
    "# Monitoring Data Distribution Changes\n",
    "# Question: Use Python to monitor distribution changes in features to detect potential data drift.\n",
    "\n",
    "# 1. Calculate feature statistics (mean and standard deviation) for both original and drifted data:\n",
    "# 2. Compare statistics:\n",
    "# 3. Set thresholds to detect significant drift:\n",
    "\n",
    "\n"
   ]
  },
  {
   "cell_type": "code",
   "execution_count": null,
   "metadata": {},
   "outputs": [],
   "source": [
    "# Automating Data Quality Checks with Python\n",
    "# Question: Automate a basic data validation process using Python to ensure the dataset's\n",
    "# structural integrity.\n",
    "\n",
    "# 1. Define validation checks:\n",
    "# 2. Apply validation:\n",
    "\n",
    "\n"
   ]
  },
  {
   "cell_type": "code",
   "execution_count": null,
   "metadata": {},
   "outputs": [],
   "source": [
    "# Introducing Great Expectations for Data Validation\n",
    "# Question: Use Great Expectations to set up data validation checks for a dataset.\n",
    "\n",
    "# 1. Install Great Expectations:\n",
    "# 2. Create a new expectations suite:\n",
    "# 3. Load data and generate expectations:\n",
    "\n",
    "\n"
   ]
  },
  {
   "cell_type": "code",
   "execution_count": null,
   "metadata": {},
   "outputs": [],
   "source": [
    "# Automating Constraint Checks with Python\n",
    "# Question: Automate primary key and foreign key constraint checks using Python to ensure dataset compliance.\n",
    "\n",
    "\n",
    "# 1. Assuming datasets exist with primary and foreign key relationships in pandas dataframes employees_df and departments_df :\n",
    "\n",
    "\n"
   ]
  },
  {
   "cell_type": "code",
   "execution_count": null,
   "metadata": {},
   "outputs": [],
   "source": [
    "# Advanced Data Drift Detection using Statistical Tests\n",
    "# Question: Implement Kolmogorov-Smirnov test using Python to detect data drift at a more sophisticated level.\n",
    "\n",
    "# 1. Use SciPy to perform KS test:\n",
    "\n",
    "\n"
   ]
  }
 ],
 "metadata": {
  "kernelspec": {
   "display_name": "Python 3",
   "language": "python",
   "name": "python3"
  },
  "language_info": {
   "name": "python",
   "version": "3.10.12"
  }
 },
 "nbformat": 4,
 "nbformat_minor": 2
}
