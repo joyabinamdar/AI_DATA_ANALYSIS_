# Title: Data Manipulation with Pandas
# Description: Add a new column that calculates the ratio of petal length to petal width.

import pandas as pd

# Example dataset: petal_length and petal_width columns
data = {
    'petal_length': [1.4, 1.3, 1.5, 1.6, 1.7],
    'petal_width': [0.2, 0.2, 0.2, 0.3, 0.3]
}

# Create DataFrame
df = pd.DataFrame(data)

# Add a new column 'petal_ratio' by calculating the ratio of petal length to petal width
df['petal_ratio'] = df['petal_length'] / df['petal_width']

# Display the updated DataFrame
