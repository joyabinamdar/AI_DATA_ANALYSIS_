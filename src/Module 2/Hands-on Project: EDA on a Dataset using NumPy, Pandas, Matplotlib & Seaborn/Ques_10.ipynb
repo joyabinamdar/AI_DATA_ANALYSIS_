{
 "cells": [
  {
   "cell_type": "code",
   "execution_count": 3,
   "metadata": {},
   "outputs": [
    {
     "name": "stdout",
     "output_type": "stream",
     "text": [
      "Libraries imported successfully!\n"
     ]
    }
   ],
   "source": [
    "# Step 1: Set Up the Environment\n",
    "# Objective: Ensure you have the right tools and packages installed.\n",
    "\n",
    "# 1. Install the required libraries.\n",
    "# 2. Verify the installation by importing the libraries in a Python script or Jupyter notebook\n",
    "\n",
    "import pandas as pd\n",
    "import numpy as np\n",
    "import matplotlib.pyplot as plt\n",
    "import seaborn as sns\n",
    "\n",
    "print(\"Libraries imported successfully!\")\n",
    "\n",
    "\n",
    "\n",
    "\n",
    "# Step 2: Load & Explore the Dataset\n",
    "# Objective: Load data into a pandas DataFrame and obtain a basic understanding of its structure.\n",
    "\n",
    "# 3. Load a CSV file into a DataFrame.\n",
    "# 4. Display the first few records to understand the structure.\n",
    "# 5. Get a summary of the dataset.\n",
    "\n",
    "\n",
    "\n",
    "\n",
    "\n",
    "\n",
    "# Step 3: Perform NumPy Operations\n",
    "# Objective: Utilize NumPy for basic numerical operations and array manipulations.\n",
    "\n",
    "# 6. Convert a DataFrame column to a NumPy array and perform array operations like mean and sum.\n",
    "# 7. Create a NumPy array and calculate the variance and standard deviation.\n",
    "# 8. Use NumPy to filter based on conditions.\n",
    "\n",
    "\n",
    "\n",
    "\n",
    "\n",
    "\n",
    "\n",
    "\n",
    "# Step 4: Data Manipulation with Pandas\n",
    "# Objective: Use Pandas to clean and manipulate dataset for analysis.\n",
    "\n",
    "# 9. Handle missing data by filling or dropping.\n",
    "# 10. Create new columns or modify existing ones.\n",
    "# 11. Use groupby to aggregate data.\n",
    "\n",
    "\n",
    "\n",
    "\n",
    "\n",
    "\n",
    "\n",
    "# Step 5: Data Visualization with Matplotlib & Seaborn\n",
    "# Objective: Visualize the data to identify patterns, trends, and insights.\n",
    "\n",
    "# 12. Use Matplotlib to create a basic plot.\n",
    "# 13. Create a histogram using Seaborn.\n",
    "# 14. Plot a box plot for a clear view of data distribution.\n",
    "\n",
    "\n",
    "\n",
    "\n",
    "\n"
   ]
  }
 ],
 "metadata": {
  "kernelspec": {
   "display_name": "Python 3",
   "language": "python",
   "name": "python3"
  },
  "language_info": {
   "codemirror_mode": {
    "name": "ipython",
    "version": 3
   },
   "file_extension": ".py",
   "mimetype": "text/x-python",
   "name": "python",
   "nbconvert_exporter": "python",
   "pygments_lexer": "ipython3",
   "version": "3.10.12"
  }
 },
 "nbformat": 4,
 "nbformat_minor": 2
}
