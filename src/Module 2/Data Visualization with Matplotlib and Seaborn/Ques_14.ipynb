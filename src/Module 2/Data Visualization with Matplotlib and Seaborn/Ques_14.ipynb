{
 "cells": [
  {
   "cell_type": "code",
   "execution_count": null,
   "metadata": {},
   "outputs": [],
   "source": [
    "# Styling with Matplotlib - Line Plot\n",
    "# Objective: Create a line plot with customized styles using Matplotlib.\n",
    "import matplotlib.pyplot as plt\n",
    "\n",
    "# Data\n",
    "x = [1, 2, 3, 4, 5]\n",
    "y = [2, 3, 5, 7, 11]\n",
    "\n",
    "# Create a line plot with custom styles\n",
    "plt.plot(\n",
    "    x, y,\n",
    "    color='darkorange',      # Line color\n",
    "    linewidth=2.5,           # Line width\n",
    "    linestyle='--',          # Dashed line style\n",
    "    marker='o',              # Circular markers\n",
    "    markersize=8,            # Marker size\n",
    "    markerfacecolor='blue', # Marker fill color\n",
    "    markeredgecolor='black' # Marker border color\n",
    ")\n",
    "\n",
    "# Add labels and title\n",
    "plt.title('Customized Line Plot')\n",
    "plt.xlabel('X Axis')\n",
    "plt.ylabel('Y Axis')\n",
    "\n",
    "# Add grid\n",
    "plt.grid(True, linestyle=':', color='gray', alpha=0.7)\n",
    "\n",
    "# Show the plot\n",
    "plt.show()\n"
   ]
  }
 ],
 "metadata": {
  "kernelspec": {
   "display_name": "Python 3",
   "language": "python",
   "name": "python3"
  },
  "language_info": {
   "name": "python",
   "version": "3.10.12"
  }
 },
 "nbformat": 4,
 "nbformat_minor": 2
}
