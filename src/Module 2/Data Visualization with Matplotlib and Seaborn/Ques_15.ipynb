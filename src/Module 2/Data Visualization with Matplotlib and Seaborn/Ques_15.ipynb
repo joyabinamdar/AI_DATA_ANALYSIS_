
    "# Seaborn Plot - Heatmap\n",
    "# Objective: Create a heatmap to visualize a correlation matrix with Seaborn, using\n",
    "# advanced styling."

import seaborn as sns
import matplotlib.pyplot as plt
import numpy as np

# Example data: Correlation matrix (you can replace this with your own data)
data = sns.load_dataset('iris')  # Using the Iris dataset as an example
correlation_matrix = data.corr()  # Calculate the correlation matrix

# Create the heatmap with advanced styling
plt.figure(figsize=(10, 8))
sns.heatmap(correlation_matrix, annot=True, cmap='coolwarm', fmt='.2f', linewidths=0.5, 
            linecolor='black', cbar_kws={'shrink': 0.8}, annot_kws={'size': 12})

# Add title
plt.title('Correlation Matrix Heatmap', fontsize=16)

# Show the plot
plt.show()
